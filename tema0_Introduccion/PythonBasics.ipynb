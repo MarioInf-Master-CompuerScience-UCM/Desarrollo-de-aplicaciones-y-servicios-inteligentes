{
 "cells": [
  {
   "cell_type": "markdown",
   "metadata": {},
   "source": [
    "# Sintaxis basica de **Python**. Primeros pasos\n",
    "---"
   ]
  },
  {
   "cell_type": "markdown",
   "metadata": {},
   "source": [
    "Este material se ha elaborado para la asignatura de _Desarrollo de Aplicaciones y Servicios Inteligentes_ del _Máster en Ingeniería Informática_ a partir de material creado por el profesor **Juan Pavón (FdI-UCM)** y modificado y ampliado por el profesor **Gonzalo Méndez (FdI-UCM)** y que se distribuye con licencia **Creative Commons Attribution-ShareAlike 4.0 International License**  \n",
    "<img src=\"./img/ucm.gif\" width=\"300\" style=\"padding: 10px\"> <img src=\"./img/CC-BY-SA_icon.png\" width=\"200\" style=\"padding: 10px\">"
   ]
  },
  {
   "cell_type": "markdown",
   "metadata": {},
   "source": [
    "## Hola, Mundo"
   ]
  },
  {
   "cell_type": "code",
   "execution_count": 1,
   "metadata": {},
   "outputs": [
    {
     "name": "stdout",
     "output_type": "stream",
     "text": [
      "Hello, World!\n"
     ]
    }
   ],
   "source": [
    "print(\"Hello, World!\")"
   ]
  },
  {
   "cell_type": "markdown",
   "metadata": {},
   "source": [
    "## Imprimir en varias lineas\n",
    "<img src=\"./img/holaTodos.png\" width=300>"
   ]
  },
  {
   "cell_type": "code",
   "execution_count": 2,
   "metadata": {},
   "outputs": [
    {
     "name": "stdout",
     "output_type": "stream",
     "text": [
      "Hola a todos\n",
      "Bienvenidos al curso de Python\n",
      "Aquí se acaba el programa.\n"
     ]
    }
   ],
   "source": [
    "print(\"Hola a todos\")\n",
    "print(\"Bienvenidos al curso de Python\")\n",
    "print(\"Aquí se acaba el programa.\")"
   ]
  },
  {
   "cell_type": "markdown",
   "metadata": {},
   "source": [
    "## Imprimir operaciones matematicas\n",
    "<img src =\"./img/imprimirOpMath.png\" width=300>"
   ]
  },
  {
   "cell_type": "code",
   "execution_count": 3,
   "metadata": {},
   "outputs": [
    {
     "name": "stdout",
     "output_type": "stream",
     "text": [
      "2+2 son 4\n"
     ]
    }
   ],
   "source": [
    "print (\"2+2 son\", 2+2)"
   ]
  },
  {
   "cell_type": "markdown",
   "metadata": {},
   "source": [
    "## Ejemplos de operaciones matemáticas"
   ]
  },
  {
   "cell_type": "code",
   "execution_count": 4,
   "metadata": {},
   "outputs": [
    {
     "name": "stdout",
     "output_type": "stream",
     "text": [
      "4\n",
      "2.0\n",
      "6.0\n",
      "6.0\n",
      "1024\n"
     ]
    }
   ],
   "source": [
    "print(2+2)\n",
    "print((2+4)/3)\n",
    "print((3/2)*4)\n",
    "print((3/2.0)*4)\n",
    "print(2**10)"
   ]
  },
  {
   "cell_type": "markdown",
   "metadata": {},
   "source": [
    "## Ejemplos de operaciones lógicas"
   ]
  },
  {
   "cell_type": "code",
   "execution_count": 5,
   "metadata": {},
   "outputs": [
    {
     "name": "stdout",
     "output_type": "stream",
     "text": [
      "False\n",
      "False\n",
      "True\n"
     ]
    }
   ],
   "source": [
    "print(2 > 3)\n",
    "print(not True)\n",
    "print(\"a\" in \"hola\")"
   ]
  },
  {
   "cell_type": "markdown",
   "metadata": {},
   "source": [
    "## Ejercicios\n",
    "### 1. Haz un programa que escriba tu nombre y fecha de cumpleaños"
   ]
  },
  {
   "cell_type": "code",
   "execution_count": 6,
   "metadata": {},
   "outputs": [],
   "source": [
    "print(\"Juan Palomo\",\"01/01/1970\")"
   ]
  },
  {
   "cell_type": "markdown",
   "metadata": {},
   "source": [
    "### 2. Haz un programa que calcule e imprima el coste total de un artículo de valor 15,20€, al que hay que sumar un 21% de IVA"
   ]
  },
  {
   "cell_type": "code",
   "execution_count": 6,
   "metadata": {},
   "outputs": [
    {
     "name": "stdout",
     "output_type": "stream",
     "text": [
      "Juan Palomo 01/01/1970\n",
      "El coste total del artículo es 18.392 €\n"
     ]
    }
   ],
   "source": [
    "print(\"El coste total del artículo es\",15.20*1.21,\"€\")"
   ]
  },
  {
   "cell_type": "markdown",
   "metadata": {},
   "source": [
    "## Funciones. Ejemplo de operaciones matemáticas con la librería math"
   ]
  },
  {
   "cell_type": "code",
   "execution_count": 10,
   "metadata": {},
   "outputs": [
    {
     "name": "stdout",
     "output_type": "stream",
     "text": [
      "La circunferencia con radio 20 mide: 125.66370614359172\n",
      "Y su área es: 1256.6370614359173\n",
      "La raíz cuadrada de 16 es: 4.0\n"
     ]
    }
   ],
   "source": [
    "import math\n",
    "\n",
    "print(\"La circunferencia con radio 20 mide:\",2 * math.pi * 20)\n",
    "\n",
    "print(\"Y su área es:\",math.pi * 20**2)\n",
    "\n",
    "print(\"La raíz cuadrada de 16 es:\",math.sqrt(16))"
   ]
  },
  {
   "cell_type": "markdown",
   "metadata": {},
   "source": [
    "## Ejercicios"
   ]
  },
  {
   "cell_type": "markdown",
   "metadata": {},
   "source": [
    "### 1. Raiz cuadrada de 25"
   ]
  },
  {
   "cell_type": "code",
   "execution_count": 11,
   "metadata": {},
   "outputs": [
    {
     "name": "stdout",
     "output_type": "stream",
     "text": [
      "Raiz cuadrada de 25: 5.0\n"
     ]
    }
   ],
   "source": [
    "print(\"Raiz cuadrada de 25:\",math.sqrt(25))"
   ]
  },
  {
   "cell_type": "markdown",
   "metadata": {},
   "source": [
    "### 2. Area de un rectangulo de 10.2x14.3, redondeando a un decimal"
   ]
  },
  {
   "cell_type": "code",
   "execution_count": 12,
   "metadata": {},
   "outputs": [
    {
     "name": "stdout",
     "output_type": "stream",
     "text": [
      "Area de un rectangulo de 10.2x14.3, redondeando a un decimal: 145.9\n"
     ]
    }
   ],
   "source": [
    "print(\"Area de un rectangulo de 10.2x14.3, redondeando a un decimal:\",round(10.2*14.3,1))"
   ]
  },
  {
   "cell_type": "markdown",
   "metadata": {},
   "source": [
    "### 3. Area de un cilindro de radio 5 y altura 22, redondeado con 2 decimales"
   ]
  },
  {
   "cell_type": "code",
   "execution_count": 13,
   "metadata": {},
   "outputs": [
    {
     "name": "stdout",
     "output_type": "stream",
     "text": [
      "Area de un cilindro de radio 5 y altura 22, redondeado con 2 decimales: 1727.88\n"
     ]
    }
   ],
   "source": [
    "print(\"Area de un cilindro de radio 5 y altura 22, redondeado con 2 decimales:\",round(22*math.pi*5**2,2))"
   ]
  },
  {
   "cell_type": "markdown",
   "metadata": {},
   "source": [
    "### 4. Factorial de 7 (7!)"
   ]
  },
  {
   "cell_type": "code",
   "execution_count": 14,
   "metadata": {},
   "outputs": [
    {
     "name": "stdout",
     "output_type": "stream",
     "text": [
      "7! = 5040\n"
     ]
    }
   ],
   "source": [
    "print(\"7! =\",math.factorial(7))"
   ]
  },
  {
   "cell_type": "markdown",
   "metadata": {},
   "source": [
    "### 5. Logaritmo en base 2 de 32"
   ]
  },
  {
   "cell_type": "code",
   "execution_count": 15,
   "metadata": {},
   "outputs": [
    {
     "name": "stdout",
     "output_type": "stream",
     "text": [
      "log(2,32) = 5.0\n"
     ]
    }
   ],
   "source": [
    "print(\"log(2,32) =\",math.log(32,2))"
   ]
  },
  {
   "cell_type": "markdown",
   "metadata": {},
   "source": [
    "### 6. Seno de 270"
   ]
  },
  {
   "cell_type": "code",
   "execution_count": 16,
   "metadata": {},
   "outputs": [
    {
     "name": "stdout",
     "output_type": "stream",
     "text": [
      "Seno de 270 = -1.0\n"
     ]
    }
   ],
   "source": [
    "print(\"Seno de 270 =\",math.sin(math.radians(270)))"
   ]
  },
  {
   "cell_type": "markdown",
   "metadata": {},
   "source": [
    "## Variables\n",
    "### Asignación"
   ]
  },
  {
   "cell_type": "markdown",
   "metadata": {},
   "source": [
    "* operación de asignación"
   ]
  },
  {
   "cell_type": "code",
   "execution_count": 18,
   "metadata": {},
   "outputs": [],
   "source": [
    "nombre = \"Juan\"\n",
    "x = 12\n",
    "y = 4"
   ]
  },
  {
   "cell_type": "markdown",
   "metadata": {},
   "source": [
    "* Se puede usar el nombre de la variable para acceder a su valor"
   ]
  },
  {
   "cell_type": "code",
   "execution_count": 19,
   "metadata": {},
   "outputs": [
    {
     "name": "stdout",
     "output_type": "stream",
     "text": [
      "Juan\n",
      "16\n",
      "sqrt(y) = 3.63318042491699\n"
     ]
    }
   ],
   "source": [
    "print(nombre)\n",
    "print(x+y)\n",
    "y = 1.2 + x\n",
    "z = math.sqrt(y)\n",
    "print(\"sqrt(y) =\",z)"
   ]
  },
  {
   "cell_type": "markdown",
   "metadata": {},
   "source": [
    "* Variables referenciando al mismo valor de memoria\n",
    "\n",
    "<img src=\"./img/asignacion.png\" width=300>"
   ]
  },
  {
   "cell_type": "code",
   "execution_count": 10,
   "metadata": {},
   "outputs": [
    {
     "name": "stdout",
     "output_type": "stream",
     "text": [
      "2\n",
      "2\n",
      "2\n",
      "Hola\n"
     ]
    }
   ],
   "source": [
    "a=2\n",
    "print(a)\n",
    "\n",
    "b=a\n",
    "print(b)\n",
    "\n",
    "c=a\n",
    "print(c)\n",
    "\n",
    "a=\"Hola\"\n",
    "print(a)"
   ]
  },
  {
   "cell_type": "markdown",
   "metadata": {},
   "source": [
    "* Se puede usar una variable en varias partes de una sentencia"
   ]
  },
  {
   "cell_type": "code",
   "execution_count": 121,
   "metadata": {},
   "outputs": [
    {
     "name": "stdout",
     "output_type": "stream",
     "text": [
      "4\n",
      "6\n"
     ]
    }
   ],
   "source": [
    "x = 4\n",
    "print(x)\n",
    "x = x + 2\n",
    "print(x)"
   ]
  },
  {
   "cell_type": "markdown",
   "metadata": {},
   "source": [
    "* Se pueden hacer varias asignaciones a la vez"
   ]
  },
  {
   "cell_type": "code",
   "execution_count": 122,
   "metadata": {},
   "outputs": [
    {
     "name": "stdout",
     "output_type": "stream",
     "text": [
      "x = 2 , y = 2 , z = 2\n",
      "x = 1 , y = Juan , z = 2\n"
     ]
    }
   ],
   "source": [
    "x = y = z = 2\n",
    "print(\"x =\",x,\", y =\",y,\", z =\",z)\n",
    "      \n",
    "x, y, z = 1, \"Juan\", 2\n",
    "print(\"x =\",x,\", y =\",y,\", z =\",z)\n",
    "            "
   ]
  },
  {
   "cell_type": "markdown",
   "metadata": {},
   "source": [
    "* Eliminar una variable con la sentencia _**del**_"
   ]
  },
  {
   "cell_type": "code",
   "execution_count": 123,
   "metadata": {},
   "outputs": [
    {
     "name": "stdout",
     "output_type": "stream",
     "text": [
      "a = 3\n"
     ]
    },
    {
     "ename": "NameError",
     "evalue": "name 'a' is not defined",
     "output_type": "error",
     "traceback": [
      "\u001b[1;31m---------------------------------------------------------------------------\u001b[0m",
      "\u001b[1;31mNameError\u001b[0m                                 Traceback (most recent call last)",
      "\u001b[1;32m<ipython-input-123-734e15719db4>\u001b[0m in \u001b[0;36m<module>\u001b[1;34m\u001b[0m\n\u001b[0;32m      2\u001b[0m \u001b[0mprint\u001b[0m\u001b[1;33m(\u001b[0m\u001b[1;34m\"a =\"\u001b[0m\u001b[1;33m,\u001b[0m\u001b[0ma\u001b[0m\u001b[1;33m)\u001b[0m\u001b[1;33m\u001b[0m\u001b[1;33m\u001b[0m\u001b[0m\n\u001b[0;32m      3\u001b[0m \u001b[1;32mdel\u001b[0m \u001b[0ma\u001b[0m\u001b[1;33m\u001b[0m\u001b[1;33m\u001b[0m\u001b[0m\n\u001b[1;32m----> 4\u001b[1;33m \u001b[0mprint\u001b[0m\u001b[1;33m(\u001b[0m\u001b[1;34m\"a =\"\u001b[0m\u001b[1;33m,\u001b[0m\u001b[0ma\u001b[0m\u001b[1;33m)\u001b[0m \u001b[1;31m#ERROR\u001b[0m\u001b[1;33m\u001b[0m\u001b[1;33m\u001b[0m\u001b[0m\n\u001b[0m",
      "\u001b[1;31mNameError\u001b[0m: name 'a' is not defined"
     ]
    }
   ],
   "source": [
    "a = 3\n",
    "print(\"a =\",a)\n",
    "del a\n",
    "print(\"a =\",a) #ERROR"
   ]
  },
  {
   "cell_type": "markdown",
   "metadata": {},
   "source": [
    "## Ejercicio"
   ]
  },
  {
   "cell_type": "code",
   "execution_count": 12,
   "metadata": {},
   "outputs": [
    {
     "name": "stdout",
     "output_type": "stream",
     "text": [
      "6\n",
      "a\n",
      "Hola\n"
     ]
    },
    {
     "ename": "NameError",
     "evalue": "name 'a' is not defined",
     "output_type": "error",
     "traceback": [
      "\u001b[1;31m---------------------------------------------------------------------------\u001b[0m",
      "\u001b[1;31mNameError\u001b[0m                                 Traceback (most recent call last)",
      "\u001b[1;32m<ipython-input-12-39aa0b5dfb22>\u001b[0m in \u001b[0;36m<module>\u001b[1;34m\u001b[0m\n\u001b[0;32m      8\u001b[0m \u001b[0mb\u001b[0m \u001b[1;33m=\u001b[0m \u001b[0ms\u001b[0m\u001b[1;33m\u001b[0m\u001b[1;33m\u001b[0m\u001b[0m\n\u001b[0;32m      9\u001b[0m \u001b[0mprint\u001b[0m\u001b[1;33m(\u001b[0m\u001b[0mb\u001b[0m\u001b[1;33m)\u001b[0m\u001b[1;33m\u001b[0m\u001b[1;33m\u001b[0m\u001b[0m\n\u001b[1;32m---> 10\u001b[1;33m \u001b[0mb\u001b[0m \u001b[1;33m=\u001b[0m \u001b[0ma\u001b[0m \u001b[1;31m#ERROR\u001b[0m\u001b[1;33m\u001b[0m\u001b[1;33m\u001b[0m\u001b[0m\n\u001b[0m\u001b[0;32m     11\u001b[0m \u001b[0mprint\u001b[0m\u001b[1;33m(\u001b[0m\u001b[0mb\u001b[0m\u001b[1;33m)\u001b[0m\u001b[1;33m\u001b[0m\u001b[1;33m\u001b[0m\u001b[0m\n",
      "\u001b[1;31mNameError\u001b[0m: name 'a' is not defined"
     ]
    }
   ],
   "source": [
    "a = 3\n",
    "a = a * 2\n",
    "print(a)\n",
    "del a\n",
    "print(\"a\")\n",
    "s = \"Hola\"\n",
    "b = s\n",
    "print(b)\n",
    "b = a #ERROR\n",
    "print(b)"
   ]
  },
  {
   "cell_type": "markdown",
   "metadata": {},
   "source": [
    "## Leer la entrada del usuario\n",
    "* Se puede pedir datos al usuario en la consola y guardar su respuesta con el método **input()**"
   ]
  },
  {
   "cell_type": "code",
   "execution_count": 1,
   "metadata": {},
   "outputs": [
    {
     "name": "stdin",
     "output_type": "stream",
     "text": [
      "Dime tu nombre:  Gonzalo\n"
     ]
    },
    {
     "name": "stdout",
     "output_type": "stream",
     "text": [
      "Te llamas  Gonzalo\n"
     ]
    }
   ],
   "source": [
    "nombre = input(\"Dime tu nombre: \")\n",
    "print(\"Te llamas \", nombre)"
   ]
  },
  {
   "cell_type": "markdown",
   "metadata": {},
   "source": [
    "* Si son números habrá que convertir el texto (que se lee con **input()**)  a un número con la función **eval()**"
   ]
  },
  {
   "cell_type": "code",
   "execution_count": 2,
   "metadata": {},
   "outputs": [
    {
     "name": "stdin",
     "output_type": "stream",
     "text": [
      "Dime un número:  3\n"
     ]
    },
    {
     "name": "stdout",
     "output_type": "stream",
     "text": [
      "El cuadrado de 3 es 9\n"
     ]
    }
   ],
   "source": [
    "numero = eval(input(\"Dime un número: \"))\n",
    "print(\"El cuadrado de\", numero, \"es\", numero**2)"
   ]
  },
  {
   "cell_type": "markdown",
   "metadata": {},
   "source": [
    "* ¿Qué pasa si en vez de un número escribimos letras?"
   ]
  },
  {
   "cell_type": "code",
   "execution_count": 4,
   "metadata": {},
   "outputs": [
    {
     "name": "stdin",
     "output_type": "stream",
     "text": [
      "Dime un número:  tres\n"
     ]
    },
    {
     "ename": "NameError",
     "evalue": "name 'tres' is not defined",
     "output_type": "error",
     "traceback": [
      "\u001b[1;31m---------------------------------------------------------------------------\u001b[0m",
      "\u001b[1;31mNameError\u001b[0m                                 Traceback (most recent call last)",
      "\u001b[1;32m<ipython-input-4-d6427a1b6f68>\u001b[0m in \u001b[0;36m<module>\u001b[1;34m\u001b[0m\n\u001b[1;32m----> 1\u001b[1;33m \u001b[0mnumero\u001b[0m \u001b[1;33m=\u001b[0m \u001b[0meval\u001b[0m\u001b[1;33m(\u001b[0m\u001b[0minput\u001b[0m\u001b[1;33m(\u001b[0m\u001b[1;34m\"Dime un número: \"\u001b[0m\u001b[1;33m)\u001b[0m\u001b[1;33m)\u001b[0m \u001b[1;31m#ERROR\u001b[0m\u001b[1;33m\u001b[0m\u001b[1;33m\u001b[0m\u001b[0m\n\u001b[0m\u001b[0;32m      2\u001b[0m \u001b[0mprint\u001b[0m\u001b[1;33m(\u001b[0m\u001b[1;34m\"El cuadrado de\"\u001b[0m\u001b[1;33m,\u001b[0m \u001b[0mnumero\u001b[0m\u001b[1;33m,\u001b[0m \u001b[1;34m\"es\"\u001b[0m\u001b[1;33m,\u001b[0m \u001b[0mnumero\u001b[0m\u001b[1;33m**\u001b[0m\u001b[1;36m2\u001b[0m\u001b[1;33m)\u001b[0m\u001b[1;33m\u001b[0m\u001b[1;33m\u001b[0m\u001b[0m\n",
      "\u001b[1;32m<string>\u001b[0m in \u001b[0;36m<module>\u001b[1;34m\u001b[0m\n",
      "\u001b[1;31mNameError\u001b[0m: name 'tres' is not defined"
     ]
    }
   ],
   "source": [
    "numero = eval(input(\"Dime un número: \")) #ERROR\n",
    "print(\"El cuadrado de\", numero, \"es\", numero**2)"
   ]
  },
  {
   "cell_type": "markdown",
   "metadata": {},
   "source": [
    "## Ejercicios"
   ]
  },
  {
   "cell_type": "markdown",
   "metadata": {},
   "source": [
    "### 1. Haz un programa que lea tu nombre y tus apellidos y los imprima"
   ]
  },
  {
   "cell_type": "code",
   "execution_count": 6,
   "metadata": {},
   "outputs": [
    {
     "name": "stdin",
     "output_type": "stream",
     "text": [
      "Dime tu nombre:  Gonzalo\n",
      "Dime tu primer apellido:  Méndez\n",
      "Dime tu segundo apellido:  Pozo\n"
     ]
    },
    {
     "name": "stdout",
     "output_type": "stream",
     "text": [
      "Te llamas  Gonzalo Méndez Pozo\n"
     ]
    }
   ],
   "source": [
    "nombre = input(\"Dime tu nombre: \")\n",
    "apellido1 = input(\"Dime tu primer apellido: \")\n",
    "apellido2 = input(\"Dime tu segundo apellido: \")\n",
    "print(\"Te llamas \", nombre, apellido1, apellido2)"
   ]
  },
  {
   "cell_type": "markdown",
   "metadata": {},
   "source": [
    "### 2. Haz un programa que lea dos números e imprima su suma, su resta y su multiplicación"
   ]
  },
  {
   "cell_type": "code",
   "execution_count": 15,
   "metadata": {},
   "outputs": [
    {
     "name": "stdin",
     "output_type": "stream",
     "text": [
      "Dime un número:  65\n",
      "Dime otro número:  23\n"
     ]
    },
    {
     "name": "stdout",
     "output_type": "stream",
     "text": [
      "65 + 23 = 88\n",
      "65 - 23 = 42\n",
      "65 * 23 = 1495\n"
     ]
    }
   ],
   "source": [
    "numero1 = eval(input(\"Dime un número: \"))\n",
    "numero2 = eval(input(\"Dime otro número: \"))\n",
    "print(numero1,\"+\",numero2, \"=\", numero1+numero2)\n",
    "print(numero1,\"-\",numero2, \"=\", numero1-numero2)\n",
    "print(numero1,\"*\",numero2, \"=\", numero1*numero2)"
   ]
  },
  {
   "cell_type": "markdown",
   "metadata": {},
   "source": [
    "### 3. Escribe un programa que lea un número n y calcule la suma de los n primeros números naturales "
   ]
  },
  {
   "cell_type": "code",
   "execution_count": 16,
   "metadata": {},
   "outputs": [
    {
     "name": "stdin",
     "output_type": "stream",
     "text": [
      "Dime un numero: 143\n"
     ]
    },
    {
     "name": "stdout",
     "output_type": "stream",
     "text": [
      "La suma de los 143 primeros números naturales es 10296.0\n"
     ]
    }
   ],
   "source": [
    "n=eval(input(\"Dime un numero:\"))\n",
    "print(\"La suma de los\", n, \"primeros números naturales es\",n*(n+1)/2)"
   ]
  },
  {
   "cell_type": "markdown",
   "metadata": {},
   "source": [
    "### 4. Escribe un programa que pida la cuenta de una comida, que pida el número de comensales y que calcule cuánto le corresponde pagar a cada uno, redondeando por arriba para dejar algo de propina"
   ]
  },
  {
   "cell_type": "code",
   "execution_count": 17,
   "metadata": {},
   "outputs": [
    {
     "name": "stdin",
     "output_type": "stream",
     "text": [
      "Dime el coste de la comida:  250\n",
      "Dime el número de comensales:  7\n"
     ]
    },
    {
     "name": "stdout",
     "output_type": "stream",
     "text": [
      "Cada uno debe pagar 36 €\n"
     ]
    }
   ],
   "source": [
    "totalCuenta=eval(input(\"Dime el coste de la comida: \"))\n",
    "numComensales=eval(input(\"Dime el número de comensales: \"))\n",
    "print(\"Cada uno debe pagar\",math.ceil(totalCuenta/numComensales),\"€\")"
   ]
  },
  {
   "cell_type": "markdown",
   "metadata": {},
   "source": [
    "### 5. Si el equivalente a un kilo son 2.204 libras, haz un programa que pida el peso en kilos y lo devuelva en libras"
   ]
  },
  {
   "cell_type": "code",
   "execution_count": 18,
   "metadata": {},
   "outputs": [
    {
     "name": "stdin",
     "output_type": "stream",
     "text": [
      "Dame el peso en kilos: 136\n"
     ]
    },
    {
     "name": "stdout",
     "output_type": "stream",
     "text": [
      "El peso en libras de 136 kilos es 61.71\n"
     ]
    }
   ],
   "source": [
    "numKilos=eval(input(\"Dame el peso en kilos:\"))\n",
    "print(\"El peso en libras de\",numKilos,\"kilos es\",round(numKilos/2.204,2))"
   ]
  },
  {
   "cell_type": "markdown",
   "metadata": {},
   "source": [
    "## Tipo de las variables\n",
    "* Se puede conocer el tipo de una variable con la función type()"
   ]
  },
  {
   "cell_type": "code",
   "execution_count": 20,
   "metadata": {},
   "outputs": [
    {
     "name": "stdout",
     "output_type": "stream",
     "text": [
      "<class 'str'>\n",
      "<class 'int'>\n"
     ]
    }
   ],
   "source": [
    "print(type(nombre))\n",
    "print(type(numKilos))"
   ]
  },
  {
   "cell_type": "markdown",
   "metadata": {},
   "source": [
    "* Es posible cambiar el tipo de una variable o una expresión a int, float, bool, str mediante funciones de casting"
   ]
  },
  {
   "cell_type": "code",
   "execution_count": 22,
   "metadata": {},
   "outputs": [
    {
     "name": "stdout",
     "output_type": "stream",
     "text": [
      "int(23.3) 23\n",
      "float(5) 5.0\n",
      "12 + 3.4 15.4\n",
      "float(12 + 3.4) 15.4\n",
      "int(12 + 3.4) 15\n",
      "complex(3) (3+0j)\n",
      "str(2+2) 4\n",
      "bool(0) False\n",
      "bool(1) True\n",
      "bool(12) True\n",
      "bool(-3) True\n",
      "bool() False\n",
      "bool(\"Hola\") True\n",
      "str(True) True\n"
     ]
    }
   ],
   "source": [
    "print(\"int(23.3)\",int(23.3))\n",
    "print(\"float(5)\",float(5))\n",
    "print(\"12 + 3.4\",12 + 3.4)\n",
    "print(\"float(12 + 3.4)\",float(12 + 3.4))\n",
    "print(\"int(12 + 3.4)\",int(12 + 3.4))\n",
    "print(\"complex(3)\",complex(3))\n",
    "print(\"str(2+2)\",str(2+2))\n",
    "print(\"bool(0)\",bool(0))\n",
    "print(\"bool(1)\",bool(1))\n",
    "print(\"bool(12)\",bool(12))\n",
    "print(\"bool(-3)\",bool(-3))\n",
    "print(\"bool(\"\")\",bool(\"\"))\n",
    "print(\"bool(\\\"Hola\\\")\",bool(\"Hola\"))\n",
    "print(\"str(True)\",str(True))"
   ]
  },
  {
   "cell_type": "markdown",
   "metadata": {},
   "source": [
    "# Sintaxis basica de python\n",
    "## Sentencias \n",
    "* Cada una en una línea\n",
    "  + Si tiene que ocupar más de una línea se indica con **\\** para pasar a otra línea\n",
    "  + Si se usan **[]**, **{}** o **()** no hace falta poner **\\** para pasar a otra línea\n",
    "* Indentadas a la derecha si están dentro de otra sentencia o bloque \n",
    "  + Se suele usar dos o cuatro espacios\n",
    "  + Todas las líneas del bloque deben tener la misma indentación\n",
    "* Se pueden poner varias sentencias cortas en una línea, separadas por **;**\n",
    "  + Pero es mejor poner una sentencia en cada línea\n",
    "\n",
    "## Identificadores\n",
    "* Nombres de variables, funciones, clases, módulos u otros objetos\n",
    "* Empiezan por letra, A-Z , a-z o subrayado (_), seguido de ninguna o más letras, subrayados, o dígitos (0-9)\n",
    "  + No valen caracteres especiales como @, $, etc.\n",
    "  + Se distinguen las letras mayúsculas de minúsculas\n",
    "* Convención:\n",
    "  + Los identificadores de las clases comienzan con una mayúscula, el resto con minúscula\n",
    "  + Si empiezan con _ quiere decir que es privada, con 2 __ es muy privada\n",
    "  + Si empieza con __ y acaba con __ se trata de un nombre especial del lenguaje\n",
    "* Palabras reservadas del lenguaje:\n",
    "  _and, assert, break, class, continue, def, del, elif, else, except, exec, finally, for, from, global, if, import, in, is, lambda, not, or, pass, print, raise, return, try, while, with, yield_\n",
    "  \n",
    "## Comentarios\n",
    "* Es conveniente documentar el código\n",
    "  + Explicar decisiones\n",
    "  + Indicar quién ha escrito el código, la fecha, etc.\n",
    "  + Explicar de manera más entendible lo que hace el código\n",
    "* Los comentarios se escriben con el símbolo # \n",
    "\n",
    "\\#Esto es un comentario\n",
    "\n",
    "\\#Da igual lo que se ponga que no se ejecuta"
   ]
  },
  {
   "cell_type": "code",
   "execution_count": 7,
   "metadata": {},
   "outputs": [
    {
     "name": "stdout",
     "output_type": "stream",
     "text": [
      "Hola\n"
     ]
    }
   ],
   "source": [
    "print(\"Hola\") # Comentario al final de la línea"
   ]
  },
  {
   "cell_type": "markdown",
   "metadata": {},
   "source": [
    "* Se pueden hacer comentarios como strings de varias líneas (la primera y la última con 3 \")"
   ]
  },
  {
   "cell_type": "code",
   "execution_count": 8,
   "metadata": {},
   "outputs": [
    {
     "data": {
      "text/plain": [
       "'\\nComentario\\nmuy largo\\n'"
      ]
     },
     "execution_count": 8,
     "metadata": {},
     "output_type": "execute_result"
    }
   ],
   "source": [
    "\"\"\"\n",
    "Comentario\n",
    "muy largo\n",
    "\"\"\""
   ]
  },
  {
   "cell_type": "markdown",
   "metadata": {},
   "source": [
    "## Strings\n",
    "* Entre comillas simples o dobles"
   ]
  },
  {
   "cell_type": "code",
   "execution_count": 8,
   "metadata": {},
   "outputs": [
    {
     "name": "stdout",
     "output_type": "stream",
     "text": [
      "Hola, Mundo\n",
      "Hola, Mundo\n"
     ]
    }
   ],
   "source": [
    "print('Hola, Mundo')\n",
    "print(\"Hola, Mundo\")"
   ]
  },
  {
   "cell_type": "markdown",
   "metadata": {},
   "source": [
    "* Si hay un carácter especial (por ejemplo una comilla) se puede indicar precediéndolo con \\"
   ]
  },
  {
   "cell_type": "code",
   "execution_count": 9,
   "metadata": {},
   "outputs": [
    {
     "name": "stdout",
     "output_type": "stream",
     "text": [
      "That's all folks!\n",
      "That's all folks!\n"
     ]
    }
   ],
   "source": [
    "print(\"That's all folks!\")\n",
    "print('That\\'s all folks!')"
   ]
  },
  {
   "cell_type": "markdown",
   "metadata": {},
   "source": [
    "* Algunos caracteres especiales típicos"
   ]
  },
  {
   "cell_type": "code",
   "execution_count": 11,
   "metadata": {},
   "outputs": [
    {
     "name": "stdout",
     "output_type": "stream",
     "text": [
      "a\n",
      "a\n",
      "'\n",
      "a\ta\n",
      "\u0007\n",
      "E\n"
     ]
    }
   ],
   "source": [
    "print(\"a\\na\")   # salto de línea\n",
    "print('\\'')   # comilla\n",
    "print(\"a\\ta\")   # tabulador\n",
    "print('\\a')   # sonido de alerta\n",
    "print('\\x45') # caracter ASCII con valor hexadecimal nn"
   ]
  },
  {
   "cell_type": "markdown",
   "metadata": {},
   "source": [
    "* Diferencias de uso de comillas simples  (**'**), o dobles (**\"**)"
   ]
  },
  {
   "cell_type": "code",
   "execution_count": 14,
   "metadata": {},
   "outputs": [
    {
     "data": {
      "text/plain": [
       "'\"Don\\'t be afraid with Python\" dear friend.'"
      ]
     },
     "execution_count": 14,
     "metadata": {},
     "output_type": "execute_result"
    }
   ],
   "source": [
    "'\"Don\\'t be afraid with Python\" dear friend.'"
   ]
  },
  {
   "cell_type": "code",
   "execution_count": 15,
   "metadata": {},
   "outputs": [
    {
     "name": "stdout",
     "output_type": "stream",
     "text": [
      "\"Don't be afraid with Python\" dear friend.\n"
     ]
    }
   ],
   "source": [
    "print('\"Don\\'t be afraid with Python\" dear friend.')"
   ]
  },
  {
   "cell_type": "code",
   "execution_count": 17,
   "metadata": {},
   "outputs": [
    {
     "data": {
      "text/plain": [
       "'Primera línea.\\nSegunda línea.'"
      ]
     },
     "execution_count": 17,
     "metadata": {},
     "output_type": "execute_result"
    }
   ],
   "source": [
    "s = 'Primera línea.\\nSegunda línea.' # \\n salto de línea\n",
    "s"
   ]
  },
  {
   "cell_type": "code",
   "execution_count": 18,
   "metadata": {},
   "outputs": [
    {
     "name": "stdout",
     "output_type": "stream",
     "text": [
      "Primera línea.\n",
      "Segunda línea.\n"
     ]
    }
   ],
   "source": [
    "print(s)"
   ]
  },
  {
   "cell_type": "markdown",
   "metadata": {},
   "source": [
    "* **r** antes del string hace que no se interpreten los caracteres especiales (raw string)"
   ]
  },
  {
   "cell_type": "code",
   "execution_count": 19,
   "metadata": {},
   "outputs": [
    {
     "name": "stdout",
     "output_type": "stream",
     "text": [
      "C:\u0007lgun\n",
      "ombre\n",
      "C:\\algun\\nombre\n"
     ]
    }
   ],
   "source": [
    "print('C:\\algun\\nombre') # aquí se interpreta \\n\n",
    "print(r'C:\\algun\\nombre') # con r se indica que es raw string"
   ]
  },
  {
   "cell_type": "markdown",
   "metadata": {},
   "source": [
    "### Funciones sobre strings"
   ]
  },
  {
   "cell_type": "code",
   "execution_count": 20,
   "metadata": {},
   "outputs": [
    {
     "name": "stdout",
     "output_type": "stream",
     "text": [
      "4\n",
      "hola\n",
      "HOLA\n",
      "2.71828\n"
     ]
    }
   ],
   "source": [
    "print(len(\"Hola\"))\n",
    "print(\"Hola\".lower())\n",
    "print(\"Hola\".upper())\n",
    "print(str(2.71828))"
   ]
  },
  {
   "cell_type": "markdown",
   "metadata": {},
   "source": [
    "## Ejercicios\n",
    "### 1. Crea una variable texto con el string \"Este curso de Python me gusta.\" y prueba las distintas funciones"
   ]
  },
  {
   "cell_type": "code",
   "execution_count": 39,
   "metadata": {},
   "outputs": [
    {
     "name": "stdout",
     "output_type": "stream",
     "text": [
      "30\n",
      "este curso de python me gusta.\n",
      "ESTE CURSO DE PYTHON ME GUSTA.\n"
     ]
    }
   ],
   "source": [
    "s=\"Este curso de Python me gusta.\"\n",
    "print(len(s))\n",
    "print(s.lower())\n",
    "print(s.upper())"
   ]
  },
  {
   "cell_type": "markdown",
   "metadata": {},
   "source": [
    "### 2. En https://docs.python.org/3/library/stdtypes.html#string-methods están documentados todos los métodos para strings, prueba alguno más de los que aparecen aquí"
   ]
  },
  {
   "cell_type": "code",
   "execution_count": 40,
   "metadata": {},
   "outputs": [
    {
     "name": "stdout",
     "output_type": "stream",
     "text": [
      "3\n",
      "4\n",
      "2\n",
      "5\n",
      "3\n",
      "False\n",
      "Este Curso De Python Me Gusta.\n",
      "True\n",
      "Esti curso di Python mi gusta.\n",
      "Este curso de Python me gusta.\n",
      "eSTE CURSO DE pYTHON ME GUSTA.\n",
      "Este curso de Python me gusta.\n"
     ]
    }
   ],
   "source": [
    "print(s.count(\"e\"))\n",
    "print(s.lower().count(\"e\"))\n",
    "print(s.count(\"st\"))\n",
    "print(s.count(\" \"))\n",
    "print(s.find(\"e\"))\n",
    "print(s.istitle())\n",
    "print(s.title())\n",
    "print(s.title().istitle())\n",
    "print(s.replace('e','i'))\n",
    "print(s)\n",
    "print(s.swapcase())\n",
    "print(s.swapcase().swapcase())"
   ]
  },
  {
   "cell_type": "markdown",
   "metadata": {},
   "source": [
    "### Concatenación, que se indica con el símbolo **+**"
   ]
  },
  {
   "cell_type": "code",
   "execution_count": 36,
   "metadata": {},
   "outputs": [
    {
     "name": "stdout",
     "output_type": "stream",
     "text": [
      "Hola mundo\n",
      "Hola mundo\n"
     ]
    }
   ],
   "source": [
    "print(\"Hola \" + \"mundo\")\n",
    "v = \"Hola\"\n",
    "espacio = \" \"\n",
    "v = v + espacio + \"mundo\"\n",
    "print(v)"
   ]
  },
  {
   "cell_type": "markdown",
   "metadata": {},
   "source": [
    "* El método str() sirve para poder convertir lo que no es string y así poder concatenarlo"
   ]
  },
  {
   "cell_type": "code",
   "execution_count": 45,
   "metadata": {},
   "outputs": [
    {
     "name": "stdout",
     "output_type": "stream",
     "text": [
      "2 + 2 = 4\n"
     ]
    }
   ],
   "source": [
    "print(\"2 + 2 = \" + str(2+2))"
   ]
  },
  {
   "cell_type": "markdown",
   "metadata": {},
   "source": [
    "* Errores"
   ]
  },
  {
   "cell_type": "code",
   "execution_count": 46,
   "metadata": {},
   "outputs": [
    {
     "ename": "TypeError",
     "evalue": "can only concatenate str (not \"int\") to str",
     "output_type": "error",
     "traceback": [
      "\u001b[1;31m---------------------------------------------------------------------------\u001b[0m",
      "\u001b[1;31mTypeError\u001b[0m                                 Traceback (most recent call last)",
      "\u001b[1;32m<ipython-input-46-f1c37c04c043>\u001b[0m in \u001b[0;36m<module>\u001b[1;34m\u001b[0m\n\u001b[0;32m      1\u001b[0m \u001b[1;31m#Errores\u001b[0m\u001b[1;33m\u001b[0m\u001b[1;33m\u001b[0m\u001b[1;33m\u001b[0m\u001b[0m\n\u001b[1;32m----> 2\u001b[1;33m \u001b[0mprint\u001b[0m\u001b[1;33m(\u001b[0m\u001b[1;34m\"2 + 2 = \"\u001b[0m \u001b[1;33m+\u001b[0m \u001b[1;36m2\u001b[0m\u001b[1;33m+\u001b[0m\u001b[1;36m2\u001b[0m \u001b[1;33m)\u001b[0m\u001b[1;33m\u001b[0m\u001b[1;33m\u001b[0m\u001b[0m\n\u001b[0m\u001b[0;32m      3\u001b[0m \u001b[0mprint\u001b[0m\u001b[1;33m(\u001b[0m\u001b[1;34m\"2 + 2 = \"\u001b[0m \u001b[1;33m+\u001b[0m \u001b[1;36m4\u001b[0m\u001b[1;33m)\u001b[0m\u001b[1;33m\u001b[0m\u001b[1;33m\u001b[0m\u001b[0m\n",
      "\u001b[1;31mTypeError\u001b[0m: can only concatenate str (not \"int\") to str"
     ]
    }
   ],
   "source": [
    "print(\"2 + 2 = \" + 2+2 )\n",
    "print(\"2 + 2 = \" + 4)"
   ]
  },
  {
   "cell_type": "markdown",
   "metadata": {},
   "source": [
    "### Strings como arrays de caracteres\n",
    "* Se puede acceder a caracteres concretos de un string"
   ]
  },
  {
   "cell_type": "code",
   "execution_count": 21,
   "metadata": {},
   "outputs": [
    {
     "name": "stdout",
     "output_type": "stream",
     "text": [
      "M\n",
      "s\n"
     ]
    },
    {
     "ename": "IndexError",
     "evalue": "string index out of range",
     "output_type": "error",
     "traceback": [
      "\u001b[1;31m---------------------------------------------------------------------------\u001b[0m",
      "\u001b[1;31mIndexError\u001b[0m                                Traceback (most recent call last)",
      "\u001b[1;32m<ipython-input-21-d566623135f6>\u001b[0m in \u001b[0;36m<module>\u001b[1;34m\u001b[0m\n\u001b[0;32m      2\u001b[0m \u001b[0mprint\u001b[0m\u001b[1;33m(\u001b[0m\u001b[0ms\u001b[0m\u001b[1;33m[\u001b[0m\u001b[1;36m0\u001b[0m\u001b[1;33m]\u001b[0m\u001b[1;33m)\u001b[0m \u001b[1;31m# M\u001b[0m\u001b[1;33m\u001b[0m\u001b[1;33m\u001b[0m\u001b[0m\n\u001b[0;32m      3\u001b[0m \u001b[0mprint\u001b[0m\u001b[1;33m(\u001b[0m\u001b[0ms\u001b[0m\u001b[1;33m[\u001b[0m\u001b[1;36m5\u001b[0m\u001b[1;33m]\u001b[0m\u001b[1;33m)\u001b[0m \u001b[1;31m# s\u001b[0m\u001b[1;33m\u001b[0m\u001b[1;33m\u001b[0m\u001b[0m\n\u001b[1;32m----> 4\u001b[1;33m \u001b[0mprint\u001b[0m\u001b[1;33m(\u001b[0m\u001b[0ms\u001b[0m\u001b[1;33m[\u001b[0m\u001b[1;36m22\u001b[0m\u001b[1;33m]\u001b[0m\u001b[1;33m)\u001b[0m \u001b[1;31m# IndexError\u001b[0m\u001b[1;33m\u001b[0m\u001b[1;33m\u001b[0m\u001b[0m\n\u001b[0m",
      "\u001b[1;31mIndexError\u001b[0m: string index out of range"
     ]
    }
   ],
   "source": [
    "s = \"Me gusta Python\"\n",
    "print(s[0]) # M\n",
    "print(s[5]) # s\n",
    "print(s[22]) # IndexError"
   ]
  },
  {
   "cell_type": "markdown",
   "metadata": {},
   "source": [
    "* Se puede acceder a una parte de un string, como un intervalo entre dos caracteres (n, m-1)"
   ]
  },
  {
   "cell_type": "code",
   "execution_count": 22,
   "metadata": {},
   "outputs": [
    {
     "name": "stdout",
     "output_type": "stream",
     "text": [
      "gus\n"
     ]
    }
   ],
   "source": [
    "print(s[3:6]) # gus"
   ]
  },
  {
   "cell_type": "markdown",
   "metadata": {},
   "source": [
    "* Desde el principio hasta un índice (0, m-1)"
   ]
  },
  {
   "cell_type": "code",
   "execution_count": 23,
   "metadata": {},
   "outputs": [
    {
     "name": "stdout",
     "output_type": "stream",
     "text": [
      "Me gus\n"
     ]
    }
   ],
   "source": [
    "print(s[:6]) # Me gus"
   ]
  },
  {
   "cell_type": "markdown",
   "metadata": {},
   "source": [
    "* Desde un índice hasta el final (n, len(s))"
   ]
  },
  {
   "cell_type": "code",
   "execution_count": 24,
   "metadata": {},
   "outputs": [
    {
     "name": "stdout",
     "output_type": "stream",
     "text": [
      "gusta Python\n"
     ]
    }
   ],
   "source": [
    "print(s[3:]) # gusta Python"
   ]
  },
  {
   "cell_type": "markdown",
   "metadata": {},
   "source": [
    "### Operadores de strings"
   ]
  },
  {
   "cell_type": "code",
   "execution_count": 26,
   "metadata": {},
   "outputs": [],
   "source": [
    "a = \"Hola\"\n",
    "b = \"Python\""
   ]
  },
  {
   "cell_type": "markdown",
   "metadata": {},
   "source": [
    "* Concatenación: +"
   ]
  },
  {
   "cell_type": "code",
   "execution_count": 27,
   "metadata": {},
   "outputs": [
    {
     "name": "stdout",
     "output_type": "stream",
     "text": [
      "HolaPython\n"
     ]
    }
   ],
   "source": [
    "print(a+b) # \"HolaPython\""
   ]
  },
  {
   "cell_type": "markdown",
   "metadata": {},
   "source": [
    "* Repetición: *"
   ]
  },
  {
   "cell_type": "code",
   "execution_count": 28,
   "metadata": {},
   "outputs": [
    {
     "name": "stdout",
     "output_type": "stream",
     "text": [
      "HolaHolaHola\n"
     ]
    }
   ],
   "source": [
    "print(a*3) # \"HolaHolaHola\""
   ]
  },
  {
   "cell_type": "markdown",
   "metadata": {},
   "source": [
    "* Comprobar si un carácter o string aparece en un string: in"
   ]
  },
  {
   "cell_type": "code",
   "execution_count": 29,
   "metadata": {},
   "outputs": [
    {
     "name": "stdout",
     "output_type": "stream",
     "text": [
      "True\n",
      "False\n",
      "False\n"
     ]
    }
   ],
   "source": [
    "print(\"H\" in a) # True\n",
    "print(\"h\" in a) # False\n",
    "#H in a # NameError: name 'H' is not defined\n",
    "print(\"H\" not in a) # False"
   ]
  },
  {
   "cell_type": "markdown",
   "metadata": {},
   "source": [
    "* _Raw strings_ (strings sin interpretar los caracteres especiales): r"
   ]
  },
  {
   "cell_type": "code",
   "execution_count": 30,
   "metadata": {},
   "outputs": [
    {
     "name": "stdout",
     "output_type": "stream",
     "text": [
      "C:\\dir\n"
     ]
    }
   ],
   "source": [
    "print(r\"C:\\dir\") # C:\\dir"
   ]
  },
  {
   "cell_type": "markdown",
   "metadata": {},
   "source": [
    "### Comparación de strings"
   ]
  },
  {
   "cell_type": "code",
   "execution_count": 31,
   "metadata": {},
   "outputs": [],
   "source": [
    "a = \"Hola\"\n",
    "b = \"Python\""
   ]
  },
  {
   "cell_type": "markdown",
   "metadata": {},
   "source": [
    "* Igualdad: =="
   ]
  },
  {
   "cell_type": "code",
   "execution_count": 32,
   "metadata": {},
   "outputs": [
    {
     "name": "stdout",
     "output_type": "stream",
     "text": [
      "False\n",
      "True\n"
     ]
    }
   ],
   "source": [
    "print(a==b) # False\n",
    "print(a==a) # True"
   ]
  },
  {
   "cell_type": "markdown",
   "metadata": {},
   "source": [
    "* Desigualdad: !="
   ]
  },
  {
   "cell_type": "code",
   "execution_count": 33,
   "metadata": {},
   "outputs": [
    {
     "name": "stdout",
     "output_type": "stream",
     "text": [
      "True\n",
      "False\n"
     ]
    }
   ],
   "source": [
    "print(a!=3) # True\n",
    "print(b!=b) # False"
   ]
  },
  {
   "cell_type": "markdown",
   "metadata": {},
   "source": [
    "* Orden lexicográfico: < y >"
   ]
  },
  {
   "cell_type": "code",
   "execution_count": 34,
   "metadata": {},
   "outputs": [
    {
     "name": "stdout",
     "output_type": "stream",
     "text": [
      "True\n",
      "False\n"
     ]
    }
   ],
   "source": [
    "print(a < b) # True\n",
    "print(a > b) # False"
   ]
  },
  {
   "cell_type": "markdown",
   "metadata": {},
   "source": [
    "### Formato de strings\n",
    "* Formatear tipos básicos para pasarlos a strings con el operador %\n",
    "  + Carácter: %c  \n",
    "  + String (usando la función str()): %s  \n",
    "  + Números:\n",
    "    - %i   - entero con signo\n",
    "    - %u  - entero sin signo\n",
    "    - %o  - número en octal\n",
    "    - %x  - número en hexadecimal (en minúsculas)\n",
    "    - %X  - número en hexadecimal (en mayúsculas)\n",
    "    - %e  - número en notación exponencial (en minúsculas)\n",
    "    - %E  - número en notación exponencial (en mayúsculas)\n",
    "    - %f   - número en notación de coma flotante\n",
    "    - %g   - lo más corto de %f y %e\n",
    "    - %G  - lo más corto de  %f y %E\n",
    "\n",
    "<img src=\"./img/formatoStrings.png\" width=600>"
   ]
  },
  {
   "cell_type": "code",
   "execution_count": 55,
   "metadata": {},
   "outputs": [
    {
     "name": "stdout",
     "output_type": "stream",
     "text": [
      "El resultado de sumar 2 y 3 es 5\n"
     ]
    }
   ],
   "source": [
    "print(\"El resultado de %s %i y %i es %i\" % (\"sumar\", 2, 3, 2+3))"
   ]
  },
  {
   "cell_type": "markdown",
   "metadata": {},
   "source": [
    "### Ejercicio"
   ]
  },
  {
   "cell_type": "code",
   "execution_count": 81,
   "metadata": {},
   "outputs": [
    {
     "name": "stdout",
     "output_type": "stream",
     "text": [
      "29\n",
      "2\n",
      "-123\n",
      "-123\n",
      "-123\n",
      "23\n",
      "23\n",
      "2323\n",
      "46\n",
      "1.23\n",
      "1.23\n",
      "1\n",
      "-1\n",
      "1.23\n",
      "1.23\n",
      "123.0\n",
      "float(\"1.23\")\n",
      "Python\n",
      "'Python'\n",
      "'Python'\n",
      "Python\n",
      "Python\n"
     ]
    }
   ],
   "source": [
    "print(29)\n",
    "print(repr(2))\n",
    "print(-123)\n",
    "print(repr(-123))\n",
    "print('-123')\n",
    "print(\"23\")\n",
    "print(int(\"23\"))\n",
    "print(\"23\" * 2)\n",
    "print(int(\"23\") * 2)\n",
    "print(repr(1.23))\n",
    "print(1.23)\n",
    "print(int(1.23))\n",
    "print(int(-1.23))\n",
    "print(float(\"1.23\"))\n",
    "print(\"1.23\")\n",
    "print(float(\"123\"))\n",
    "print('float(\"1.23\")')\n",
    "print(str('Python'))\n",
    "print(repr('Python'))\n",
    "#print(repr(Python))\n",
    "#print(str(Python))\n",
    "s='Python'\n",
    "print(repr(s))\n",
    "print(str(s))\n",
    "#print(eval(str(s)))\n",
    "print(eval(repr(s)))"
   ]
  },
  {
   "cell_type": "markdown",
   "metadata": {},
   "source": [
    "* La función _**split()**_ permite dividir un string en varios strings"
   ]
  },
  {
   "cell_type": "code",
   "execution_count": 37,
   "metadata": {},
   "outputs": [
    {
     "data": {
      "text/plain": [
       "['azul', ' verde', ' amarillo', ' rojo']"
      ]
     },
     "execution_count": 37,
     "metadata": {},
     "output_type": "execute_result"
    }
   ],
   "source": [
    "x = \"azul, verde, amarillo, rojo\"\n",
    "x.split(\",\")"
   ]
  },
  {
   "cell_type": "code",
   "execution_count": 38,
   "metadata": {},
   "outputs": [
    {
     "data": {
      "text/plain": [
       "'azul'"
      ]
     },
     "execution_count": 38,
     "metadata": {},
     "output_type": "execute_result"
    }
   ],
   "source": [
    "a, b, c, d = x.split(\",\")\n",
    "a"
   ]
  },
  {
   "cell_type": "code",
   "execution_count": 39,
   "metadata": {},
   "outputs": [
    {
     "data": {
      "text/plain": [
       "['Aprendemos', 'Python', 'en', 'la', 'UCM']"
      ]
     },
     "execution_count": 39,
     "metadata": {},
     "output_type": "execute_result"
    }
   ],
   "source": [
    "texto=\"Aprendemos Python en la UCM\"\n",
    "palabras=texto.split()\n",
    "palabras"
   ]
  },
  {
   "cell_type": "markdown",
   "metadata": {},
   "source": [
    "### Otras funciones con strings"
   ]
  },
  {
   "cell_type": "code",
   "execution_count": 40,
   "metadata": {},
   "outputs": [],
   "source": [
    "sub=\"en\""
   ]
  },
  {
   "cell_type": "markdown",
   "metadata": {},
   "source": [
    "* Cuenta el número de veces que str ocurre en un string, desde beg a end"
   ]
  },
  {
   "cell_type": "code",
   "execution_count": 41,
   "metadata": {},
   "outputs": [
    {
     "name": "stdout",
     "output_type": "stream",
     "text": [
      "2\n"
     ]
    }
   ],
   "source": [
    "print(texto.count(sub, 0, len(texto)))"
   ]
  },
  {
   "cell_type": "markdown",
   "metadata": {},
   "source": [
    "* Indica si el (sub)string acaba con el sufijo especificado"
   ]
  },
  {
   "cell_type": "code",
   "execution_count": 42,
   "metadata": {},
   "outputs": [
    {
     "name": "stdout",
     "output_type": "stream",
     "text": [
      "False\n"
     ]
    }
   ],
   "source": [
    "print(texto.endswith(sub))"
   ]
  },
  {
   "cell_type": "markdown",
   "metadata": {},
   "source": [
    "* Devuelve la posición donde se encuentra el substring dentro de un string, y -1 si no se encuentra"
   ]
  },
  {
   "cell_type": "code",
   "execution_count": 43,
   "metadata": {},
   "outputs": [
    {
     "name": "stdout",
     "output_type": "stream",
     "text": [
      "3\n"
     ]
    }
   ],
   "source": [
    "print(texto.find(sub))"
   ]
  },
  {
   "cell_type": "markdown",
   "metadata": {},
   "source": [
    "* Similar a find() pero si no se encuentra lanza una excepción"
   ]
  },
  {
   "cell_type": "code",
   "execution_count": 44,
   "metadata": {},
   "outputs": [
    {
     "name": "stdout",
     "output_type": "stream",
     "text": [
      "3\n"
     ]
    }
   ],
   "source": [
    "print(texto.index(sub))"
   ]
  },
  {
   "cell_type": "markdown",
   "metadata": {},
   "source": [
    "## Ejercicios\n",
    "### 1. Escribe un programa que pida un nombre primero y los apellidos después, los imprima en una línea e indique cuántos caracteres tienen el nombre y cada apellido"
   ]
  },
  {
   "cell_type": "code",
   "execution_count": 46,
   "metadata": {},
   "outputs": [
    {
     "name": "stdin",
     "output_type": "stream",
     "text": [
      "Dime tu nombre:  Gonzalo\n",
      "Dime tus apellidos:  Méndez Pozo\n"
     ]
    },
    {
     "name": "stdout",
     "output_type": "stream",
     "text": [
      "Te llamas Gonzalo Méndez Pozo\n",
      "Tu nombre tiene 7 letras\n",
      "Y tus apellidos 10 letras\n"
     ]
    }
   ],
   "source": [
    "nombre = input(\"Dime tu nombre: \")\n",
    "apellidos = input(\"Dime tus apellidos: \")\n",
    "print(\"Te llamas \" + nombre + \" \" + apellidos)\n",
    "apellido1, apellido2 = apellidos.split()\n",
    "print(\"Tu nombre tiene %i letras\" % len(nombre))\n",
    "print(\"Y tus apellidos %i letras\" % (len(apellido1)+len(apellido2)))"
   ]
  },
  {
   "cell_type": "markdown",
   "metadata": {},
   "source": [
    "### 2. Escribe un programa que pida un texto y devuelva el número de caracteres, de palabras, y el texto todo en mayúsculas y todo en minúsculas"
   ]
  },
  {
   "cell_type": "code",
   "execution_count": 47,
   "metadata": {},
   "outputs": [
    {
     "name": "stdin",
     "output_type": "stream",
     "text": [
      "Escribe un texto:  Escribe un programa que pida un nombre primero y los apellidos después, los imprima en una línea e indique cuántos caracteres tienen el nombre y cada apellido\n"
     ]
    },
    {
     "name": "stdout",
     "output_type": "stream",
     "text": [
      "caracteres = 158\n",
      "palabras = 27\n",
      "ESCRIBE UN PROGRAMA QUE PIDA UN NOMBRE PRIMERO Y LOS APELLIDOS DESPUÉS, LOS IMPRIMA EN UNA LÍNEA E INDIQUE CUÁNTOS CARACTERES TIENEN EL NOMBRE Y CADA APELLIDO\n",
      "escribe un programa que pida un nombre primero y los apellidos después, los imprima en una línea e indique cuántos caracteres tienen el nombre y cada apellido\n"
     ]
    }
   ],
   "source": [
    "texto=input(\"Escribe un texto: \")\n",
    "print(\"caracteres = \" + str(len(texto)))\n",
    "print(\"palabras = \" + str(len(texto.split())))\n",
    "print(texto.upper())\n",
    "print(texto.lower())"
   ]
  },
  {
   "cell_type": "markdown",
   "metadata": {},
   "source": [
    "## Uso de Módulos\n",
    "* Cuando los programas son grandes, conviene dividirlos en partes, cada una en un fichero: módulos\n",
    "  + Nuestro programa (script) es un módulo\n",
    "  + Otros módulos pueden tener código que usamos en varios programas: librerías\n",
    "  + Podemos usar módulos escritos por otras personas\n",
    "  + Hay módulos estándar: https://docs.python.org/3/py-modindex.html \n",
    "  + **Reutilización de código**\n",
    "  \n",
    "  \n",
    "* Un módulo es un fichero\n",
    "  + El nombre del módulo será el del fichero, que tiene la extensión **.py**\n",
    "  + El módulo puede contener:\n",
    "    - Funciones\n",
    "    - Variables\n",
    "    - Clases\n",
    "    - Instrucciones, que se ejecutan al cargar el módulo\n",
    "    \n",
    "    \n",
    "* Varias formas de usar una función fx() del módulo mimodulo:\n",
    "  + Importación especificando sólo el módulo:\n",
    "  \n",
    "    **import _mimodulo_**  \\# permite utilizar lo que hay en el módulo \n",
    "    \n",
    "    **import _mimodulo_ as _alias_** \\# se puede definir un alias para el módulo\n",
    "    \n",
    "    **mimodulo.fx()** \\# se indica explícitamente que es la función fx() del módulo \n",
    "    \n",
    "    **alias.fx()** \\# similar, pero con el alias \n",
    "  + Importación especificando el elemento concreto del módulo:\n",
    "\n",
    "    **from _mimodulo_ import _fx_** \\# añade la función fx() al espacio de nombres\n",
    "\n",
    "    **resultado = _fx(\"argumento\")_** \\# se puede usar fx sin indicar el módulo\n",
    "  + Importación explícita de todos los elementos del módulo:\n",
    "\n",
    "    **from _mimodulo_ import \\*** \\# añade todos los elementos al espacio de nombres\n",
    "\n",
    "* Normalmente estas declaraciones se ponen **al principio del fichero** \n",
    "* Lo recomendable es la primera forma (e.g. import math) porque se evita colisión de nombres (se podrían haber importado dos elementos con el mismo nombre de distintos módulos)\n",
    "\n",
    "  … a cambio hay que escribir siempre un poco más (math.pi, math.sqrt, etc.)\n",
    "\n",
    "### Localización de los módulos\n",
    "\n",
    "* El fichero **mimodulo.py** debe estar accesible en el _search path_ de Python\n",
    "* Los módulos son ficheros que el intérprete Python debe encontrar\n",
    "* Python los busca en el siguiente orden:\n",
    "  + En el directorio actual\n",
    "  + En un directorio definido en la variable de entorno PYTHONPATH\n",
    "    - En Windows: _set PYTHONPATH = C:\\python20\\lib;_\n",
    "    - En Unix: _export PYTHONPATH = /usr/local/lib/python_\n",
    "  + En el directorio de instalación de Python \n",
    "    - Aquí están los módulos estándar de Python\n",
    "    - En Unix, normalmente _/usr/local/lib/python_\n",
    "* Se puede tener algo de información de un elemento de un módulo con help: **help(math.sqrt)**\n",
    "* Para conocer todos los elementos definidos en un módulo: **dir(_módulo_)**"
   ]
  },
  {
   "cell_type": "markdown",
   "metadata": {},
   "source": [
    "## Ejercicio:\n",
    "### 1. Usa el módulo math para imprimir la raíz cuadrada de 25, de 90 y del número π\n",
    "### 2. Usa el módulo math para calcular el factorial de 10\n",
    "Prueba la diferencia de cómo invocar estas funciones usando\n",
    "\n",
    "import math\n",
    "\n",
    "from math import sqrt\n",
    "\n",
    "from math import *\n"
   ]
  },
  {
   "cell_type": "code",
   "execution_count": 2,
   "metadata": {},
   "outputs": [
    {
     "name": "stdout",
     "output_type": "stream",
     "text": [
      "5.0\n",
      "9.486832980505138\n",
      "1.7724538509055159\n"
     ]
    }
   ],
   "source": [
    "# forma 1: import math\n",
    "import math\n",
    "print(math.sqrt(25))\n",
    "print(math.sqrt(90))\n",
    "print(math.sqrt(math.pi))"
   ]
  },
  {
   "cell_type": "code",
   "execution_count": 5,
   "metadata": {},
   "outputs": [
    {
     "name": "stdout",
     "output_type": "stream",
     "text": [
      "5.0\n",
      "9.486832980505138\n",
      "1.7724538509055159\n"
     ]
    }
   ],
   "source": [
    "# forma 2: from math import sqrt\n",
    "from math import sqrt\n",
    "print(sqrt(25))\n",
    "print(sqrt(90))\n",
    "# print(sqrt(pi)) # Error, no hemos importado pi\n",
    "print(sqrt(math.pi))"
   ]
  },
  {
   "cell_type": "code",
   "execution_count": 6,
   "metadata": {},
   "outputs": [
    {
     "name": "stdout",
     "output_type": "stream",
     "text": [
      "5.0\n",
      "9.486832980505138\n",
      "1.7724538509055159\n"
     ]
    }
   ],
   "source": [
    "# forma 3: from math import *\n",
    "from math import *\n",
    "print(sqrt(25))\n",
    "print(sqrt(90))\n",
    "print(sqrt(pi)) # Ahora no da error, ya hemos importado pi"
   ]
  },
  {
   "cell_type": "markdown",
   "metadata": {},
   "source": [
    "### Módulo _datetime_"
   ]
  },
  {
   "cell_type": "markdown",
   "metadata": {},
   "source": [
    "* Módulo con funciones para trabajar con la fecha y la hora\n",
    "  + Documentado en https://docs.python.org/3/library/datetime.html \n",
    "  + Tiene varias clases de objetos: **date, time, datetime, timedelta, tzinfo**\n",
    "* Por ejemplo para saber la fecha y hora del instante actual (observa que el módulo datetime tiene una clase datetime, por eso se pone datetime.datetime.xxx):"
   ]
  },
  {
   "cell_type": "code",
   "execution_count": 8,
   "metadata": {},
   "outputs": [
    {
     "name": "stdout",
     "output_type": "stream",
     "text": [
      "2020-10-26\n",
      "2020-10-26 12:46:49.805593\n",
      "0\n",
      "2020\n",
      "10 26\n",
      "12\n"
     ]
    }
   ],
   "source": [
    "import datetime\n",
    "print(datetime.date.today())\n",
    "print(datetime.datetime.now())\n",
    "print(datetime.date.today().weekday()) # Lunes:0 a Domingo: 6\n",
    "ahora = datetime.datetime.now()\n",
    "print(ahora.year)\n",
    "print(ahora.month, ahora.day)\n",
    "print(ahora.hour)"
   ]
  },
  {
   "cell_type": "markdown",
   "metadata": {},
   "source": [
    "## Ejercicio\n",
    "### 1. Sabiendo que datetime tiene los atributos hour, minute, second, imprimir la hora actual con el formato hh:mm.ss\n",
    "Para no estar todo el rato poniendo datetime.datetime.etc:\n",
    "\n",
    "**from datetime import datetime** # importa la clase datetime del módulo datetime\n",
    "\n",
    "ahora = datetime.now() # aquí datetime es el nombre de la clase que se ha importado \n",
    "\n",
    "La instrucción print permite formatear la salida cuando se usan varios parámetros:"
   ]
  },
  {
   "cell_type": "code",
   "execution_count": 23,
   "metadata": {},
   "outputs": [
    {
     "name": "stdout",
     "output_type": "stream",
     "text": [
      "12:55:1\n"
     ]
    }
   ],
   "source": [
    "from datetime import datetime\n",
    "ahora = datetime.now()\n",
    "print(\"%i:%i:%i\" % (ahora.hour, ahora.minute, ahora.second))"
   ]
  },
  {
   "cell_type": "markdown",
   "metadata": {},
   "source": [
    "Investigar cómo hacer para que siempre aparezcan dos dígitos para hh, mm y ss"
   ]
  },
  {
   "cell_type": "code",
   "execution_count": 29,
   "metadata": {},
   "outputs": [
    {
     "name": "stdout",
     "output_type": "stream",
     "text": [
      "12:55:01\n"
     ]
    }
   ],
   "source": [
    "print(\"%s:%s:%s\" % (ahora.hour, ahora.minute, str(ahora.second).zfill(2)))"
   ]
  },
  {
   "cell_type": "markdown",
   "metadata": {},
   "source": [
    "## Paquetes\n",
    "* Se pueden agrupar varios módulos (ficheros) en un directorio e importarlos conjuntamente\n",
    "* En el directorio habrá que incluir un fichero __init__.py que incluya los módulos correspondientes\n",
    "* Ejemplo:\n",
    "  + En un directorio **animales** se crean dos ficheros **perro.py** y **gato.py** con funciones declaradas del tipo\n",
    "  \n",
    "def gato():\n",
    "\n",
    "    print(\"Soy un gato\")\n",
    "\n",
    "* El fichero **\\_\\_init\\_\\_.py** en ese directorio sería algo así:\n",
    "\n",
    "from animales import perro\n",
    "\n",
    "from animales import gato"
   ]
  },
  {
   "cell_type": "code",
   "execution_count": 31,
   "metadata": {},
   "outputs": [],
   "source": [
    "import this"
   ]
  },
  {
   "cell_type": "markdown",
   "metadata": {},
   "source": [
    "## Estructuras de control del flujo de instrucciones\n",
    "* Secuencial\n",
    "  + Una seguida de otra\n",
    "    - Separadas por ;\n",
    "    - O una en cada línea &larr; **Opción recomendada**\n",
    "* Condicional\n",
    "  + **if - elif - else**\n",
    "* Bucles\n",
    "  + **while**\n",
    "  + **for**\n",
    "* Excepciones\n",
    "  + **try - except - else - finally**\n",
    "  + **raise**\n",
    "  \n",
    "### Expresiones lógicas\n",
    "* Se utilizan mucho para controlar el flujo del programa\n",
    "* Son aquellas que cuando se evalúan devuelven uno de dos valores: **True|False**\n",
    "* Ejemplos:"
   ]
  },
  {
   "cell_type": "code",
   "execution_count": 33,
   "metadata": {},
   "outputs": [],
   "source": [
    "10 == (2 * 4) \n",
    "2 + 2 <= 3 + 1\n",
    "10**2 != 100\n",
    "b = 1**2 == 1"
   ]
  },
  {
   "cell_type": "markdown",
   "metadata": {},
   "source": [
    "* Operadores de comparación\n",
    "  * Igual (==)\n",
    "  * Distinto (!= o <>)\n",
    "  * Menor que (<)\n",
    "  * Menor o igual que (<=)\n",
    "  * Mayor que (>)\n",
    "  * Mayor o igual que (>=)\n",
    "\n",
    "* Operadores _booleanos_: **and, or, not**\n",
    "\n",
    "<img src=\"./img/operadoresBooleanos.png\" width=300>\n",
    "\n",
    "* Ejemplos:"
   ]
  },
  {
   "cell_type": "code",
   "execution_count": 34,
   "metadata": {},
   "outputs": [
    {
     "data": {
      "text/plain": [
       "False"
      ]
     },
     "execution_count": 34,
     "metadata": {},
     "output_type": "execute_result"
    }
   ],
   "source": [
    "not not False"
   ]
  },
  {
   "cell_type": "code",
   "execution_count": 36,
   "metadata": {},
   "outputs": [
    {
     "data": {
      "text/plain": [
       "False"
      ]
     },
     "execution_count": 36,
     "metadata": {},
     "output_type": "execute_result"
    }
   ],
   "source": [
    "1 ** 100 == 100 ** 1 or 3 * 2 * 1 != 3 + 2 + 1"
   ]
  },
  {
   "cell_type": "code",
   "execution_count": 37,
   "metadata": {},
   "outputs": [
    {
     "data": {
      "text/plain": [
       "False"
      ]
     },
     "execution_count": 37,
     "metadata": {},
     "output_type": "execute_result"
    }
   ],
   "source": [
    "# mejor lo siguiente:\n",
    "(1 ** 100 == 100 ** 1) or (3 * 2 * 1 != 3 + 2 + 1) "
   ]
  },
  {
   "cell_type": "markdown",
   "metadata": {},
   "source": [
    "* Precedencia de operadores\n",
    "  + Si se ponen paréntesis, lo que está dentro se evalúa antes del resto\n",
    "  + Si no hay paréntesis se evalúan en el siguiente orden:\n",
    "    1. Primero se evalúa not\n",
    "    2. Luego and\n",
    "    3. Finalmente or"
   ]
  },
  {
   "cell_type": "code",
   "execution_count": 38,
   "metadata": {},
   "outputs": [
    {
     "data": {
      "text/plain": [
       "True"
      ]
     },
     "execution_count": 38,
     "metadata": {},
     "output_type": "execute_result"
    }
   ],
   "source": [
    "True or not False and False  # devuelve True"
   ]
  },
  {
   "cell_type": "markdown",
   "metadata": {},
   "source": [
    "* Los operadores con números se evalúan antes que los booleanos\n",
    "  1. Exponenciación  **\n",
    "  2. Multiplicación y división  *   /   %   //\n",
    "  3. Suma y resta   + -\n",
    "  4. Operadores de comparación   <=  <  >  >=\n",
    "  5. Operadores de igualdad  ==   <>  !=\n",
    "  6. Operadores de asignación   =   %=   /=   //=   -=   +=   \\*=  \\*\\*=\n",
    "\n",
    "&rarr; **Recomendación: Usar paréntesis para que las expresiones sean claras**\n",
    "\n",
    "### ¿Qué se obtiene al evaluar las siguientes expresiones?"
   ]
  },
  {
   "cell_type": "code",
   "execution_count": 39,
   "metadata": {},
   "outputs": [
    {
     "data": {
      "text/plain": [
       "True"
      ]
     },
     "execution_count": 39,
     "metadata": {},
     "output_type": "execute_result"
    }
   ],
   "source": [
    "False and not True or True"
   ]
  },
  {
   "cell_type": "code",
   "execution_count": 40,
   "metadata": {},
   "outputs": [
    {
     "data": {
      "text/plain": [
       "False"
      ]
     },
     "execution_count": 40,
     "metadata": {},
     "output_type": "execute_result"
    }
   ],
   "source": [
    "False or not True and True"
   ]
  },
  {
   "cell_type": "code",
   "execution_count": 41,
   "metadata": {},
   "outputs": [
    {
     "data": {
      "text/plain": [
       "False"
      ]
     },
     "execution_count": 41,
     "metadata": {},
     "output_type": "execute_result"
    }
   ],
   "source": [
    "False or not (True and True)"
   ]
  },
  {
   "cell_type": "code",
   "execution_count": 42,
   "metadata": {},
   "outputs": [
    {
     "data": {
      "text/plain": [
       "True"
      ]
     },
     "execution_count": 42,
     "metadata": {},
     "output_type": "execute_result"
    }
   ],
   "source": [
    "not not True or False and not True"
   ]
  },
  {
   "cell_type": "code",
   "execution_count": 43,
   "metadata": {},
   "outputs": [
    {
     "data": {
      "text/plain": [
       "False"
      ]
     },
     "execution_count": 43,
     "metadata": {},
     "output_type": "execute_result"
    }
   ],
   "source": [
    "(2+2 == 4) and \"Real Madrid\" == \"Champions League\""
   ]
  },
  {
   "cell_type": "code",
   "execution_count": 45,
   "metadata": {},
   "outputs": [
    {
     "data": {
      "text/plain": [
       "True"
      ]
     },
     "execution_count": 45,
     "metadata": {},
     "output_type": "execute_result"
    }
   ],
   "source": [
    "x = 1\n",
    "y = 2\n",
    "not ( x>y+1 ) and x**y - 1 >= 0 "
   ]
  },
  {
   "cell_type": "code",
   "execution_count": 46,
   "metadata": {},
   "outputs": [
    {
     "data": {
      "text/plain": [
       "True"
      ]
     },
     "execution_count": 46,
     "metadata": {},
     "output_type": "execute_result"
    }
   ],
   "source": [
    "1 == True"
   ]
  },
  {
   "cell_type": "code",
   "execution_count": 47,
   "metadata": {},
   "outputs": [
    {
     "data": {
      "text/plain": [
       "True"
      ]
     },
     "execution_count": 47,
     "metadata": {},
     "output_type": "execute_result"
    }
   ],
   "source": [
    "0 == False"
   ]
  },
  {
   "cell_type": "code",
   "execution_count": 48,
   "metadata": {},
   "outputs": [
    {
     "data": {
      "text/plain": [
       "False"
      ]
     },
     "execution_count": 48,
     "metadata": {},
     "output_type": "execute_result"
    }
   ],
   "source": [
    "33 == True"
   ]
  },
  {
   "cell_type": "code",
   "execution_count": 49,
   "metadata": {},
   "outputs": [
    {
     "data": {
      "text/plain": [
       "True"
      ]
     },
     "execution_count": 49,
     "metadata": {},
     "output_type": "execute_result"
    }
   ],
   "source": [
    "bool(33) == True"
   ]
  },
  {
   "cell_type": "markdown",
   "metadata": {},
   "source": [
    "## Sentencia condicional **if**\n",
    "* La sentencia **if** permite definir alternativas del flujo de ejecución\n",
    "  + Se indica una expresión booleana (que devuelva True o False)\n",
    "  + Si el resultado es True, se ejecutan las sentencias que vengan a continuación\n",
    "    - Estas sentencias forman un bloque y se ponen indentadas (con espacios delante)\n",
    "    - Hay que tener cuidado porque si no se ponen indentadas se supone que es una instrucción fuera del if\n",
    "\n",
    "<img src=\"./img/sentenciaIF.png\" width=600>"
   ]
  },
  {
   "cell_type": "code",
   "execution_count": 52,
   "metadata": {},
   "outputs": [
    {
     "name": "stdin",
     "output_type": "stream",
     "text": [
      "Escribe tu nombre:  Rodolfo\n"
     ]
    },
    {
     "name": "stdout",
     "output_type": "stream",
     "text": [
      "Bienvenido Rodolfo\n",
      "Eres un profe genial\n",
      "Hasta luego, Rodolfo\n"
     ]
    }
   ],
   "source": [
    "nombre = input(\"Escribe tu nombre: \")\n",
    "\n",
    "if nombre == \"Rodolfo\":\n",
    "    print (\"Bienvenido\", nombre) \n",
    "    print (\"Eres un profe genial\") \n",
    "print (\"Hasta luego,\", nombre)"
   ]
  },
  {
   "cell_type": "markdown",
   "metadata": {},
   "source": [
    "## sentencia condicional **if - else**\n",
    "* Si el resultado de evaluar la condición del **if** es False se ejecutan las sentencias de la rama **else**\n",
    "\n",
    "<img src=\"./img/sentenciaIF-ELSE.png\" width=600>"
   ]
  },
  {
   "cell_type": "code",
   "execution_count": 55,
   "metadata": {},
   "outputs": [
    {
     "name": "stdin",
     "output_type": "stream",
     "text": [
      "Escribe tu nombre:  Gonzalo\n"
     ]
    },
    {
     "name": "stdout",
     "output_type": "stream",
     "text": [
      "Encantado de conocerte Gonzalo\n",
      "Hasta luego, Gonzalo\n"
     ]
    }
   ],
   "source": [
    "nombre = input(\"Escribe tu nombre: \")\n",
    "\n",
    "if nombre == \"Rodolfo\":\n",
    "    print (\"Bienvenido\", nombre) \n",
    "    print (\"Eres un profe genial\") \n",
    "else:\n",
    "    print (\"Encantado de conocerte\", nombre) \n",
    "print (\"Hasta luego,\", nombre) \n"
   ]
  },
  {
   "cell_type": "markdown",
   "metadata": {},
   "source": [
    "## Sentencia condicional **if - elif**\n",
    "* Si hay varias alternativas se pueden indicar con **elif** \n",
    "  + Al final se utiliza **else** para cuando no se cumple ninguna de las condiciones anteriores\n",
    "  \n",
    "<img src=\"./img/sentenciaIF-ELIF.png\" width=600>"
   ]
  },
  {
   "cell_type": "code",
   "execution_count": 58,
   "metadata": {},
   "outputs": [
    {
     "name": "stdin",
     "output_type": "stream",
     "text": [
      "Escribe tu nombre:  Pedro\n"
     ]
    },
    {
     "name": "stdout",
     "output_type": "stream",
     "text": [
      "Me alegra volver a verte en clase, Pedro\n",
      "Ya sabemos algo nuevo\n"
     ]
    }
   ],
   "source": [
    "nombre = input(\"Escribe tu nombre: \")\n",
    "\n",
    "if nombre == \"Juan\":\n",
    "    print (\"Bienvenido\", nombre) \n",
    "    print (\"Eres un profe genial\") \n",
    "elif nombre == \"Ana\" or nombre == \"Pedro\":\n",
    "    print (\"Me alegra volver a verte en clase,\", nombre)         \n",
    "else:\n",
    "    print (\"Encantado de conocerte\", nombre)\n",
    "print (\"Ya sabemos algo nuevo\") "
   ]
  },
  {
   "cell_type": "markdown",
   "metadata": {},
   "source": [
    "## Ejercicios\n",
    "### 1. Escribe un programa que pida un número. Si es menor que 0 imprime \"Negativo\", si es mayor, imprime \"Positivo\", y si es 0, imprime \"Cero\" "
   ]
  },
  {
   "cell_type": "code",
   "execution_count": 59,
   "metadata": {},
   "outputs": [
    {
     "name": "stdin",
     "output_type": "stream",
     "text": [
      "Escribe un número:  56\n"
     ]
    },
    {
     "name": "stdout",
     "output_type": "stream",
     "text": [
      "Positifo\n",
      "\t\t--Van Gaal\n"
     ]
    }
   ],
   "source": [
    "numero=eval(input(\"Escribe un número: \"))\n",
    "\n",
    "if numero < 0:\n",
    "    print (\"Nejatifo\")\n",
    "elif numero == 0:\n",
    "    print(\"Zero\")\n",
    "else:\n",
    "    print(\"Positifo\")\n",
    "print(\"\\t\\t--Van Gaal\")"
   ]
  },
  {
   "cell_type": "markdown",
   "metadata": {},
   "source": [
    "### 2. Haz un programa que pida un color. Si el usuario escribe \"azul\" o \"Azul\", el programa responde \"Me gusta\". Tanto si es ese color como otro al final el programa debe escribir \"Gracias\"."
   ]
  },
  {
   "cell_type": "code",
   "execution_count": 62,
   "metadata": {},
   "outputs": [
    {
     "name": "stdin",
     "output_type": "stream",
     "text": [
      "Escribe un color:  Azul\n"
     ]
    },
    {
     "name": "stdout",
     "output_type": "stream",
     "text": [
      "Me gusta\n",
      "Gracias\n"
     ]
    }
   ],
   "source": [
    "color=input(\"Escribe un color: \")\n",
    "\n",
    "if color == \"azul\" or color == \"Azul\":\n",
    "    print (\"Me gusta\")\n",
    "print(\"Gracias\")"
   ]
  },
  {
   "cell_type": "code",
   "execution_count": 1,
   "metadata": {},
   "outputs": [
    {
     "name": "stdin",
     "output_type": "stream",
     "text": [
      "Escribe un color:  aZUl\n"
     ]
    },
    {
     "name": "stdout",
     "output_type": "stream",
     "text": [
      "Me gusta\n",
      "Gracias\n"
     ]
    }
   ],
   "source": [
    "#opcioinal para hacer la condición más sencilla\n",
    "color=input(\"Escribe un color: \")\n",
    "\n",
    "if color.lower() == \"azul\":\n",
    "    print (\"Me gusta\")\n",
    "print(\"Gracias\")"
   ]
  },
  {
   "cell_type": "markdown",
   "metadata": {},
   "source": [
    "### 3. Prueba el siguiente ejemplo introduciendo enteros (2, 4, -7, etc.) y con decimales (10.8, 0.045, etc.) ¿Y qué pasa si en vez de un número se escribe un texto con letras?"
   ]
  },
  {
   "cell_type": "code",
   "execution_count": 8,
   "metadata": {},
   "outputs": [
    {
     "name": "stdin",
     "output_type": "stream",
     "text": [
      "Escribe un entero:  32768\n"
     ]
    },
    {
     "name": "stdout",
     "output_type": "stream",
     "text": [
      "Es par\n"
     ]
    }
   ],
   "source": [
    "# Comprueba si un entero es par o impar\n",
    "numero = eval(input(\"Escribe un entero: \"))\n",
    "if numero % 2 == 0:\n",
    "    print(\"Es par\")\n",
    "elif ( numero % 2 == 1):\n",
    "    print(\"Es impar\")\n",
    "else:\n",
    "    print(str(numero) + \" no es un entero.\") \n"
   ]
  },
  {
   "cell_type": "markdown",
   "metadata": {},
   "source": [
    "### 4. Haz un programa que pida al usuario una opción entre 1, 2 o 3. Si el usuario escribe 1, responde \"Uno\", si escribe 2, responde \"Dos\", si escribe 3 responde \"Tres\". A continuación escribe \"Gracias\" si es alguno de estos. Si no fuera ninguno de esos números escribirá \"Error\""
   ]
  },
  {
   "cell_type": "code",
   "execution_count": 15,
   "metadata": {},
   "outputs": [
    {
     "name": "stdin",
     "output_type": "stream",
     "text": [
      "Escribe un número natural del 1 al 3:  3\n"
     ]
    },
    {
     "name": "stdout",
     "output_type": "stream",
     "text": [
      "Tres\n",
      "Gracias\n"
     ]
    }
   ],
   "source": [
    "numero = eval(input(\"Escribe un número natural del 1 al 3: \"))\n",
    "\n",
    "if numero == 1:\n",
    "    print(\"Uno\")\n",
    "elif numero == 2:\n",
    "    print(\"Dos\")\n",
    "elif numero == 3:\n",
    "    print(\"Tres\")\n",
    "\n",
    "if numero >= 1 and numero <= 3:\n",
    "    print(\"Gracias\")\n",
    "else:\n",
    "    print(\"Error\")\n"
   ]
  },
  {
   "cell_type": "markdown",
   "metadata": {},
   "source": [
    "## Instrucción con **if** anidados\n",
    "* A veces unos if van dentro de otros"
   ]
  },
  {
   "cell_type": "code",
   "execution_count": 19,
   "metadata": {},
   "outputs": [
    {
     "name": "stdin",
     "output_type": "stream",
     "text": [
      "Escribe un número natural del 1 al 3:  4\n"
     ]
    },
    {
     "name": "stdout",
     "output_type": "stream",
     "text": [
      "Error\n"
     ]
    }
   ],
   "source": [
    "numero = eval(input(\"Escribe un número natural del 1 al 3: \"))\n",
    "\n",
    "if numero >= 1 and numero <= 3:\n",
    "    if numero == 1:\n",
    "        print(\"Uno\")\n",
    "    elif numero == 2:\n",
    "        print(\"Dos\")\n",
    "    elif numero == 3:\n",
    "        print(\"Tres\")\n",
    "    print(\"Gracias\")\n",
    "else:\n",
    "    print(\"Error\")"
   ]
  },
  {
   "cell_type": "markdown",
   "metadata": {},
   "source": [
    "## Bucle **while**\n",
    "* Muchas veces se quiere repetir una operación mientras se cumpla una condición (o hasta que se deje de cumplir): sentencia **while**"
   ]
  },
  {
   "cell_type": "code",
   "execution_count": 20,
   "metadata": {},
   "outputs": [
    {
     "name": "stdout",
     "output_type": "stream",
     "text": [
      "1\n",
      "2\n",
      "3\n",
      "4\n",
      "5\n",
      "6\n",
      "7\n",
      "8\n",
      "9\n",
      "10\n"
     ]
    }
   ],
   "source": [
    "a = 0\n",
    "while a < 10:\n",
    "    a = a + 1\n",
    "    print(a)"
   ]
  },
  {
   "cell_type": "code",
   "execution_count": 23,
   "metadata": {},
   "outputs": [
    {
     "name": "stdin",
     "output_type": "stream",
     "text": [
      "Introduce un número del 1 al 10:  0\n",
      "Introduce un número del 1 al 10:  -3\n",
      "Introduce un número del 1 al 10:  15\n",
      "Introduce un número del 1 al 10:  10\n"
     ]
    },
    {
     "name": "stdout",
     "output_type": "stream",
     "text": [
      "0\n",
      "1\n",
      "1\n",
      "2\n",
      "3\n",
      "5\n",
      "8\n",
      "13\n",
      "21\n",
      "34\n"
     ]
    }
   ],
   "source": [
    "#Calculamos el término n-esimo de la sucesión de Fibonacci\n",
    "numero = 0\n",
    "\n",
    "while numero < 1 or numero > 10:\n",
    "    numero = eval(input(\"Introduce un número del 1 al 10: \"))\n",
    "\n",
    "a0=0\n",
    "a1=1\n",
    "cont=0\n",
    "\n",
    "while cont<numero:\n",
    "    print(a0)\n",
    "    aux=a1\n",
    "    a1=a1+a0\n",
    "    a0=aux\n",
    "    cont +=1"
   ]
  },
  {
   "cell_type": "markdown",
   "metadata": {},
   "source": [
    "## Ejercicios\n",
    "### 1. Escribe un programa que imprima las potencias de 2 desde 2 hasta 100."
   ]
  },
  {
   "cell_type": "code",
   "execution_count": 25,
   "metadata": {},
   "outputs": [
    {
     "name": "stdout",
     "output_type": "stream",
     "text": [
      "2\n",
      "4\n",
      "8\n",
      "16\n",
      "32\n",
      "64\n"
     ]
    }
   ],
   "source": [
    "pot2=2\n",
    "\n",
    "while pot2 < 100:\n",
    "    print(pot2)\n",
    "    pot2*=2"
   ]
  },
  {
   "cell_type": "markdown",
   "metadata": {},
   "source": [
    "### 2. Haz un programa parecido pero que calcule desde 1 (20) hasta 1024 (210) y que lo imprima como sigue: 1 2 4 8 16 32 64 128 256 512 1024\n",
    "#### Para que imprima en la salida sin saltar a una nueva línea, usar el parámetro **end** de print"
   ]
  },
  {
   "cell_type": "code",
   "execution_count": 31,
   "metadata": {},
   "outputs": [
    {
     "name": "stdout",
     "output_type": "stream",
     "text": [
      "1 2 4 8 16 32 64 128 256 512 1024 "
     ]
    }
   ],
   "source": [
    "pot2=1\n",
    "cont=0\n",
    "\n",
    "while cont<=10:\n",
    "    print(pot2,end=' ')\n",
    "    pot2*=2\n",
    "    cont+=1"
   ]
  },
  {
   "cell_type": "markdown",
   "metadata": {},
   "source": [
    "### 3. Prueba el siguiente programa, que suma números hasta que introduzcas un 0"
   ]
  },
  {
   "cell_type": "code",
   "execution_count": 33,
   "metadata": {},
   "outputs": [
    {
     "name": "stdout",
     "output_type": "stream",
     "text": [
      "Vamos a sumar todos los números que introduzcas\n",
      "Para acabar escribe 0\n",
      "Suma: 0\n"
     ]
    },
    {
     "name": "stdin",
     "output_type": "stream",
     "text": [
      "Introduce un número: 3\n"
     ]
    },
    {
     "name": "stdout",
     "output_type": "stream",
     "text": [
      "Suma: 3\n"
     ]
    },
    {
     "name": "stdin",
     "output_type": "stream",
     "text": [
      "Introduce un número: 8\n"
     ]
    },
    {
     "name": "stdout",
     "output_type": "stream",
     "text": [
      "Suma: 11\n"
     ]
    },
    {
     "name": "stdin",
     "output_type": "stream",
     "text": [
      "Introduce un número: 236\n"
     ]
    },
    {
     "name": "stdout",
     "output_type": "stream",
     "text": [
      "Suma: 247\n"
     ]
    },
    {
     "name": "stdin",
     "output_type": "stream",
     "text": [
      "Introduce un número: 42354\n"
     ]
    },
    {
     "name": "stdout",
     "output_type": "stream",
     "text": [
      "Suma: 42601\n"
     ]
    },
    {
     "name": "stdin",
     "output_type": "stream",
     "text": [
      "Introduce un número: 0\n"
     ]
    },
    {
     "name": "stdout",
     "output_type": "stream",
     "text": [
      "Suma final = 42601\n"
     ]
    }
   ],
   "source": [
    "# Suma y sigue\n",
    "n = 1\n",
    "suma = 0\n",
    "print(\"Vamos a sumar todos los números que introduzcas\")\n",
    "print(\"Para acabar escribe 0\")\n",
    "while n != 0:\n",
    "    print(\"Suma: \"+str(suma))\n",
    "    n = eval(input(\"Introduce un número:\"))\n",
    "    suma = suma + n\t# suma += n\n",
    "print(\"Suma final = \"+str(suma))\n"
   ]
  },
  {
   "cell_type": "markdown",
   "metadata": {},
   "source": [
    "### Bucle infinito\n",
    "* Hay que tener cuidado con la condición del bucle porque podría ser siempre _True_ y el programa no acabaría nunca\n",
    "  + La manera más sencilla de hacer un bucle infinito:\n",
    "    **while True**\n",
    "  + Se puede salir de estos bucles con un break o un return (lo veremos más adelante)\n"
   ]
  },
  {
   "cell_type": "code",
   "execution_count": 35,
   "metadata": {},
   "outputs": [
    {
     "name": "stdout",
     "output_type": "stream",
     "text": [
      "3\n",
      "2\n",
      "1\n"
     ]
    }
   ],
   "source": [
    "num = 3\n",
    "while num>0:\n",
    "    print(num)\n",
    "    # si no cambiamos (decrementamos) el valor de num entramos en un bucle infinito\n",
    "    num=num-1"
   ]
  },
  {
   "cell_type": "markdown",
   "metadata": {},
   "source": [
    "### Salir de un bucle con **break**\n",
    "* Se puede salir de un bucle sin tener que volver a evaluar la condición usando la sentencia break\n",
    "* En general es una mala costumbre"
   ]
  },
  {
   "cell_type": "code",
   "execution_count": 38,
   "metadata": {},
   "outputs": [
    {
     "name": "stdin",
     "output_type": "stream",
     "text": [
      "Escribe un número entero positivo:  dos\n",
      "Escribe un número entero positivo:  -12\n",
      "Escribe un número entero positivo:  43\n"
     ]
    },
    {
     "name": "stdout",
     "output_type": "stream",
     "text": [
      "Has elegido bien: 43\n"
     ]
    }
   ],
   "source": [
    "# Pide un número entero positivo hasta tres veces\n",
    "intento=1\n",
    "while intento <= 3:\n",
    "    s = input(\"Escribe un número entero positivo: \")\n",
    "    if s.isdigit():\n",
    "        print (\"Has elegido bien:\", int(s)) \n",
    "        break\n",
    "    intento += 1\n",
    "else:\n",
    "    print(\"Perdiste tus oportunidades\")\n"
   ]
  },
  {
   "cell_type": "markdown",
   "metadata": {},
   "source": [
    "## Sentencia **while-else**\n",
    "* Con una cláusula **else** al final del **while** se puede poner un código que se ejecute cuando se sale del bucle al no cumplirse la condición\n",
    "  + Esto es, la primera vez que se evalúa la condición o cualquier otra\n",
    "  + No se ejecuta el **else** si se sale con un **break**\n",
    "* Esto es una particularidad de Python que no se ve en otros lenguajes de programación\n"
   ]
  },
  {
   "cell_type": "code",
   "execution_count": 40,
   "metadata": {},
   "outputs": [
    {
     "name": "stdout",
     "output_type": "stream",
     "text": [
      "Juega a sacar tres números aleatorios del 0 al 9.\n",
      "Tienes que pasar 3 intentos. Si sale 0, 5 o 9, pierdes.\n",
      "1\n",
      "9\n",
      "Vaya, perdiste...\n"
     ]
    }
   ],
   "source": [
    "import random\n",
    "print(\"Juega a sacar tres números aleatorios del 0 al 9.\")\n",
    "print(\"Tienes que pasar 3 intentos. Si sale 0, 5 o 9, pierdes.\")\n",
    "intento = 0\n",
    "while intento < 3:\n",
    "  num = random.randint(0, 9)\n",
    "  print(num)\n",
    "  if num == 0 or num==5 or num==9:\n",
    "    print(\"Vaya, perdiste...\")\n",
    "    break\n",
    "  intento += 1\n",
    "else:\n",
    "  print(\"Premio!\")\n"
   ]
  },
  {
   "cell_type": "markdown",
   "metadata": {},
   "source": [
    "## Ejercicios\n",
    "### 1. Cambia el código del ejemplo anterior por otro que haga lo mismo sin usar el **else** del **while**"
   ]
  },
  {
   "cell_type": "code",
   "execution_count": null,
   "metadata": {},
   "outputs": [],
   "source": []
  },
  {
   "cell_type": "markdown",
   "metadata": {},
   "source": [
    "### 2. Haz un programa que permita adivinar en tres intentos un número que se genera aleatoriamente del 0 al 9 \n",
    "#### Opción: El programa puede dar una pista al usuario indicando si el número introducido es mayor o menor que el generado aleatoriamente"
   ]
  },
  {
   "cell_type": "code",
   "execution_count": null,
   "metadata": {},
   "outputs": [],
   "source": []
  },
  {
   "cell_type": "markdown",
   "metadata": {},
   "source": [
    "### 3. Escribe un programa que pida un número entero positivo al usuario y calcule la suma de los dígitos de un número entero positivo. Por ejemplo, la suma de 1000 sería 1, y la suma de 342 sería 9\n",
    "#### Una pista: Al dividir el número por 10, el resto es el último dígito, y la división los dígitos restantes (por ejemplo, 342%10 da 2, y 342/10 da 34)"
   ]
  },
  {
   "cell_type": "code",
   "execution_count": 49,
   "metadata": {},
   "outputs": [
    {
     "name": "stdin",
     "output_type": "stream",
     "text": [
      "Introduce un número natural:  34567\n"
     ]
    },
    {
     "name": "stdout",
     "output_type": "stream",
     "text": [
      "La suma de los dígitos de 34567 es 25\n"
     ]
    }
   ],
   "source": [
    "numero=int(eval(input(\"Introduce un número natural: \")))\n",
    "aux=numero\n",
    "suma=0\n",
    "\n",
    "while aux > 0:\n",
    "    suma=suma+(aux%10)\n",
    "    aux=int(aux/10)\n",
    "    \n",
    "print(\"La suma de los dígitos de %i es %i\" % (numero,suma))"
   ]
  },
  {
   "cell_type": "markdown",
   "metadata": {},
   "source": [
    "## Funciones"
   ]
  },
  {
   "cell_type": "markdown",
   "metadata": {},
   "source": [
    "### Definición de Funciones\n",
    "* Una función permite reutilizar un código para realizar una acción\n",
    "  + Con distintos valores: parámetros (argumentos)\n",
    "* Además de las funciones que nos da Python podemos crear las nuestras:\n",
    "  + Usar la palabra clave **def** \n",
    "    - Seguida del **nombre** de la función \n",
    "    - Y paréntesis **()**\n",
    "    - Con el nombre de los **argumentos**, si los hay, separados por comas\n",
    "    - Y dos puntos **:** para indicar el código de la función que viene a continuación\n",
    "  + Un comentario que describe la función (opcional, e indentado)\n",
    "  + Un bloque de instrucciones (indentado)\n",
    "    - Que normalmente acaba con la instrucción  \n",
    "      **return** _expresión_  \n",
    "      que puede o no devolver un valor (expresión)\n",
    "* Para usar una función (llamada a una función):  \n",
    "  función (argumentos)\n",
    "  \n",
    "<img src=\"./img/funciones.png\" width=\"600\">\n",
    "\n",
    "### Definición y llamada a una función\n",
    "* Hay que distinguir claramente entre la **definición** de una función de la **llamada** (uso, invocación) de una función\n",
    "* Define una función que imprime los dos argumentos que se le pasan:"
   ]
  },
  {
   "cell_type": "code",
   "execution_count": 1,
   "metadata": {},
   "outputs": [],
   "source": [
    "def imprime(a, b):\n",
    "  print(a)\n",
    "  print(b)"
   ]
  },
  {
   "cell_type": "markdown",
   "metadata": {},
   "source": [
    "* Invoca esa función con distintos parámetros y se tiene salidas diferentes:"
   ]
  },
  {
   "cell_type": "code",
   "execution_count": 3,
   "metadata": {},
   "outputs": [
    {
     "name": "stdout",
     "output_type": "stream",
     "text": [
      "1\n",
      "2\n",
      "Hola\n",
      "Juan\n",
      "Hola\n",
      "234\n",
      "6\n",
      "2\n"
     ]
    }
   ],
   "source": [
    "imprime(1, 2)\n",
    "imprime(\"Hola\", \"Juan\")\n",
    "imprime(\"Hola\", 234)\n",
    "x=6\n",
    "imprime(x, 2)"
   ]
  },
  {
   "cell_type": "markdown",
   "metadata": {},
   "source": [
    "### La sentencia **return**\n",
    "* Para devolver un valor se utiliza la palabra clave **return**\n",
    "  + Al ejecutar return la función acaba\n",
    "    - Aunque se estuviera dentro de un bucle o un if\n",
    "  + Se puede usar return sin devolver valor, para indicar que la función acaba"
   ]
  },
  {
   "cell_type": "markdown",
   "metadata": {},
   "source": [
    "def max(x, y):\n",
    "    \"\"\" Devuelve el máximo de dos números. \"\"\"\n",
    "    if x>y:\n",
    "        return x # no hace falta poner else porque la funcion acaba\n",
    "    return y\n",
    "\n",
    "x = max(22, 112.4) # el valor que devuelve la funcion se guarda en una variable\n",
    "print(x)\n",
    "\n",
    "print(max(3.76, 3.08)) # o se usa como argumento para otra funcion\n"
   ]
  },
  {
   "cell_type": "markdown",
   "metadata": {},
   "source": [
    "## Ejercicio\n",
    "### 1. Probar la función _**suma**_ que suma dos números "
   ]
  },
  {
   "cell_type": "code",
   "execution_count": 6,
   "metadata": {},
   "outputs": [],
   "source": [
    "def suma(a,b):\n",
    "    return a+b"
   ]
  },
  {
   "cell_type": "markdown",
   "metadata": {},
   "source": [
    "* Comprobar que si se invoca la función sin más parece que no hace nada"
   ]
  },
  {
   "cell_type": "code",
   "execution_count": 8,
   "metadata": {},
   "outputs": [
    {
     "data": {
      "text/plain": [
       "3"
      ]
     },
     "execution_count": 8,
     "metadata": {},
     "output_type": "execute_result"
    }
   ],
   "source": [
    "suma(7,5)\n",
    "suma(1,2) # aunque en el notebook si se ve el resultado de la ultima instruccion"
   ]
  },
  {
   "cell_type": "markdown",
   "metadata": {},
   "source": [
    "* Habrá que guardar el valor en alguna variable para poder utilizarlo"
   ]
  },
  {
   "cell_type": "code",
   "execution_count": 9,
   "metadata": {},
   "outputs": [
    {
     "name": "stdout",
     "output_type": "stream",
     "text": [
      "3\n",
      "7\n"
     ]
    }
   ],
   "source": [
    "var=suma(1,2)\n",
    "print(var)\n",
    "print(suma(3,4))"
   ]
  },
  {
   "cell_type": "markdown",
   "metadata": {},
   "source": [
    "* También se puede usar como un parámetro"
   ]
  },
  {
   "cell_type": "code",
   "execution_count": 10,
   "metadata": {},
   "outputs": [
    {
     "name": "stdout",
     "output_type": "stream",
     "text": [
      "10\n"
     ]
    }
   ],
   "source": [
    "print(suma(suma(1,2),suma(3,4)))"
   ]
  },
  {
   "cell_type": "markdown",
   "metadata": {},
   "source": [
    "### 2. Escribe una función llamada _**potencias2**_, que reciba un número n e imprima desde 1 ($2^0$) hasta $2^n$.  \n",
    "Por ejemplo, si se le pasa 10, imprimirá desde 1 hasta 1024 ($2^{10}$):  \n",
    "1 2 4 8 16 32 64 128 256 512 1024  \n",
    "Y si se le pasa 8, imprimirá desde 1 hasta 256 ($2^8$):  \n",
    "1 2 4 8 16 32 64 128 256 "
   ]
  },
  {
   "cell_type": "code",
   "execution_count": 27,
   "metadata": {},
   "outputs": [],
   "source": [
    "def potencias2(n):\n",
    "    exp=0\n",
    "    pot2=1\n",
    "    while (exp<=n):\n",
    "        print(pot2, end=\" \")\n",
    "        pot2*=2\n",
    "        exp+=1\n",
    "    print()"
   ]
  },
  {
   "cell_type": "markdown",
   "metadata": {},
   "source": [
    "### 3. Escribe un programa que utilice esta función varias veces para probar la función, al menos para los valores 4, 8 y 10."
   ]
  },
  {
   "cell_type": "code",
   "execution_count": 17,
   "metadata": {},
   "outputs": [
    {
     "name": "stdout",
     "output_type": "stream",
     "text": [
      "1 2 4 8 16 \n",
      "1 2 4 8 16 32 64 128 256 \n",
      "1 2 4 8 16 32 64 128 256 512 1024 \n"
     ]
    }
   ],
   "source": [
    "potencias2(4)\n",
    "potencias2(8)\n",
    "potencias2(10)"
   ]
  },
  {
   "cell_type": "markdown",
   "metadata": {},
   "source": [
    "### 4. Escribe una función llamada _**potencias**_, que reciba dos números **x** e **y**, e imprima los valores desde $2^x$ hasta $2^y$."
   ]
  },
  {
   "cell_type": "code",
   "execution_count": 32,
   "metadata": {},
   "outputs": [
    {
     "name": "stdout",
     "output_type": "stream",
     "text": [
      "16 32 64 128 256 \n",
      "1 2 4 8 16 32 64 128 256 512 1024 \n",
      "2 4 8 16 32 \n",
      "128 \n",
      "1 \n"
     ]
    }
   ],
   "source": [
    "def potencias(x,y):\n",
    "    '''\n",
    "    imprime los valores entre 2^x y 2^y\n",
    "    0 <= x <= y\n",
    "    '''\n",
    "    exp=0\n",
    "    pot2=1\n",
    "    \n",
    "    if x>y or x<0:\n",
    "        return\n",
    "    \n",
    "    while (exp<x):\n",
    "        pot2*=2\n",
    "        exp+=1\n",
    "    \n",
    "    while (exp<=y):\n",
    "        print(pot2, end=\" \")\n",
    "        pot2*=2\n",
    "        exp+=1\n",
    "    \n",
    "    print()\n",
    "\n",
    "# probamos casos generales\n",
    "potencias(4,8)\n",
    "potencias(0,10)\n",
    "potencias(1,5)\n",
    "\n",
    "# probamos casos extremos\n",
    "potencias(7,7)\n",
    "potencias(0,0)\n",
    "\n",
    "# probamos casos de error\n",
    "potencias(-1,6)\n",
    "potencias(7,5)\n",
    "\n"
   ]
  },
  {
   "cell_type": "markdown",
   "metadata": {},
   "source": [
    "* Dentro del código de una función se puede llamar a otras funciones"
   ]
  },
  {
   "cell_type": "code",
   "execution_count": 33,
   "metadata": {},
   "outputs": [
    {
     "name": "stdout",
     "output_type": "stream",
     "text": [
      "5 es impar\n",
      "234 es par\n"
     ]
    }
   ],
   "source": [
    "def par(numero):\n",
    "    if numero%2 == 0:\n",
    "        return True\n",
    "    return False\n",
    "\n",
    "def imprimePar(numero):\n",
    "    if par(numero):\n",
    "        print (numero, \"es par\")\n",
    "    else:\n",
    "        print (numero, \"es impar\")\n",
    "\n",
    "imprimePar(5)\n",
    "imprimePar(234)\n"
   ]
  },
  {
   "cell_type": "markdown",
   "metadata": {},
   "source": [
    "## Funciones recursivas\n",
    "* Cuando una función se llama a sí misma se dice que es recursiva\n",
    "  + Ejemplo: Factorial de un número\n",
    "    - Es el producto de un número por el factorial del anterior"
   ]
  },
  {
   "cell_type": "code",
   "execution_count": 37,
   "metadata": {},
   "outputs": [
    {
     "name": "stdout",
     "output_type": "stream",
     "text": [
      "2! = 2\n",
      "3! = 6\n",
      "4! = 24\n",
      "5! = 120\n",
      "10! = 3628800\n",
      "50! = 30414093201713378043612608166064768844377641568960512000000000000\n",
      "100! = 93326215443944152681699238856266700490715968264381621468592963895217599993229915608941463976156518286253697920827223758251185210916864000000000000000000000000\n"
     ]
    }
   ],
   "source": [
    "def factorial(n):\n",
    "    if n <= 1:\n",
    "        return 1\n",
    "    return n * factorial(n - 1)\n",
    "\n",
    "print (\"2! =\", factorial(2))\n",
    "print (\"3! =\", factorial(3))\n",
    "print (\"4! =\", factorial(4))\n",
    "print (\"5! =\", factorial(5))\n",
    "print (\"10! =\", factorial(10))\n",
    "print (\"50! =\", factorial(50))\n",
    "print (\"100! =\", factorial(100))"
   ]
  },
  {
   "cell_type": "markdown",
   "metadata": {},
   "source": [
    "* Existen las funciones recursivas múltiples: hace falta más de una llamada recursiva para resolverlas\n",
    "  + Ejemplo: Sucesión de Fibonacci\n",
    "    - Una sucesión de números enteros donde cada uno es la suma de los dos anteriores \n",
    "    - Empieza con 0 y 1 "
   ]
  },
  {
   "cell_type": "code",
   "execution_count": 45,
   "metadata": {},
   "outputs": [
    {
     "name": "stdout",
     "output_type": "stream",
     "text": [
      "1 1 2 3 5\n",
      "8\n",
      "13\n",
      "21\n",
      "34\n",
      "55\n",
      "6765\n",
      "832040\n",
      "9227465\n"
     ]
    }
   ],
   "source": [
    "def fibonacci(n):\n",
    "    \"\"\" Función de Fibonacci como una función recursiva. \"\"\"\n",
    "    \n",
    "    if n==0: return 0\n",
    "    if n==1 or n==2:\n",
    "        return 1\n",
    "    return fibonacci(n-1)+fibonacci(n-2)\n",
    "\n",
    "print (fibonacci(1), fibonacci(2), fibonacci(3), fibonacci(4), \\\n",
    "fibonacci(5))\n",
    "\n",
    "print (fibonacci(6))\n",
    "print (fibonacci(7))\n",
    "print (fibonacci(8))\n",
    "print (fibonacci(9))\n",
    "print (fibonacci(10))\n",
    "print (fibonacci(20))\n",
    "print (fibonacci(30))\n",
    "print (fibonacci(35))\n"
   ]
  },
  {
   "cell_type": "markdown",
   "metadata": {},
   "source": [
    "## Ejercicios\n",
    "### 1. Haz una función serieFibonacci(n) que imprima una serie de Fibonacci de tantos números como se le pase como argumento\n",
    "Por ejemplo, serieFibonacci(12) imprimirá\n",
    "0 1 1 2 3 5 8 13 21 34 55 89 144"
   ]
  },
  {
   "cell_type": "code",
   "execution_count": 49,
   "metadata": {},
   "outputs": [
    {
     "name": "stdout",
     "output_type": "stream",
     "text": [
      "0 1 1 2 3 5 8 13 21 34 55 89 144 \n",
      "0 1 1 \n",
      "0 1 \n",
      "0 \n"
     ]
    }
   ],
   "source": [
    "def serieFibonacci(n):\n",
    "    if n<0:\n",
    "        return\n",
    "    \n",
    "    i=0\n",
    "    while i<=n:\n",
    "        print(fibonacci(i),end=\" \")\n",
    "        i+=1\n",
    "    print()\n",
    "\n",
    "serieFibonacci(12)\n",
    "serieFibonacci(2)\n",
    "serieFibonacci(1)\n",
    "serieFibonacci(0)\n",
    "serieFibonacci(-1)"
   ]
  },
  {
   "cell_type": "markdown",
   "metadata": {},
   "source": [
    "### 2. Cambia la función fibonacci(n) para que se implemente como un bucle while en vez de recursiva"
   ]
  },
  {
   "cell_type": "code",
   "execution_count": 52,
   "metadata": {},
   "outputs": [
    {
     "name": "stdout",
     "output_type": "stream",
     "text": [
      "0\n",
      "1\n",
      "1\n",
      "2\n",
      "3\n",
      "5\n",
      "8\n",
      "13\n",
      "21\n",
      "34\n",
      "55\n"
     ]
    }
   ],
   "source": [
    "def fibonacciIter(n):\n",
    "    if n<0:\n",
    "        return\n",
    "    elif n<2:\n",
    "        print (n)\n",
    "        return\n",
    "\n",
    "    fib1=0\n",
    "    fib2=1\n",
    "    cont=2\n",
    "\n",
    "    while cont<=n:\n",
    "        fib2,fib1 = fib2+fib1,fib2\n",
    "        cont+=1\n",
    "    print (fib2)\n",
    "    \n",
    "fibonacciIter(-1)\n",
    "fibonacciIter(0)\n",
    "fibonacciIter(1)\n",
    "fibonacciIter(2)\n",
    "fibonacciIter(3)\n",
    "fibonacciIter(4)\n",
    "fibonacciIter(5)\n",
    "fibonacciIter(6)\n",
    "fibonacciIter(7)\n",
    "fibonacciIter(8)\n",
    "fibonacciIter(9)\n",
    "fibonacciIter(10)"
   ]
  },
  {
   "cell_type": "markdown",
   "metadata": {},
   "source": [
    "### 3. Escribe una función invierte(s) a la que se le pasa un string y devuelve otro con el string invertido. Por ejemplo para \"Python!\" devolvería \"!nohtyP\""
   ]
  },
  {
   "cell_type": "code",
   "execution_count": 56,
   "metadata": {},
   "outputs": [
    {
     "name": "stdout",
     "output_type": "stream",
     "text": [
      "!nohtyP\n",
      "daba le arroz al a zorra elabaD\n",
      "ataled em o ,niaC ocainomed ,elatA\n"
     ]
    }
   ],
   "source": [
    "def invierte(s):\n",
    "    cont = len(s)\n",
    "    \n",
    "    while cont>0:\n",
    "        print (s[cont-1], end=\"\")\n",
    "        cont-=1\n",
    "    print()\n",
    "    \n",
    "invierte(\"Python!\")\n",
    "invierte(\"Dabale arroz a la zorra el abad\")\n",
    "invierte(\"Atale, demoniaco Cain, o me delata\")"
   ]
  },
  {
   "cell_type": "markdown",
   "metadata": {},
   "source": [
    "## Funciones del lenguaje\n",
    "* Hay un conjunto de funciones que están implementadas en el lenguaje y se pueden usar sin necesidad de **import**: _Built-in Functions_\n",
    "  + Documentadas en https://docs.python.org/3/library/functions.html \n",
    "  + Se irán usando durante el curso\n",
    "* Ejemplos:\n",
    "  + abs(x), divmod(x, y), round(x), sum(iterable)\n",
    "  + all(iterable), any(iterable)\n",
    "  + cmp(x, y)\n",
    "  + dir(módulo), globals(), locals()\n",
    "  + input(texto), raw_input(texto)\n",
    "  + len(s)\n",
    "  + max(args), min(args)\n",
    "  + print()\n",
    "  + range(inicio, fin)\n",
    "  + str(objeto)\n",
    "  \n",
    "## Argumentos de funciones\n",
    "* Los argumentos de las funciones se pasan **por referencia**\n",
    "  + El argumento es una referencia a un objeto \n",
    "  + Por tanto los cambios que se hagan dentro de la función afectan al objeto referenciado\n",
    "  + **Pero si se cambia la referencia no**\n",
    "* Esto se ve con tipos más complejos como listas, diccionarios o clases"
   ]
  },
  {
   "cell_type": "code",
   "execution_count": 57,
   "metadata": {},
   "outputs": [
    {
     "name": "stdout",
     "output_type": "stream",
     "text": [
      "[0, 1, 2, 1]\n",
      "[0, 1, 2, 1]\n",
      "[0, 0, 0]\n",
      "[0, 1, 2]\n"
     ]
    }
   ],
   "source": [
    "def cambia(l):  \n",
    "    l.append(1)\n",
    "    print(l)\n",
    "\n",
    "lista = [0, 1, 2]\n",
    "cambia(lista)\n",
    "print(lista) # [0, 1, 2, 1]\n",
    "\n",
    "def nocambia(l):  \n",
    "    l = [0, 0, 0]\n",
    "    print(l)  # [0, 0, 0]\n",
    "\n",
    "lista = [0, 1, 2]\n",
    "nocambia(lista)\n",
    "print(lista) # [0, 1, 2]\n"
   ]
  },
  {
   "cell_type": "markdown",
   "metadata": {},
   "source": [
    "* Paso de argumentos en la llamada a función\n",
    "  + Algunos son obligatorios\n",
    "  + Se pueden pasar todos en orden o con clave\n",
    "  + Otros pueden tener un valor por defecto"
   ]
  },
  {
   "cell_type": "code",
   "execution_count": 59,
   "metadata": {},
   "outputs": [
    {
     "name": "stdout",
     "output_type": "stream",
     "text": [
      "Ana (14)\n",
      "Juan (10)\n",
      "Pepe (10)\n"
     ]
    }
   ],
   "source": [
    "def info(nombre, edad=10):\n",
    "    print (nombre+\" (\"+str(edad)+\")\")\n",
    "\n",
    "# llamada normal con todos los argumentos en orden\n",
    "info(\"Ana\", 14)\n",
    "\n",
    "# llamada sin poner el argumento por defecto, que toma el valor predeterminado\n",
    "info(\"Juan\") # info(nombre=\"Juan\")\n",
    "\n",
    "# llamada usando el nombre de los argumentos en cualquier orden\n",
    "info(edad=10, nombre=\"Pepe\")"
   ]
  },
  {
   "cell_type": "code",
   "execution_count": 58,
   "metadata": {},
   "outputs": [
    {
     "ename": "SyntaxError",
     "evalue": "positional argument follows keyword argument (<ipython-input-58-2f733805b285>, line 14)",
     "output_type": "error",
     "traceback": [
      "\u001b[1;36m  File \u001b[1;32m\"<ipython-input-58-2f733805b285>\"\u001b[1;36m, line \u001b[1;32m14\u001b[0m\n\u001b[1;33m    info(edad=10, \"Pepe\")\u001b[0m\n\u001b[1;37m                  ^\u001b[0m\n\u001b[1;31mSyntaxError\u001b[0m\u001b[1;31m:\u001b[0m positional argument follows keyword argument\n"
     ]
    }
   ],
   "source": [
    "# llamada incorrecta\n",
    "info(edad=10, \"Pepe\")"
   ]
  },
  {
   "cell_type": "markdown",
   "metadata": {},
   "source": [
    "## Funciones con una lista variable de argumentos\n",
    "* Se pueden definir funciones que tienen una lista variable de argumentos\n",
    "* Se utiliza * para indicar que hay una lista variable de argumentos"
   ]
  },
  {
   "cell_type": "code",
   "execution_count": 65,
   "metadata": {},
   "outputs": [
    {
     "name": "stdout",
     "output_type": "stream",
     "text": [
      "Juan: 1 2 2 4 5.5 \n",
      "Juan: \n"
     ]
    }
   ],
   "source": [
    "def notas(nombre, *resultados):\n",
    "    print(nombre+\":\",end=\" \")\n",
    "    \n",
    "    cont=0\n",
    "    while cont<len(resultados):\n",
    "        print (resultados[cont],end=\" \")\n",
    "        cont+=1\n",
    "#    for r in resultados:\n",
    "#        print (r,end=\" \")\n",
    "    print()\n",
    "\n",
    "notas(\"Juan\", 1, 2, 2, 4, 5.5)\n",
    "notas(\"Juan\")\n"
   ]
  },
  {
   "cell_type": "markdown",
   "metadata": {},
   "source": [
    "## Función que devuelve una tupla de valores\n",
    "* Se pueden hacer funciones que devuelvan una lista de valores \n",
    "  + Se devolverán como una tupla (las tuplas se verán más adelante)"
   ]
  },
  {
   "cell_type": "code",
   "execution_count": 66,
   "metadata": {},
   "outputs": [
    {
     "name": "stdout",
     "output_type": "stream",
     "text": [
      "(14, 22)\n"
     ]
    }
   ],
   "source": [
    "def ordena(x,y):\n",
    "    if x <= y:\n",
    "        return x, y\n",
    "    else:\n",
    "        return y, x\n",
    "\n",
    "\n",
    "print (ordena(22, 14))"
   ]
  },
  {
   "cell_type": "markdown",
   "metadata": {},
   "source": [
    "## Ejercicios\n",
    "### 1. Haz una función que reciba dos números como argumentos y compare sus valores, y devuelva True si son iguales y False en otro caso"
   ]
  },
  {
   "cell_type": "code",
   "execution_count": 67,
   "metadata": {},
   "outputs": [
    {
     "name": "stdout",
     "output_type": "stream",
     "text": [
      "True\n",
      "False\n"
     ]
    }
   ],
   "source": [
    "def iguales(a,b):\n",
    "    if a==b:\n",
    "        return True\n",
    "    return False\n",
    "\n",
    "print(iguales(5,5))\n",
    "print(iguales(5,6))"
   ]
  },
  {
   "cell_type": "markdown",
   "metadata": {},
   "source": [
    "### 2. Haz otra función que pida dos números, llame a la función anterior e imprima \"Son iguales\" o \"La diferencia entre el primero y el segundo es x\", siendo x la diferencia entre el primer y el segundo números"
   ]
  },
  {
   "cell_type": "code",
   "execution_count": 70,
   "metadata": {},
   "outputs": [
    {
     "name": "stdin",
     "output_type": "stream",
     "text": [
      "Introduce un número:  35\n",
      "Introduce otro número:  45\n"
     ]
    },
    {
     "name": "stdout",
     "output_type": "stream",
     "text": [
      "La diferencia entre el primero y el segundo es -10\n"
     ]
    }
   ],
   "source": [
    "def diferencia():\n",
    "    a=eval(input(\"Introduce un número: \"))\n",
    "    b=eval(input(\"Introduce otro número: \"))\n",
    "    \n",
    "    if iguales(a,b):\n",
    "        print(\"Son iguales\")\n",
    "    else:\n",
    "        print(\"La diferencia entre el primero y el segundo es %i\" % (a-b))\n",
    "        \n",
    "diferencia()"
   ]
  },
  {
   "cell_type": "markdown",
   "metadata": {},
   "source": [
    "### 3. Haz una función que convierta de grados Farenheit en grados Celsius. Para ello ten en cuenta que hay que restar 32 a los grados Farenheit y multiplicar el resultado por cinco novenos (100º F = 37.77777777777778 ºC)"
   ]
  },
  {
   "cell_type": "code",
   "execution_count": 72,
   "metadata": {},
   "outputs": [
    {
     "name": "stdout",
     "output_type": "stream",
     "text": [
      "-17.77777777777778\n",
      "0.0\n",
      "82.22222222222223\n",
      "100.0\n"
     ]
    }
   ],
   "source": [
    "def FtoC (gradosF):\n",
    "    return (gradosF-32)*5/9\n",
    "\n",
    "print(FtoC(0))\n",
    "print(FtoC(32))\n",
    "print(FtoC(180))\n",
    "print(FtoC(212))"
   ]
  },
  {
   "cell_type": "markdown",
   "metadata": {},
   "source": [
    "### 4. Define  una función que calcule la media aritmética de los elementos de una lista de argumentos variable: def media(*numero)"
   ]
  },
  {
   "cell_type": "code",
   "execution_count": 76,
   "metadata": {},
   "outputs": [
    {
     "name": "stdout",
     "output_type": "stream",
     "text": [
      "1.0\n",
      "5.0\n"
     ]
    }
   ],
   "source": [
    "def media(*numero):\n",
    "    long=len(numero)\n",
    "    suma=i=0\n",
    "    \n",
    "    while i<long:\n",
    "        suma+=numero[i]\n",
    "        i+=1\n",
    "        \n",
    "    return suma/long\n",
    "\n",
    "print(media(1,1,1,1,1,1,1,1,1,1))\n",
    "print(media(1,2,3,4,5,6,7,8,9))"
   ]
  },
  {
   "cell_type": "markdown",
   "metadata": {},
   "source": [
    "## Espacio de nombres y ámbito de las variables\n",
    "* El espacio de nombres (**namespace**) define el conjunto de variables que se pueden usar en el código del programa en un sitio dado\n",
    "* Se distingue entre\n",
    "  + **Espacio de nombres local**: variable o argumento definido en una función, una clase, o un bloque (por ejemplo, en un if o un bucle)\n",
    "  + **Espacio de nombres global**: las definidas a nivel de programa\n",
    "* Si un identificador se refiere a una variable local y global, se utilizará para la local\n",
    "* Para usar una variable global en un espacio de nombres local se debe declarar con la sentencia global"
   ]
  },
  {
   "cell_type": "markdown",
   "metadata": {},
   "source": [
    "pasta=100.0\n",
    "\n",
    "def gasta(dinero):\n",
    "    global pasta\n",
    "    pasta -= dinero\n",
    "\n",
    "def gasta2(dinero):\n",
    "    pasta = dinero\n",
    "    \n",
    "gasta(4)\n",
    "print(pasta)\n",
    "gasta2(4)\n",
    "print(pasta)"
   ]
  },
  {
   "cell_type": "markdown",
   "metadata": {},
   "source": [
    "**¡¡¡No es buena práctica usar variables globales dentro de funciones!!!**  \n",
    "**¡¡¡No es buena práctica usar variables globales dentro de funciones!!!**  \n",
    "**¡¡¡No es buena práctica usar variables globales dentro de funciones!!!**"
   ]
  },
  {
   "cell_type": "markdown",
   "metadata": {},
   "source": [
    "## Más tipos de datos: listas, tuplas y diccionarios\n",
    "\n",
    "## Listas\n",
    "* Es muy habitual manejar colecciones de objetos\n",
    "  + Lista de la compra\n",
    "  + Lugares por donde pasa un camino\n",
    "  + Alumnos en una clase, asignaturas matriculadas\n",
    "  + Días de la semana, meses del año\n",
    "* Las listas son parecidas a los strings (que son listas de caracteres)\n",
    "* La lista se define con una serie de **elementos separados por comas y entre corchetes []**\n",
    "* Los elementos de la lista están **numerados de 0 a n-1**"
   ]
  },
  {
   "cell_type": "code",
   "execution_count": 6,
   "metadata": {},
   "outputs": [
    {
     "name": "stdin",
     "output_type": "stream",
     "text": [
      "Elige un mes del 1 al 12:  4\n"
     ]
    },
    {
     "name": "stdout",
     "output_type": "stream",
     "text": [
      "El mes 4 es Abril\n"
     ]
    }
   ],
   "source": [
    "meses = ['Enero', 'Febrero', 'Marzo', 'Abril', 'Mayo', 'Junio', 'Julio','Agosto','Septiembre','Octubre','Noviembre','Diciembre']\n",
    "\n",
    "mes = eval(input(\"Elige un mes del 1 al 12: \"))\n",
    "if 1 <= mes <= 12:\n",
    "    print (\"El mes\", mes, \"es\", meses[mes-1])\n",
    "else:\n",
    "    print (\"No hay mes\", mes)\n"
   ]
  },
  {
   "cell_type": "markdown",
   "metadata": {},
   "source": [
    "* Cada posición de una lista puede contener un elemento de cualquier tipo: número, caracter, string, otra lista, etc.\n",
    "  + Se accede a cada elemento por su índice (de 0 en adelante)\n",
    "* El número de elementos de una lista puede variar\n",
    "  + Se añaden elementos al final con **lista.append(elemento)**\n",
    "  + Se borran elementos con **lista.remove(elemento)**\n",
    "  + Se obtiene el número de elementos con la función **len(lista)**\n",
    "* Las listas son objetos, y por eso las funciones (métodos) se invocan sobre ellos: **objeto.método(argumentos)**"
   ]
  },
  {
   "cell_type": "code",
   "execution_count": 7,
   "metadata": {},
   "outputs": [
    {
     "name": "stdout",
     "output_type": "stream",
     "text": [
      "Practico 2 deportes\n",
      "Ahora solo practico 1 deportes\n"
     ]
    }
   ],
   "source": [
    "deportes = [\"fútbol\", \"tenis\", \"ski\", \"padel\", \"jogging\", \"atletismo\", \"natación\"]\n",
    "\n",
    "practico = []\n",
    "practico.append(deportes[1])\n",
    "practico.append(deportes[3])\n",
    "print (\"Practico\", len(practico), \"deportes\")\n",
    "practico.remove(deportes[1])\n",
    "print (\"Ahora solo practico\", len(practico), \"deportes\")\n"
   ]
  },
  {
   "cell_type": "markdown",
   "metadata": {},
   "source": [
    "## Funciones para manipular listas\n",
    "* **lista.index(elemento)** - Indica el índice donde se encuentra por primera vez el elemento en la lista"
   ]
  },
  {
   "cell_type": "code",
   "execution_count": 17,
   "metadata": {},
   "outputs": [
    {
     "name": "stdout",
     "output_type": "stream",
     "text": [
      "2\n"
     ]
    },
    {
     "ename": "ValueError",
     "evalue": "'g' is not in list",
     "output_type": "error",
     "traceback": [
      "\u001b[1;31m---------------------------------------------------------------------------\u001b[0m",
      "\u001b[1;31mValueError\u001b[0m                                Traceback (most recent call last)",
      "\u001b[1;32m<ipython-input-17-a95d2ee391bf>\u001b[0m in \u001b[0;36m<module>\u001b[1;34m\u001b[0m\n\u001b[0;32m      1\u001b[0m \u001b[0mvocales\u001b[0m\u001b[1;33m=\u001b[0m\u001b[1;33m[\u001b[0m\u001b[1;34m'a'\u001b[0m\u001b[1;33m,\u001b[0m\u001b[1;34m'e'\u001b[0m\u001b[1;33m,\u001b[0m\u001b[1;34m'i'\u001b[0m\u001b[1;33m,\u001b[0m\u001b[1;34m'o'\u001b[0m\u001b[1;33m,\u001b[0m\u001b[1;34m'u'\u001b[0m\u001b[1;33m]\u001b[0m\u001b[1;33m\u001b[0m\u001b[1;33m\u001b[0m\u001b[0m\n\u001b[0;32m      2\u001b[0m \u001b[0mprint\u001b[0m\u001b[1;33m(\u001b[0m\u001b[0mvocales\u001b[0m\u001b[1;33m.\u001b[0m\u001b[0mindex\u001b[0m\u001b[1;33m(\u001b[0m\u001b[1;34m'i'\u001b[0m\u001b[1;33m)\u001b[0m\u001b[1;33m)\u001b[0m \u001b[1;31m# 2 (a es el 0, e el 1, i el 2)\u001b[0m\u001b[1;33m\u001b[0m\u001b[1;33m\u001b[0m\u001b[0m\n\u001b[1;32m----> 3\u001b[1;33m \u001b[0mprint\u001b[0m\u001b[1;33m(\u001b[0m\u001b[0mvocales\u001b[0m\u001b[1;33m.\u001b[0m\u001b[0mindex\u001b[0m\u001b[1;33m(\u001b[0m\u001b[1;34m'g'\u001b[0m\u001b[1;33m)\u001b[0m\u001b[1;33m)\u001b[0m \u001b[1;31m# ValueError: 'g' is not in list\u001b[0m\u001b[1;33m\u001b[0m\u001b[1;33m\u001b[0m\u001b[0m\n\u001b[0m",
      "\u001b[1;31mValueError\u001b[0m: 'g' is not in list"
     ]
    }
   ],
   "source": [
    "vocales=['a','e','i','o','u']\n",
    "print(vocales.index('i')) # 2 (a es el 0, e el 1, i el 2)\n",
    "print(vocales.index('g')) # ValueError: 'g' is not in list"
   ]
  },
  {
   "cell_type": "markdown",
   "metadata": {},
   "source": [
    "* **lista.insert(posición, elemento)** - Inserta el elemento en la posición especificada (para ponerlo al final usar append(elemento))"
   ]
  },
  {
   "cell_type": "code",
   "execution_count": 18,
   "metadata": {},
   "outputs": [
    {
     "name": "stdout",
     "output_type": "stream",
     "text": [
      "3\n"
     ]
    }
   ],
   "source": [
    "vocales.insert(3,'g')\n",
    "print(vocales.index('g'))"
   ]
  },
  {
   "cell_type": "markdown",
   "metadata": {},
   "source": [
    "* **del lista[posición]** - Elimina el elemento en la posición indicada"
   ]
  },
  {
   "cell_type": "code",
   "execution_count": 19,
   "metadata": {},
   "outputs": [
    {
     "name": "stdout",
     "output_type": "stream",
     "text": [
      "['a', 'e', 'i', 'o', 'u']\n"
     ]
    }
   ],
   "source": [
    "del vocales[3]\n",
    "print(vocales)"
   ]
  },
  {
   "cell_type": "markdown",
   "metadata": {},
   "source": [
    "* **in** permite comprobar si un elemento está en la lista"
   ]
  },
  {
   "cell_type": "code",
   "execution_count": 20,
   "metadata": {},
   "outputs": [
    {
     "name": "stdout",
     "output_type": "stream",
     "text": [
      "['a', 'e', 'i', 'g', 'o', 'u']\n",
      "['a', 'e', 'i', 'o', 'u']\n"
     ]
    }
   ],
   "source": [
    "vocales.insert(3,'g')\n",
    "print(vocales)\n",
    "\n",
    "if 'g' in vocales:\n",
    "    del vocales[vocales.index('g')]\n",
    "\n",
    "print(vocales)"
   ]
  },
  {
   "cell_type": "markdown",
   "metadata": {},
   "source": [
    "* Se pueden concatenar (+) y repetir (\\*) como los strings"
   ]
  },
  {
   "cell_type": "code",
   "execution_count": 22,
   "metadata": {},
   "outputs": [
    {
     "name": "stdout",
     "output_type": "stream",
     "text": [
      "['a', 'e', 'i', 'o', 'u', 'a', 'e', 'i', 'o', 'u']\n",
      "['a', 'e', 'i', 'o', 'u', 'a', 'e', 'i', 'o', 'u', 'a', 'e', 'i', 'o', 'u', 'a', 'e', 'i', 'o', 'u', 'a', 'e', 'i', 'o', 'u']\n"
     ]
    }
   ],
   "source": [
    "masVocales = vocales + vocales\n",
    "print(masVocales)\n",
    "muchasMasVocales = vocales*5\n",
    "print(muchasMasVocales)"
   ]
  },
  {
   "cell_type": "markdown",
   "metadata": {},
   "source": [
    "## Ejercicios\n",
    "### 1. Crea una lista de ciudades, imprímela, y a continuación pide al usuario que escriba el nombre de una de las ciudades e imprime su índice o un mensaje indicando que no está si no estuviera."
   ]
  },
  {
   "cell_type": "code",
   "execution_count": 24,
   "metadata": {},
   "outputs": [
    {
     "name": "stdout",
     "output_type": "stream",
     "text": [
      "['Alava', 'Almería', 'Badajoz', 'Cádiz', 'Écija', 'Guadalajara', 'Huesca', 'Jaén', 'León', 'Málaga', 'Oviedo', 'Palencia', 'Roma', 'Teruel', 'Vigo', 'Zamora']\n"
     ]
    },
    {
     "name": "stdin",
     "output_type": "stream",
     "text": [
      "Dime una ciudad:  Écija\n"
     ]
    },
    {
     "name": "stdout",
     "output_type": "stream",
     "text": [
      "Écija es la ciudad 5\n"
     ]
    }
   ],
   "source": [
    "ciudades=[\"Alava\",\"Almería\",\"Badajoz\",\"Cádiz\",\"Écija\",\"Guadalajara\",\"Huesca\",\"Jaén\",\n",
    "          \"León\",\"Málaga\",\"Oviedo\",\"Palencia\",\"Roma\",\"Teruel\",\"Vigo\",\"Zamora\"]\n",
    "print(ciudades)\n",
    "ciudad=input(\"Dime una ciudad: \")\n",
    "if ciudad in ciudades:\n",
    "    print(ciudad,\"es la ciudad\",ciudades.index(ciudad)+1)\n",
    "else:\n",
    "    print(\"No tengo esa ciudad\")"
   ]
  },
  {
   "cell_type": "markdown",
   "metadata": {},
   "source": [
    "### 2. Añade una pregunta al programa anterior para que le pida al usuario un número y muestre la ciudad correspondiente a ese índice."
   ]
  },
  {
   "cell_type": "code",
   "execution_count": 25,
   "metadata": {},
   "outputs": [
    {
     "name": "stdin",
     "output_type": "stream",
     "text": [
      "Ahora dime una posición:  8\n"
     ]
    },
    {
     "name": "stdout",
     "output_type": "stream",
     "text": [
      "La ciudad 8 es León\n"
     ]
    }
   ],
   "source": [
    "orden=eval(input(\"Ahora dime una posición: \"))\n",
    "print(\"La ciudad\",orden,\"es\",ciudades[orden-1])"
   ]
  },
  {
   "cell_type": "markdown",
   "metadata": {},
   "source": [
    "## Más funciones par manipular listas\n",
    "* **lista[inicio:fin:paso]** - Otra lista, con los elementos de inicio a (fin-1):  \n",
    "  [lista[inicio], lista[inicio+paso], lista[inicio+2*paso], …]\n",
    "* **lista[inicio:fin]** - Otra lista, con los elementos de inicio a (fin-1)\n",
    "* **lista[:n]** - Otra lista, con los n primeros elementos\n",
    "* **lista[m:]** - Otra lista, con los m últimos elementos\n",
    "* **lista[::-1]** - Una lista con los elementos de derecha a izquierda"
   ]
  },
  {
   "cell_type": "code",
   "execution_count": 26,
   "metadata": {},
   "outputs": [
    {
     "name": "stdout",
     "output_type": "stream",
     "text": [
      "['e', 'i', 'o']\n",
      "False\n",
      "['a', 'e']\n",
      "['a', 'e', 'a', 'e', 'a', 'e']\n",
      "['u']\n",
      "['u', 'o', 'i', 'e', 'a']\n",
      "o\n"
     ]
    }
   ],
   "source": [
    "vocales = ['a', 'e', 'i', 'o', 'u']\n",
    "centrales = vocales[1:4]  # ['e', 'i', 'o']\n",
    "print(centrales)\n",
    "print('a' in centrales)  # False\n",
    "primeras = vocales[:2]  # ['a', 'e']\n",
    "print(primeras)\n",
    "print(primeras*3)  # ['a', 'e', 'a', 'e', 'a', 'e']\n",
    "ultima = vocales[4:]  # ['u']\n",
    "print(ultima)\n",
    "alreves = vocales[::-1]  # ['u', 'o', 'i', 'e', 'a']\n",
    "print(alreves)\n",
    "print(vocales[-2])  # 'o'  al ser negativo cuenta desde el final"
   ]
  },
  {
   "cell_type": "markdown",
   "metadata": {},
   "source": [
    "## Ejercicios\n",
    "### 1. Dada la lista L = \\[0,1,2,3,4,5,6,7,8,9\\], escribe expresiones en Python que produzcan los siguientes resultados:\n",
    "* El primer elemento de la lista\n",
    "* El último elemento de la lista (sin conocer la longitud de la lista)\n",
    "* La sublista con los dos últimos elementos: \\[8,9\\]\n",
    "* Los elementos que ocupan posiciones pares: \\[0,2,4,6,8\\]\n",
    "* Los elementos que ocupan posiciones impares: \\[1,3,5,7,9\\]\n",
    "* Los múltiplos de 3: \\[0,3,6,9\\]"
   ]
  },
  {
   "cell_type": "code",
   "execution_count": 33,
   "metadata": {},
   "outputs": [
    {
     "name": "stdout",
     "output_type": "stream",
     "text": [
      "Primer elemento 0\n",
      "Ultimo elemento 9\n",
      "Dos últimos elementos [8, 9]\n",
      "Elementos de las posiciones pares [0, 2, 4, 6, 8]\n",
      "Elementos de las posiciones impares [1, 3, 5, 7, 9]\n",
      "Múltiplos de 3 [0, 3, 6, 9]\n"
     ]
    }
   ],
   "source": [
    "lista=[0,1,2,3,4,5,6,7,8,9]\n",
    "\n",
    "print(\"Primer elemento\",lista[0])\n",
    "print(\"Ultimo elemento\",lista[-1])\n",
    "print(\"Dos últimos elementos\",lista[-2:])\n",
    "print(\"Elementos de las posiciones pares\",lista[::2])\n",
    "print(\"Elementos de las posiciones impares\",lista[1::2])\n",
    "print(\"Múltiplos de 3\",lista[::3])"
   ]
  },
  {
   "cell_type": "markdown",
   "metadata": {},
   "source": [
    "## Recorriendo listas: el bucle **for**\n",
    "* Si queremos tratar todos los elementos de una lista habrá que recorrerla elemento por elemento\n",
    "* Bucle **for**\n",
    "  + Más cómodo que con el bucle while  \n",
    "    **for** variable **in** lista:\n",
    "            #instrucciones, siendo variable=lista[i], i=0..len-1 \n",
    "  + La variable suele crearse nueva para referirse a cada elemento de la lista durante el bucle y cuando acaba deja de ser utilizable\n",
    "  + Se ejecuta asignando en cada paso variable=lista\\[0\\], variable=lista\\[1\\], … hasta variable=lista\\[len(lista)-1\\]"
   ]
  },
  {
   "cell_type": "code",
   "execution_count": 34,
   "metadata": {},
   "outputs": [
    {
     "name": "stdout",
     "output_type": "stream",
     "text": [
      "fútbol\n",
      "tenis\n",
      "ski\n",
      "padel\n",
      "jogging\n",
      "atletismo\n",
      "natación\n"
     ]
    }
   ],
   "source": [
    "deportes = [\"fútbol\", \"tenis\", \"ski\", \"padel\", \"jogging\", \"atletismo\", \"natación\"]\n",
    "\n",
    "for deporte in deportes:\n",
    "    print(deporte)"
   ]
  },
  {
   "cell_type": "markdown",
   "metadata": {},
   "source": [
    "## Ejercicios\n",
    "### 1. Crea una lista con varios números y usando un bucle for imprime aquellos números que sean pares"
   ]
  },
  {
   "cell_type": "code",
   "execution_count": 35,
   "metadata": {},
   "outputs": [
    {
     "name": "stdout",
     "output_type": "stream",
     "text": [
      "2 34 6546 12 7674 \n"
     ]
    }
   ],
   "source": [
    "listaNumeros=[2,65,3235,76547,34,8587,2343,6546,12,8785,43,7674]\n",
    "\n",
    "for numero in listaNumeros:\n",
    "    if numero%2==0: \n",
    "        print(numero,end=\" \")\n",
    "print()"
   ]
  },
  {
   "cell_type": "markdown",
   "metadata": {},
   "source": [
    "### 2. Mejora el programa para que al final indique el número de números pares que hay en la lista"
   ]
  },
  {
   "cell_type": "code",
   "execution_count": 36,
   "metadata": {},
   "outputs": [
    {
     "name": "stdout",
     "output_type": "stream",
     "text": [
      "2 34 6546 12 7674 \n",
      "Hay 5 números pares\n"
     ]
    }
   ],
   "source": [
    "numPares=0\n",
    "for numero in listaNumeros:\n",
    "    if numero%2==0:\n",
    "        numPares+=1\n",
    "        print(numero,end=\" \")\n",
    "print()\n",
    "print(\"Hay\",numPares,\"números pares\")"
   ]
  },
  {
   "cell_type": "markdown",
   "metadata": {},
   "source": [
    "## Función **enumerate()**\n",
    "* Devuelve una secuencia de tuplas de la forma (i, valor)\n",
    "  + Permite asignar un índice a cada elemento de una secuencia\n",
    "  + Se le pasa como parámetro la secuencia a indexar "
   ]
  },
  {
   "cell_type": "code",
   "execution_count": 39,
   "metadata": {},
   "outputs": [
    {
     "name": "stdout",
     "output_type": "stream",
     "text": [
      "0: Enero\n",
      "1: Febrero\n",
      "2: Marzo\n",
      "3: Abril\n",
      "4: Mayo\n",
      "5: Junio\n",
      "6: Julio\n",
      "7: Agosto\n",
      "8: Septiembre\n",
      "9: Octubre\n",
      "10: Noviembre\n",
      "11: Diciembre\n",
      "<enumerate object at 0x0000026411EA2940>\n",
      "(0, 'Enero') (1, 'Febrero') (2, 'Marzo') (3, 'Abril') (4, 'Mayo') (5, 'Junio') (6, 'Julio') (7, 'Agosto') (8, 'Septiembre') (9, 'Octubre') (10, 'Noviembre') (11, 'Diciembre')\n"
     ]
    }
   ],
   "source": [
    "meses = ['Enero', 'Febrero', 'Marzo', 'Abril', 'Mayo', 'Junio',\n",
    "         'Julio','Agosto','Septiembre','Octubre','Noviembre','Diciembre']\n",
    "\n",
    "for (i, valor) in enumerate(meses):\n",
    "    print('%d: %s' % (i, valor))\n",
    "\n",
    "print(enumerate(meses))\n",
    "print(*enumerate(meses))"
   ]
  },
  {
   "cell_type": "markdown",
   "metadata": {},
   "source": [
    "## Bucle for con la función **range()**\n",
    "* La función **range()** genera un objeto iterable (no una lista)\n",
    "* La función **list()** permite recorrer el iterador para crear una lista\n",
    "  + **range(stop)** - \\[0, 1, 2, ... stop-1\\] \n",
    "  + **range(start, stop)** -  \\[start, start+1, start+2, ... stop-1\\]\n",
    "  + **range(start, stop, step)** - \\[start, start+step, start+2*step, ... stop-step\\]"
   ]
  },
  {
   "cell_type": "code",
   "execution_count": 44,
   "metadata": {},
   "outputs": [
    {
     "name": "stdout",
     "output_type": "stream",
     "text": [
      "[0, 1, 2, 3, 4, 5, 6, 7, 8, 9]\n",
      "[3, 4, 5, 6, 7, 8, 9, 10, 11]\n",
      "[1, 3, 5, 7, 9, 11, 13, 15, 17, 19]\n",
      "[]\n",
      "[-20, -18, -16, -14, -12, -10, -8, -6, -4, -2]\n"
     ]
    }
   ],
   "source": [
    "print(list(range(10)))\n",
    "print(list(range(3, 12)))\n",
    "print(list(range(1, 20, 2)))\n",
    "print(list(range(-1, -12)))\n",
    "print(list(range(-20,0,2)))"
   ]
  },
  {
   "cell_type": "markdown",
   "metadata": {},
   "source": [
    "* Para repetir una acción un número de veces:  \n",
    "    **for** variable **in** range(veces):\n",
    "        # instrucciones"
   ]
  },
  {
   "cell_type": "code",
   "execution_count": 45,
   "metadata": {},
   "outputs": [
    {
     "name": "stdout",
     "output_type": "stream",
     "text": [
      "0 1 2 3 4 5 6 7 8 9 "
     ]
    }
   ],
   "source": [
    "for i in range(10):\n",
    "    print(i, end=\" \")\n"
   ]
  },
  {
   "cell_type": "markdown",
   "metadata": {},
   "source": [
    "## Bucle for con la función **zip()**\n",
    "* La función **zip** permite recorrer dos o más listas a la vez\n",
    "  + zip crea pares de elementos al pasarle dos listas y se para cuando se acabe la que tenga menos elementos"
   ]
  },
  {
   "cell_type": "code",
   "execution_count": 48,
   "metadata": {},
   "outputs": [
    {
     "name": "stdout",
     "output_type": "stream",
     "text": [
      "3 9 8 15 30 "
     ]
    }
   ],
   "source": [
    "list_a = [3, 9, 6, 15, 19]\n",
    "list_b = [2, 4, 8, 10, 30, 40, 50, 60, 70, 80, 90]\n",
    "\n",
    "for a, b in zip(list_a, list_b):\n",
    "  # Imprime el mayor de cada par de elementos de las listas\n",
    "  if a>b:\n",
    "    print(a,end=\" \")\n",
    "  else: \n",
    "    print(b,end=\" \")"
   ]
  },
  {
   "cell_type": "markdown",
   "metadata": {},
   "source": [
    "## Listas: Ordenar elementos con la función **sort()**\n",
    "* El método **sort()** permite ordenar los elementos de una lista"
   ]
  },
  {
   "cell_type": "code",
   "execution_count": 49,
   "metadata": {},
   "outputs": [
    {
     "name": "stdout",
     "output_type": "stream",
     "text": [
      "[-3, 0, 4, 5, 5, 32, 33, 33]\n",
      "El siguiente elemento está duplicado: 5\n",
      "El siguiente elemento está duplicado: 33\n"
     ]
    }
   ],
   "source": [
    "lista=[-3, 33, 0, 32, 33, 5, 4, 5]\n",
    "lista.sort()\n",
    "print(lista)\n",
    "\n",
    "prev = lista[0]\n",
    "del lista[0]\n",
    "for item in lista:\n",
    "    if prev == item:\n",
    "        print (\"El siguiente elemento está duplicado:\", prev)\n",
    "    prev = item\n"
   ]
  },
  {
   "cell_type": "markdown",
   "metadata": {},
   "source": [
    "## Ejercicios\n",
    "### 1. Define una función con dos argumentos, una lista de strings y un string. La función debe contar cuántas veces aparece el string en la lista. Comprueba si la función vale también para números."
   ]
  },
  {
   "cell_type": "code",
   "execution_count": 52,
   "metadata": {},
   "outputs": [
    {
     "name": "stdout",
     "output_type": "stream",
     "text": [
      "La palabra de aparece 2 veces en la frase En un lugar de la Mancha de cuyo nombre no quiero acordarme \n"
     ]
    }
   ],
   "source": [
    "def cuenta(lista,elemento):\n",
    "    apariciones=0\n",
    "    for elem in lista:\n",
    "        if elem==elemento:\n",
    "            apariciones+=1\n",
    "    return apariciones\n",
    "\n",
    "frase=[\"En\",\"un\",\"lugar\",\"de\",\"la\",\"Mancha\",\"de\",\"cuyo\",\"nombre\",\"no\",\"quiero\",\"acordarme\"]\n",
    "palabra=\"de\"\n",
    "ocurrencias=cuenta(frase,palabra)\n",
    "\n",
    "print(\"La palabra\",palabra,\"aparece\",ocurrencias,\"veces en la frase\",end=\" \")\n",
    "for p in frase:\n",
    "    print(p,end=\" \")\n",
    "print()"
   ]
  },
  {
   "cell_type": "markdown",
   "metadata": {},
   "source": [
    "### 2. Crea otra función que utilice la anterior para imprimir el porcentaje de veces que un elemento aparece en una lista, con el formato 'xx.xx%'. Por ejemplo, para la lista \\[1, 2, 2, 4, 6, 6, 7, 8, 9, 6\\], porcentaje de aparecer 6 será 30.00%"
   ]
  },
  {
   "cell_type": "code",
   "execution_count": 63,
   "metadata": {},
   "outputs": [
    {
     "name": "stdout",
     "output_type": "stream",
     "text": [
      "5.26 %\n"
     ]
    }
   ],
   "source": [
    "def porcentajeApariciones(lista,elemento):\n",
    "    ocurrencias=cuenta(lista,elemento)\n",
    "    porcentaje=ocurrencias/len(lista)\n",
    "    return porcentaje\n",
    "\n",
    "listaNumeros=[1,1,1,3,1,3,1,3,1,1,3,1,1,3,1,1,3,2,1]\n",
    "porcentaje=porcentajeApariciones(listaNumeros,2)\n",
    "print(round(porcentaje*100,2),\"%\")"
   ]
  },
  {
   "cell_type": "markdown",
   "metadata": {},
   "source": [
    "### 3. Haz una función que tenga una lista variable de argumentos y, utilizando sort(), pueda imprimir cuántas veces aparece cada argumento.\n",
    "* La salida puede ser ordenada por el número de veces que aparece el argumento, de mayor a menor\n",
    "* Y por orden alfabético si son strings\n",
    "* O por orden de mayor a menor si son números"
   ]
  },
  {
   "cell_type": "code",
   "execution_count": 75,
   "metadata": {},
   "outputs": [
    {
     "name": "stdout",
     "output_type": "stream",
     "text": [
      "[(0, 1), (1, 3), (2, 2), (3, 1), (4, 5), (5, 1), (6, 1), (7, 1), (8, 3)]\n"
     ]
    }
   ],
   "source": [
    "def repeticiones(*argumentos):\n",
    "    #convertimos argumentos de una tupla en una lista de elementos\n",
    "    elementos=list(argumentos)\n",
    "    \n",
    "    #inicializamos todo\n",
    "    elementos.sort()\n",
    "    actual=elementos[0]\n",
    "    cuenta=0\n",
    "    resultado=[]\n",
    "    \n",
    "    # contamos las repeticiones\n",
    "    for a in elementos:\n",
    "        if a==actual:\n",
    "            cuenta+=1\n",
    "        else:\n",
    "            resultado.append((actual,cuenta))\n",
    "            actual=a\n",
    "            cuenta=1\n",
    "    \n",
    "    print(resultado)\n",
    "    \n",
    "repeticiones(1,4,7,4,8,3,9,6,8,1,2,4,1,9,4,0,5,8,2,4)"
   ]
  },
  {
   "cell_type": "markdown",
   "metadata": {},
   "source": [
    "## Tuplas\n",
    "* Lo mismo que las listas pero no se pueden modificar\n",
    "  + Se escriben con **()** en vez de []\n",
    "  + No se puede borrar ningún elemento de la tupla\n",
    "  + Se pueden copiar elementos de la tupla\n",
    "  + Concatenar tuplas genera una nueva\n",
    "* Se pueden usar para listas de elementos en un programa que no se van a cambiar\n",
    "  + Por ejemplo, las opciones de un menú  \n",
    "    opciones = (\"Sí\", \"No\")\n",
    "    \n",
    "## Diccionarios\n",
    "* Similar a las listas pero en vez de acceder a los elementos por un índice se hace por una **clave (key)**\n",
    "  + La clave puede ser un número o un string\n",
    "  + No puede haber dos claves iguales (son únicas)\n",
    "  + Los valores pueden ser de cualquier tipo\n",
    "* Los diccionarios se escriben entre llaves  \n",
    "  { clave:valor, clave:valor, ... }\n",
    "* Ejemplos:\n",
    "  + Listín telefónico (nombre como clave, número de teléfono como valor)\n",
    "  + Passwords (nombre de usuario, password)\n",
    "  + Listas de personas (dni, nombre)\n",
    "  + Diccionarios (palabra, definicion)\n",
    "* Para crear una nueva entrada en el diccionario:  \n",
    "    diccionario[nueva_clave] = nuevo_valor\n",
    "  + Si la clave ya existe, se modificará la entrada correspondiente\n",
    "* Para eliminar una entrada del diccionario: **del o pop**  \n",
    "    del diccionario\\[clave\\]   \n",
    "    diccionario.pop(clave)\n",
    "* Para conocer el número de entradas en el diccionario: **len(diccionario)**"
   ]
  },
  {
   "cell_type": "code",
   "execution_count": 4,
   "metadata": {},
   "outputs": [
    {
     "name": "stdout",
     "output_type": "stream",
     "text": [
      "2 : {1: 'c', 2: 'b'}\n",
      "1 : {2: 'b'}\n",
      "2 : {2: 'b', 'clave2': 234}\n"
     ]
    }
   ],
   "source": [
    "d = { 1: 'a', 2: 'b', 1:'c'}\n",
    "# como hay dos claves 1 lo que se tiene es: {1: 'c', 2: 'b'}\n",
    "print(len(d),\":\",d)\n",
    "\n",
    "del d[1]  # {2: 'b'}\n",
    "print(len(d),\":\",d)  # 1\n",
    "d['clave2']=234  # {2: 'b', 'clave2': 234}\n",
    "print(len(d),\":\",d)  # 2"
   ]
  },
  {
   "cell_type": "markdown",
   "metadata": {},
   "source": [
    "## Recorrer un diccionario con for\n",
    "* Cuando se aplica a un diccionario, la variable del bucle for irá tomando los valores de las claves"
   ]
  },
  {
   "cell_type": "code",
   "execution_count": 1,
   "metadata": {},
   "outputs": [
    {
     "name": "stdout",
     "output_type": "stream",
     "text": [
      "{'Juan': 13, 'Ana': 22, 'Luis': 3, 'Isabel': 10}\n",
      "13 22 3 10 \n",
      "['Ana', 'Isabel', 'Juan', 'Luis']\n",
      "[3, 10, 13, 22]\n"
     ]
    }
   ],
   "source": [
    "d={'Juan':13, 'Ana':22, 'Luis':3, 'Isabel':10}\n",
    "print(d)\n",
    "\n",
    "for clave in d:\n",
    "    print (d[clave],end=\" \")  # 13, 22, 3, 10\n",
    "print() \n",
    "\n",
    "print(sorted(d))  # devuelve una lista ordenada: ['Ana', 'Isabel', 'Juan', 'Luis']\n",
    "\n",
    "print(sorted(d.values()))  # devuelve la lista de valores: [3, 10, 13, 22]\n"
   ]
  },
  {
   "cell_type": "markdown",
   "metadata": {},
   "source": [
    "## Ejercicios\n",
    "### 1. Crear una función que imprima un diccionario ordenado por sus claves.\n",
    "### 2. Crear otra función que imprima un diccionario ordenado por sus valores.\n",
    "### 3. Hacer un programa que pruebe ambas funciones con el diccionario del ejemplo anterior."
   ]
  },
  {
   "cell_type": "code",
   "execution_count": 2,
   "metadata": {},
   "outputs": [
    {
     "name": "stdout",
     "output_type": "stream",
     "text": [
      "Ana 22 Isabel 10 Juan 13 Luis 3 \n",
      "Luis 3 Isabel 10 Juan 13 Ana 22 \n"
     ]
    }
   ],
   "source": [
    "def imprimirPorClaves(diccionario):\n",
    "    for k,v in sorted(diccionario.items()):\n",
    "        print(k,v,end=\" \")\n",
    "    print()\n",
    "    \n",
    "def imprimirPorValores(diccionario):\n",
    "    for w in sorted(diccionario, key=diccionario.get):\n",
    "        print(w, diccionario[w],end=\" \")\n",
    "    print()\n",
    "\n",
    "imprimirPorClaves(d)\n",
    "imprimirPorValores(d)"
   ]
  },
  {
   "cell_type": "markdown",
   "metadata": {},
   "source": [
    "## Diccionarios: Iteradores\n",
    "* La función **items()** devuelve una lista de tuplas para cada par (clave,valor)\n",
    "* La función **keys()** devuelve una lista de las claves del diccionario\n",
    "* La función **values()** devuelve una lista de los valores del diccionario\n"
   ]
  },
  {
   "cell_type": "code",
   "execution_count": 6,
   "metadata": {},
   "outputs": [
    {
     "name": "stdout",
     "output_type": "stream",
     "text": [
      "dict_items([('Juan', 13), ('Ana', 22), ('Luis', 3), ('Isabel', 10)])\n",
      "dict_values([13, 22, 3, 10])\n",
      "dict_keys(['Juan', 'Ana', 'Luis', 'Isabel'])\n",
      "13 22 3 10 \n"
     ]
    }
   ],
   "source": [
    "d={'Juan':13, 'Ana':22, 'Luis':3, 'Isabel':10}\n",
    "\n",
    "print(d.items())\n",
    "print(d.values())\n",
    "print(d.keys())\n",
    "for k in d.keys():\n",
    "    print(d[k],end=\" \")\n",
    "print()"
   ]
  },
  {
   "cell_type": "markdown",
   "metadata": {},
   "source": [
    "## Funciones de diccionarios\n",
    "* Función **update()**\n",
    "  + Permite fusionar diccionarios  \n",
    "    diccionario1.update(diccionario2)\n",
    "  + Al diccionario1 se le añade el diccionario2, actualizando los valores correspondientes\n",
    "* Función **zip()**\n",
    "  + Permite crear un objeto iterable a partir de los elementos de otras secuencias\n",
    "  + Se puede usar para crear diccionarios a partir de dos secuencias"
   ]
  },
  {
   "cell_type": "code",
   "execution_count": 12,
   "metadata": {},
   "outputs": [
    {
     "name": "stdout",
     "output_type": "stream",
     "text": [
      "{1: 'lunes', 2: 'martes', 3: 'miercoles', 4: 'jueves', 5: 'viernes'}\n",
      "{6: 'sabado', 7: 'domingo'}\n",
      "{1: 'lunes', 2: 'martes', 3: 'miercoles', 4: 'jueves', 5: 'viernes', 6: 'sabado', 7: 'domingo'}\n"
     ]
    }
   ],
   "source": [
    "dias=('lunes', 'martes', 'miercoles', 'jueves', 'viernes')\n",
    "dias_finde=('sabado', 'domingo')\n",
    "\n",
    "semana=dict(zip(range(1,6), dias))\n",
    "print(semana)\n",
    "finde=dict(zip(range(6,8), dias_finde))\n",
    "print(finde)\n",
    "\n",
    "semana.update(finde)\n",
    "print(semana)"
   ]
  },
  {
   "cell_type": "markdown",
   "metadata": {},
   "source": [
    "## Ejercicios\n",
    "### 1. Partimos de dos listas con las ciudades más pobladas de Italia y el número de habitantes correspondientes:  \n",
    "  italia =  \\['Roma', 'Milán', 'Nápoles', 'Turín', 'Palermo' , 'Génova', 'Bolonia', 'Florencia', 'Bari', 'Catania'\\]  \n",
    "  pob =  \\[2718768, 1299633, 973132, 908263, 663173, 610887, 372256, 364710, 322511, 298957\\]\n",
    "* Crea un diccionario donde la clave sea el nombre de la ciudad y el valor la población. Para hacerlo utiliza las funciones zip() y dict()\n",
    "La solución debe ser algo así:  \n",
    "{'Florencia': 364710, 'Palermo': 663173, 'Catania': 298957, 'Turín': 908263, 'Bolonia': 372256, 'Bari': 322511, 'Milán': 1299633, 'Nápoles': 973132, 'Roma': 2718768, 'Génova': 610887}\n",
    "* Imprime el diccionario ordenado por ciudades\n",
    "* Imprime el diccionario ordenado por población\n"
   ]
  },
  {
   "cell_type": "code",
   "execution_count": 14,
   "metadata": {},
   "outputs": [
    {
     "name": "stdout",
     "output_type": "stream",
     "text": [
      "Bari 322511 Bolonia 372256 Catania 298957 Florencia 364710 Génova 610887 Milán 1299633 Nápoles 973132 Palermo 663173 Roma 2718768 Turín 908263 \n",
      "Roma 2718768 Milán 1299633 Nápoles 973132 Turín 908263 Palermo 663173 Génova 610887 Bolonia 372256 Florencia 364710 Bari 322511 Catania 298957 \n"
     ]
    }
   ],
   "source": [
    "def imprimirPorCiudades(diccionario):\n",
    "    for k,v in sorted(diccionario.items()):\n",
    "        print(k,v,end=\" \")\n",
    "    print()\n",
    "    \n",
    "def imprimirPorPoblacion(diccionario):\n",
    "    for w in sorted(diccionario, key=diccionario.get, reverse=True):\n",
    "        print(w, diccionario[w],end=\" \")\n",
    "    print()\n",
    "\n",
    "italia =  [ 'Roma', 'Milán', 'Nápoles', 'Turín', 'Palermo' , 'Génova', 'Bolonia', 'Florencia', 'Bari', 'Catania']\n",
    "pob =  [2718768, 1299633, 973132, 908263, 663173, 610887, 372256, 364710, 322511, 298957]\n",
    "ciudades_italia=dict(zip(italia,pob))\n",
    "    \n",
    "imprimirPorCiudades(ciudades_italia)\n",
    "imprimirPorPoblacion(ciudades_italia)"
   ]
  },
  {
   "cell_type": "markdown",
   "metadata": {},
   "source": [
    "### 2. Crea un listín telefónico\n",
    "* Es una lista de pares nombre, número de teléfono\n",
    "* Añade entradas al listín\n",
    "* Haz una función para buscar un número de teléfono a partir de un nombre"
   ]
  },
  {
   "cell_type": "code",
   "execution_count": 19,
   "metadata": {},
   "outputs": [
    {
     "name": "stdout",
     "output_type": "stream",
     "text": [
      "{'Frodo Bolson': '600 500 400', 'Bilbo Bolson': '600 500 401', 'Meriadoc Brandigamo': '610 405 504', 'Peregrin Tuk': '605 848 369', 'Samsagaz Gamyi': '601 902 901', 'Trancos el Montaraz': '609 102 431', 'Morgoth Bauglir': '666 666 666', 'Sauron': '600 600 600', 'Gimli el enano': '607 102 200', 'Legolas el elfo': '602 004 060'}\n",
      "El teléfono de Sauron es 600 600 600\n",
      "El teléfono de Frodo es None\n"
     ]
    }
   ],
   "source": [
    "def buscar(d,n):\n",
    "    if n in d:\n",
    "        return d[n]\n",
    "\n",
    "listin={'Frodo Bolson':'600 500 400','Bilbo Bolson':'600 500 401','Meriadoc Brandigamo':'610 405 504','Peregrin Tuk':'605 848 369',\n",
    "        'Samsagaz Gamyi':'601 902 901', 'Trancos el Montaraz':'609 102 431', 'Morgoth Bauglir':'666 666 666','Sauron':'600 600 600'}\n",
    "listin['Gimli el enano']='607 102 200'\n",
    "listin['Legolas el elfo']='602 004 060'\n",
    "\n",
    "print(listin)\n",
    "\n",
    "print(\"El teléfono de Sauron es\",buscar(listin,'Sauron'))\n",
    "print(\"El teléfono de Frodo es\",buscar(listin,'Frodo'))"
   ]
  },
  {
   "cell_type": "markdown",
   "metadata": {},
   "source": [
    "### 3. Crea un diccionario de países y monedas\n",
    "* Haz una función que obtenga todos los países donde se usa una moneda\n",
    "* Aplícalo para ver todos los países donde se usa el \"Euro\"\n",
    "* Haz otro diccionario que tenga la conversión de monedas al dólar\n",
    "* Haz una función euro2dolar que tenga como argumento un valor en euros y devuelva el equivalente en dólares\n",
    "* Haz una función dolar2euro que tenga como argumento un valor en dólares y devuelva el equivalente en euros"
   ]
  },
  {
   "cell_type": "code",
   "execution_count": 29,
   "metadata": {},
   "outputs": [
    {
     "name": "stdout",
     "output_type": "stream",
     "text": [
      "['España', 'Francia', 'Portugal', 'Irlanda', 'Italia']\n",
      "['Canada', 'USA']\n",
      "[]\n",
      "11.799999999999999\n",
      "10.000000000000002\n",
      "5925.925925925926\n"
     ]
    }
   ],
   "source": [
    "def paisesMoneda(diccionario,moneda):\n",
    "    resultado=[]\n",
    "    for pais in diccionario:\n",
    "        if diccionario[pais]==moneda:\n",
    "            resultado.append(pais)\n",
    "    return resultado\n",
    "\n",
    "def euro2dolar(cantidad,dict_monedas):\n",
    "    return cantidad*dict_monedas['euro']\n",
    "\n",
    "def dolar2euro(cantidad,dict_monedas):\n",
    "    return cantidad/dict_monedas['euro']\n",
    "\n",
    "def cambio_monedas(cantidad,origen,destino,dict_monedas):\n",
    "    return cantidad*dict_monedas[origen]/dict_monedas[destino]\n",
    "\n",
    "paises_monedas={'España':'euro','Islandia':'corona','Francia':'euro','Inglaterra':'libra','Portugal':'euro','Irlanda del Norte':'libra',\n",
    "                'Canada':'dolar','Dinamarca':'corona','Irlanda':'euro','USA':'dolar','Italia':'euro','Rusia':'rublo','Colombia':'peso'}\n",
    "monedas2dolar={'euro':1.18,'dolar':1,'corona':0.16,'peso':0.00027}\n",
    "\n",
    "print(paisesMoneda(paises_monedas,'euro'))\n",
    "print(paisesMoneda(paises_monedas,'dolar'))\n",
    "print(paisesMoneda(paises_monedas,'escudo'))\n",
    "\n",
    "print(euro2dolar(10,monedas2dolar))\n",
    "print(dolar2euro(11.8,monedas2dolar))\n",
    "print(cambio_monedas(10,'corona','peso',monedas2dolar))"
   ]
  },
  {
   "cell_type": "markdown",
   "metadata": {},
   "source": [
    "## Programación Orientada a Objetos en Python\n",
    "* Concibe un programa como una colección de objetos que se pueden crear y manipular\n",
    "  + Los objetos pueden ser simples, como números, strings, etc.\n",
    "  + O más complejos, dependientes del dominio de aplicación\n",
    "* Cada objeto tiene\n",
    "  + Un conjunto de atributos, con su valor correspondiente\n",
    "  + Un conjunto de métodos, que son las funciones de lo que se puede hacer con ellos\n",
    "    - Consultar el valor de los atributos\n",
    "    - Modificar el valor de los atributos\n",
    "    - Acciones con los objetos\n",
    "    \n",
    "## Clases\n",
    "* Los objetos se agrupan en clases\n",
    "  + Las clases definen los atributos y métodos de los objetos\n",
    "  + Las clases son el código - Los objetos son las entidades en ejecución\n",
    "* Clases y objetos\n",
    "  + Clase Coche - Objetos coche1, coche2, coche3, etc.\n",
    "  + Clase Persona - Objetos p1, p2, p3, p4, etc.\n",
    "  \n",
    "### Definición de una clase\n",
    "* Con la palabra clave **class**\n",
    "  + Nombre \n",
    "  + Clase de la que hereda (al menos de la clase object)\n",
    "  + Atributos\n",
    "    - De clase: se comparten entre todos los objetos de una misma clase\n",
    "    - De instancia de objeto: son propios de cada objeto. Se referencian con la palabra reservada **self**\n",
    "  + Métodos\n",
    "  + Constructor: el método __init__() define cómo se crea un objeto de una clase\n",
    "    - Cómo se asigna un valor inicial a los atributos del objeto\n",
    "    - Acciones para arrancar el objeto (por ejemplo, establecer una conexión, abrir un fichero, etc.)\n",
    "    \n",
    "<img src=\"./img/POOconstructor.png\" width=\"600\">"
   ]
  },
  {
   "cell_type": "code",
   "execution_count": 28,
   "metadata": {},
   "outputs": [],
   "source": [
    "class Empleado (object):\n",
    "    numEmpleados = 0\n",
    "    \n",
    "    def __init__(self, nombre, salario):\n",
    "        self.nombre = nombre\n",
    "        self.salario = salario\n",
    "        self.id = Empleado.numEmpleados\n",
    "        Empleado.numEmpleados += 1\n",
    "        \n",
    "    def cuantosEmpleados(self):\n",
    "        print (\"Total de objetos Empleado %d\" % Empleado.numEmpleados)\n",
    "        \n",
    "    def printEmpleado(self):\n",
    "        print (self.id, \"Nombre:\", self.nombre,  \"Salario:\",self.salario)\n",
    "        \n",
    "    def __del__(self):\n",
    "        Empleado.numEmpleados-=1\n"
   ]
  },
  {
   "cell_type": "markdown",
   "metadata": {},
   "source": [
    "### Creación y uso de objetos de la clase\n",
    "* En tiempo de ejecución se crean objetos para poder utilizarlos\n",
    "* Se declara un nuevo objeto con el nombre de la clase y como argumentos los que requiera el método constructor"
   ]
  },
  {
   "cell_type": "code",
   "execution_count": 29,
   "metadata": {},
   "outputs": [
    {
     "name": "stdout",
     "output_type": "stream",
     "text": [
      "0 Nombre: Pedro Gómez Salario: 2000\n",
      "1 Nombre: Mar Pérez Salario: 3000\n",
      "Total de objetos Empleado 2\n",
      "Total de objetos Empleado 2\n"
     ]
    }
   ],
   "source": [
    "emp1 = Empleado(\"Pedro Gómez\", 2000)\n",
    "emp2 = Empleado(\"Mar Pérez\", 3000)\n",
    "emp1.printEmpleado()\n",
    "emp2.printEmpleado()\n",
    "emp2.cuantosEmpleados()\n",
    "emp1.cuantosEmpleados()"
   ]
  },
  {
   "cell_type": "markdown",
   "metadata": {},
   "source": [
    "### Atributos de una clase\n",
    "* Se puede acceder a los atributos igual que a los métodos\n",
    "  + Pero se pueden ocultar atributos cuando se nombran con **__** delante\n",
    "* También hay funciones especiales para usar los atributos\n",
    "  + **getattr(obj, nombre)** - obtiene el valor del atributo\n",
    "  + **hasattr(obj,nombre)** − comprueba si el atributo existe o no\n",
    "  + **setattr(obj,nombre,valor)** − cambia el valor de un atributo. Si no existe, creará el atributo\n",
    "  + **delattr(obj, nombre)** − borra el atributo\n"
   ]
  },
  {
   "cell_type": "code",
   "execution_count": 30,
   "metadata": {},
   "outputs": [
    {
     "name": "stdout",
     "output_type": "stream",
     "text": [
      "Pedro Gómez\n",
      "True\n",
      "False\n",
      "Jon Doe\n",
      "42\n"
     ]
    }
   ],
   "source": [
    "print(getattr(emp1,'nombre'))\n",
    "print(hasattr(emp1,'nombre'))\n",
    "print(hasattr(emp1,'apellido'))\n",
    "\n",
    "setattr(emp1,'nombre','Jon Doe')\n",
    "print(getattr(emp1,'nombre'))\n",
    "\n",
    "setattr(emp1,'edad',42)\n",
    "if hasattr(emp1,'edad'):\n",
    "    print(getattr(emp1,'edad'))\n",
    "if hasattr(emp2,'edad'):\n",
    "    print(getattr(emp2,'edad'))\n",
    "    \n",
    "if hasattr(emp1,'edad'):\n",
    "    delattr(emp1,'edad')\n",
    "if hasattr(emp1,'edad'):\n",
    "    print(getattr(emp1,'edad'))"
   ]
  },
  {
   "cell_type": "markdown",
   "metadata": {},
   "source": [
    "* Atributos de todos los objetos (definidos por Python)\n",
    "  + \\_\\_dict\\_\\_ − Diccionario que tiene el espacio de nombres de la clase\n",
    "  + \\_\\_doc\\_\\_ − String de documentación de la clase\n",
    "  + \\_\\_class\\_\\_ − Clase a la que pertenece el objeto\n",
    "  + \\_\\_class\\_\\_.\\_\\_name\\_\\_ − Nombre de la clase\n",
    "  + \\_\\_class\\_\\_.\\_\\_bases\\_\\_ − Tupla con las clases de las que hereda\n",
    "  + \\_\\_module\\_\\_ − Nombre del módulo en el que está definida la clase"
   ]
  },
  {
   "cell_type": "code",
   "execution_count": 31,
   "metadata": {},
   "outputs": [
    {
     "name": "stdout",
     "output_type": "stream",
     "text": [
      "{'nombre': 'Jon Doe', 'salario': 2000, 'id': 0}\n",
      "None\n",
      "<class '__main__.Empleado'>\n",
      "Empleado\n",
      "(<class 'object'>,)\n",
      "__main__\n"
     ]
    }
   ],
   "source": [
    "print(emp1.__dict__)\n",
    "print(emp1.__doc__)\n",
    "print(emp1.__class__)\n",
    "print(emp1.__class__.__name__)\n",
    "print(emp1.__class__.__bases__)\n",
    "print(emp1.__module__)"
   ]
  },
  {
   "cell_type": "markdown",
   "metadata": {},
   "source": [
    "### Métodos de una clase\n",
    "* Los métodos de una clase son igual que las funciones salvo que\n",
    "  + Se escriben dentro de una clase (indentados)\n",
    "  + Tienen que llevar como primer argumento self (referencia al propio objeto)\n",
    "\n",
    "### Destrucción de objetos\n",
    "* Cuando un objeto deja de estar referenciado se eliminará automáticamente \n",
    "  + De esto se encarga un proceso llamado recogedor de basura (_Garbage Collection_)\n",
    "* Cuando se borra un objeto se puede hacer que ejecute un código\n",
    "  + Este código se pone en un método especial, el destructor: **\\_\\_del\\_\\_()** \n",
    "\n",
    "## Herencia\n",
    "* Una de las características de la POO es el mecanismo de herencia\n",
    "  + Permite crear una clase (clase derivada) a partir de otra (clase base)\n",
    "  + También se suele hablar de clase padre y clase hija\n",
    "* La clase derivada hereda los atributos y métodos de la clase base\n",
    "  + El código en la clase derivada puede usar esos métodos y atributos\n",
    "  + También puede cambiarlos (sobreescritura)\n",
    "* Se puede invocar al método de la clase base con **super().método**\n",
    "\n",
    "### Métodos derivados de la clase **object**\n",
    "* Los tienen todas las clases\n",
    "  + \\_\\_init\\_\\_ ( self \\[,args...\\] ) - Constructor \n",
    "  + \\_\\_del\\_\\_( self ) - Destructor\n",
    "  + \\_\\_str\\_\\_( self ) - Representación del objeto como string para poder imprimirlo. Es el método que se llama al invocar **str(obj)**\n",
    "  + \\_\\_cmp\\_\\_ ( self, x ) - Para comparar objetos con  **cmp(obj, x)**"
   ]
  },
  {
   "cell_type": "markdown",
   "metadata": {},
   "source": [
    "## Gestión de Errores. Excepciones\n",
    "* A veces se producen errores por causas ajenas al propio programa\n",
    "  + Falla la conexión de internet\n",
    "  + No existe un fichero o está bloqueado\n",
    "  + El usuario introduce información incorrecta\n",
    "  + Etc.\n",
    "* Para gestionar estas situaciones se usa el mecanismo de excepciones\n",
    "* Una **excepción** es un evento que ocurre en la ejecución de un programa\n",
    "  + Al producirse la excepción se interrumpe el flujo de ejecución normal\n",
    "  + Si no se **captura** y trata la excepción, el programa finaliza\n",
    "  + La excepción es un objeto con unos atributos que dan información sobre lo que ha ocurrido\n",
    "  \n",
    "### Gestión de excepciones\n",
    "* Para poder capturar una excepción hay que:\n",
    "  + Poner el código normal dentro de una sentencia **try**\n",
    "  + Poner el código que captura la excepción y su tratamiento en una cláusula **except**\n",
    "  + Se puede añadir una cláusula **else** para indicar qué hacer si todo acaba bien\n",
    "  + Y la cláusula **finally** para código que se ejecuta al final haya habido o no una excepción\n",
    "\n",
    "* Ejemplo: acceso a un fichero"
   ]
  },
  {
   "cell_type": "code",
   "execution_count": 1,
   "metadata": {},
   "outputs": [
    {
     "name": "stdout",
     "output_type": "stream",
     "text": [
      "Todo ha ido bien. Se ha podido escribir en el fichero\n"
     ]
    }
   ],
   "source": [
    "try:\n",
    "    fh = open(\"fichero\", \"w\")\n",
    "    fh.write(\"Intento de escritura en el fichero.\")\n",
    "except IOError:\n",
    "    print (\"Error: No se puede trabajar con el fichero\")\n",
    "else:\n",
    "    print (\"Todo ha ido bien. Se ha podido escribir en el fichero\")\n",
    "    fh.close()\n"
   ]
  },
  {
   "cell_type": "markdown",
   "metadata": {},
   "source": [
    "* Si se utiliza la cláusula except sin poner una excepción, significa que captura cualquier tipo de excepción que se produzca\n",
    "* También se puede poner una lista de excepciones con una cláusula except, indicándolas como lista entre paréntesis  "
   ]
  },
  {
   "cell_type": "markdown",
   "metadata": {},
   "source": [
    "```python\n",
    "try:  \n",
    "    #Sentencias del flujo normal\n",
    "except (Excepcion1, Excepcion2):  \n",
    "    #Si se produce la Excepción1 o Excepción2, ejecutar este bloque  \n",
    "except:  \n",
    "    #Si se produce cualquier otra excepción, ejecutar este bloque\n",
    "```\n",
    "\n",
    "### Excepciones estándar\n",
    "<img src=\"./img/excepciones.png\" width=600>\n",
    "\n",
    "### Creación de excepciones\n",
    "* En nuestro código podemos generar excepciones con la sentencia **raise**\n",
    "* Se pueden crear como strings\n",
    "\n",
    "```python\n",
    "def retira(cuenta, cantidad):\n",
    "    if cuenta.saldo<cantidad:\n",
    "        raise \"Cuenta sin saldo suficiente\", cuenta.saldo\n",
    "    cuenta.saldo -= cantidad\n",
    "\n",
    "try:\n",
    "    retira(cliente1, 300)\n",
    "except \"Cuenta sin saldo suficiente\", saldo:\n",
    "    print (\"Lo sentimos, pero solo tiene\",saldo)\n",
    "else:\n",
    "    print (\"Recoja su dinero\")\n",
    "```\n",
    "\n",
    "### Clases de excepciones de usuario\n",
    "* Se pueden definir excepciones de usuario como clases\n",
    "  + Tienen que derivar de una clase de excepción\n",
    "\n",
    "```python\n",
    "class ErrorDeRed(RuntimeError):\n",
    "    def __init__(self, arg):\n",
    "        self.args = arg\n",
    "\n",
    "# Para usarla:\n",
    "try:\n",
    "    raise ErrorDeRed(\"Dirección incorrecta\")\n",
    "except ErrorDeRed,e:\n",
    "    print(e.args)\n",
    "```"
   ]
  },
  {
   "cell_type": "markdown",
   "metadata": {},
   "source": [
    "## Ficheros\n",
    "* Los ficheros permiten guardar información para poder utilizarla posteriormente\n",
    "* Un fichero se puede usar en dos modos:\n",
    "  + Lectura\n",
    "  + Escritura\n",
    "* Para utilizar un fichero hay tres pasos principales:\n",
    "  + Abrir el fichero, con la función **open()**\n",
    "  + Usar el fichero, con las funciones **read()** y **write()**\n",
    "  + Al acabar, cerrar el fichero, con la función **close()**"
   ]
  },
  {
   "cell_type": "code",
   "execution_count": 6,
   "metadata": {},
   "outputs": [],
   "source": [
    "# Ejemplo de escritura en un fichero\n",
    "\n",
    "# Genera una lista con los cuadrados de 1 a 10\n",
    "cuadrados = [i ** 2 for i in range(1, 11)]\n",
    "\n",
    "# 1. Abrir fichero, indicando el nombre y el modo de escritura (w)\n",
    "fichero = open(\"numeros.txt\", \"w\")\n",
    "\n",
    "# 2. Usar fichero\n",
    "for n in cuadrados:\n",
    "  fichero.write(str(n) + \"\\n\")\n",
    "\n",
    "# 3. Cerrar fichero\n",
    "fichero.close()\n"
   ]
  },
  {
   "cell_type": "code",
   "execution_count": 7,
   "metadata": {},
   "outputs": [
    {
     "name": "stdout",
     "output_type": "stream",
     "text": [
      "1\n",
      "4\n",
      "9\n",
      "16\n",
      "25\n",
      "36\n",
      "49\n",
      "64\n",
      "81\n",
      "100\n",
      "\n"
     ]
    }
   ],
   "source": [
    "# Ejemplo de lectura de un fichero\n",
    "\n",
    "# 1. Abrir fichero, indicando el nombre y el modo de lectura (r)\n",
    "fichero = open(\"numeros.txt\", \"r\")\n",
    "\n",
    "# 2. Usar fichero (leerlo entero)\n",
    "print (fichero.read())\n",
    "\n",
    "# 3. Cerrar fichero\n",
    "fichero.close()\n"
   ]
  },
  {
   "cell_type": "markdown",
   "metadata": {},
   "source": [
    "### Cierre de ficheros\n",
    "* Para optimizar las operaciones de E/S, como la escritura de un fichero, el sistema operativo usa buffers donde pone temporalmente los datos a leer o escribir antes de grabarlos en el fichero\n",
    "* Con close() se vacían los buffers y se graban los datos pendientes\n",
    "\n",
    "## Ejercicio\n",
    "### 1. Prueba el siguiente código y observa que no se obtiene nada. Quita los comentarios de las sentencias con close() para que funcione"
   ]
  },
  {
   "cell_type": "code",
   "execution_count": 13,
   "metadata": {},
   "outputs": [
    {
     "name": "stdout",
     "output_type": "stream",
     "text": [
      "\n"
     ]
    }
   ],
   "source": [
    "# Prueba de la necesidad de usar close()\n",
    "fescritura = open(\"texto.txt\", \"w\")  # fichero en modo escritura\n",
    "flectura = open(\"texto.txt\", \"r\")  # fichero en modo lectura\n",
    "\n",
    "# Escritura en el fichero\n",
    "fescritura.write(\"No hay que olvidar cerrar los ficheros.\")\n",
    "# fescritura.close()\n",
    "\n",
    "# Lectura del fichero\n",
    "print (flectura.read())\n",
    "# flectura.close()\n"
   ]
  },
  {
   "cell_type": "markdown",
   "metadata": {},
   "source": [
    "### Lectura de un fichero línea a línea"
   ]
  },
  {
   "cell_type": "code",
   "execution_count": 17,
   "metadata": {},
   "outputs": [
    {
     "name": "stdout",
     "output_type": "stream",
     "text": [
      "1\n",
      "4\n",
      "9\n",
      "16\n",
      "25\n",
      "36\n",
      "49\n",
      "64\n",
      "81\n",
      "100\n"
     ]
    }
   ],
   "source": [
    "# Ejemplo de lectura de un fichero línea a línea\n",
    "\n",
    "# 1. Abrir fichero\n",
    "fichero = open(\"numeros.txt\", \"r\")\n",
    "\n",
    "# 2. Leer fichero línea a línea\n",
    "linea = fichero.readline() # si no hay más líneas será el string vacío \"\"\n",
    "while linea:\n",
    "    print(linea, end=\"\") #observa lo que pasa si no se pone end=\"\"\n",
    "    linea = fichero.readline()\n",
    "\n",
    "# 3. Cerrar fichero\n",
    "fichero.close()\n"
   ]
  },
  {
   "cell_type": "markdown",
   "metadata": {},
   "source": [
    "### Interacción con el sistema de ficheros\n",
    "* Usando el módulo **os**"
   ]
  },
  {
   "cell_type": "code",
   "execution_count": 31,
   "metadata": {},
   "outputs": [
    {
     "name": "stdout",
     "output_type": "stream",
     "text": [
      "C:\\Users\\gonzalo\\Documents\\_Gonzalo\\clases\\MSC\\ProgramacionMSC\n",
      "C:\\Users\\gonzalo\\Documents\\_Gonzalo\\clases\\MSC\\ProgramacionMSC\\NuevoDir\n",
      "['fichero.txt']\n",
      "1\n",
      "['fichero.txt', 'OtroDir']\n",
      "[]\n",
      "C:\\Users\\gonzalo\\Documents\\_Gonzalo\\clases\\MSC\\ProgramacionMSC\n"
     ]
    }
   ],
   "source": [
    "import os  # Lo primero de todo para usar este módulo\n",
    "\n",
    "print(os.getcwd())\n",
    "os.makedirs(\"NuevoDir\")\n",
    "os.chdir(\"NuevoDir\")\n",
    "print(os.getcwd())\n",
    "\n",
    "open(\"fichero.txt\",\"w\")\n",
    "\n",
    "print(os.listdir())\n",
    "print(os.system(\"ls\"))\n",
    "os.system(\"mkdir OtroDir\")\n",
    "print(os.listdir())\n",
    "print(os.listdir(\"OtroDir\"))\n",
    "os.chdir(\"..\")\n",
    "print(os.getcwd())"
   ]
  },
  {
   "cell_type": "markdown",
   "metadata": {},
   "source": [
    "## Ejercicios\n",
    "### 1. Escribe dos funciones: una para guardar un listín telefónico en un fichero y otra para leerlo del fichero\n",
    "#### 1.1 Al escribir con write() se guardará el diccionario como texto (string)\n",
    "#### 1.2 Al leer con read() se obtendrá un string, que habrá que convertir a un diccionario.\n",
    "Para ello se puede utilizar la función ast.literal_eval() del módulo ast (Abstract Syntax Trees), que hará la conversión inversa de string a diccionario. Por ejemplo:  \n",
    "```python\n",
    "s = f.read()            # read() devuelve un string\n",
    "d = ast.literal_eval(s) # que hay que convertir a diccionario\n",
    "```\n",
    "### 2. Haz un programa que \n",
    "#### 2.1 Cree un listín\n",
    "#### 2.2 Lo guarde en un fichero llamando a la función anterior\n",
    "#### 2.3 Lo lea del fichero en otra variable\n",
    "#### 2.4 Y con el listin recuperado del fichero pregunte al usuario un nombre y busque el teléfono correspondiente y lo imprima, o dé un mensaje de que no existe ese nombre en el listín si no estuviera"
   ]
  },
  {
   "cell_type": "markdown",
   "metadata": {},
   "source": [
    "## Funciones Anónimas\n",
    "* Son las que no se definen con **def**\n",
    "* Se definen con la palabra clave **lambda**\n",
    "  + Funciones lambda\n",
    "  + Devuelven un valor de una expresión\n",
    "  + Solo procesan expresiones, no pueden ejecutar comandos (como print)\n",
    "  + Solo pueden usar sus argumentos o variables globales\n",
    "  + Son funciones cortas, restringidas a una sola expresión  \n",
    "    lambda \\[arg1 \\[,arg2,.....argn\\]\\]:expresión\n",
    "  + Son útiles en análisis de datos para hacer transformaciones de datos mediante funciones que tienen a otras funciones en sus argumentos"
   ]
  },
  {
   "cell_type": "code",
   "execution_count": 1,
   "metadata": {},
   "outputs": [
    {
     "name": "stdout",
     "output_type": "stream",
     "text": [
      "30\n",
      "3.0\n",
      "5\n"
     ]
    }
   ],
   "source": [
    "suma = lambda a, b: a + b;\n",
    "\n",
    "print(suma(10, 20))\n",
    "print(suma(1.0, 2))\n",
    "print(3+suma(1,1))"
   ]
  },
  {
   "cell_type": "markdown",
   "metadata": {},
   "source": [
    "## Operaciones con bits\n",
    "* Números en base 2 (sistema binario): 0bxxx  siendo x 0 o 1\n",
    "  + 0b1,    #1\n",
    "  + 0b10,   #2 = 0*1+1*2\n",
    "  + 0b11,   #3 = 1*1+1*2\n",
    "  + 0b110,  #6 = 0*1+1*2+1*4\n",
    "  + 0b1000   #8 = 0*1+0*2+0*4+1*8\n",
    "* Operaciones con bits\n",
    "  + print(5 >> 4)  # Right Shift\t\t0\n",
    "  + print(5 << 1)  # Left Shift\t\t10\n",
    "  + print(8 & 5)  # Bitwise AND\t0\n",
    "  + print(9 | 4)  # Bitwise OR\t\t13\n",
    "  + print(12 ^ 42)  # Bitwise XOR\t38\n",
    "  + print(~88)  # Bitwise NOT\t-89\n",
    "* Conversión de números y bits:\n",
    "  + bin(), oct(), hex()\n",
    "  + int(x,s)"
   ]
  },
  {
   "cell_type": "markdown",
   "metadata": {},
   "source": [
    "## Bibliografía y recursos\n",
    "* Documentación de Python. http://www.python.org/doc/\n",
    "  + The Python Tutorial. https://docs.python.org/3/tutorial/index.html \n",
    "* Josh Cogliati. Non-Programmer's Tutorial for Python 3. WikiBooks. https://en.wikibooks.org/wiki/Non-Programmer%27s_Tutorial_for_Python_3 \n",
    "* Paul A. Zandbergen. Python Scripting for ArcGIS. Esri Press, 2013\n",
    "* Yolanda García Ruiz, Antonio Sarasa Cabezuelo: Big Data. Análisis de datos con Python. Editorial Garceta, 2017\n",
    "* Otros:\n",
    "  + John V Guttag,Introduction to Computation and Programming Using Python,  MIT Press, 2013\n",
    "  + Al Sweigart, Automate the Boring Stuff with Python: Practical Programming for Total Beginners,  2015\n",
    "  + Nichola Lacey. Python by Example. Cambridge University Press, 2019\n",
    "  + S, Gowrishankar, A, Veena. Introduction to Python programming. CRC Press, 2019\n",
    "* Cursos en la web:\n",
    "  + Code Academy. Learn Python. https://www.codecademy.com \n",
    "  + Free GIS Programming Tutorials: Learn How to Code.  \n",
    "    Página con recomendaciones para ser un buen programador GIS  \n",
    "    http://gisgeography.com/free-esri-training/ \n",
    "  + Python - Tutorial. Un buen resumen del lenguaje Python, en Tutorials Point https://www.tutorialspoint.com/python/index.htm \n",
    "  + Python Tutorial en w3schools. https://www.w3schools.com/python/"
   ]
  }
 ],
 "metadata": {
  "kernelspec": {
   "display_name": "Python 3 (ipykernel)",
   "language": "python",
   "name": "python3"
  },
  "language_info": {
   "codemirror_mode": {
    "name": "ipython",
    "version": 3
   },
   "file_extension": ".py",
   "mimetype": "text/x-python",
   "name": "python",
   "nbconvert_exporter": "python",
   "pygments_lexer": "ipython3",
   "version": "3.8.16"
  }
 },
 "nbformat": 4,
 "nbformat_minor": 4
}
