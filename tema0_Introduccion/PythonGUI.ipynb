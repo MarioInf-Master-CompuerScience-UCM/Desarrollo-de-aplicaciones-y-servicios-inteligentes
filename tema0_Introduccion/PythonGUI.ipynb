{
 "cells": [
  {
   "cell_type": "markdown",
   "metadata": {},
   "source": [
    "# Programación en Python. Interfaz Gráfica de Usuario (GUI)\n",
    "---"
   ]
  },
  {
   "cell_type": "markdown",
   "metadata": {},
   "source": [
    "Este material se ha elaborado para la asignatura de _Desarrollo de Aplicaciones y Servicios Inteligentes_ del _Máster en Ingeniería Informática_ a partir de material creado por el profesor **Juan Pavón (FdI-UCM)** y modificado y ampliado por el profesor **Gonzalo Méndez (FdI-UCM)** y que se distribuye con licencia **Creative Commons Attribution-ShareAlike 4.0 International License**  \n",
    "<img src=\"./img/ucm.gif\" width=\"300\" style=\"padding: 10px\"> <img src=\"./img/CC-BY-SA_icon.png\" width=\"200\" style=\"padding: 10px\">"
   ]
  },
  {
   "cell_type": "markdown",
   "metadata": {},
   "source": [
    "## Interfaces gráficas de usuario (GUI)\n",
    "* Hay paquetes que permiten crear fácilmente aplicaciones con una interfaz gráfica  (ventanas, control del ratón, etc.)\n",
    "  + **Tkinter** - GUI estándar de Python, usa el Tk GUI toolkit. Se proporciona con la  distribución de Python\n",
    "  + **wxPython** - Interfaz wxWindows http://wxpython.org \n",
    "  + **JPython** - Interfaz tipo Java http://www.jython.org\n",
    "  + **PyJamas** - Orientado a aplicaciones web (traduce a Javascript y Ajax) \n",
    "  + Ver más: https://wiki.python.org/moin/GuiProgramming \n",
    "* Un buen tutorial de Tkinter: https://www.python-course.eu/python_tkinter.php \n",
    "\n",
    "## Tkinter\n",
    "* Estándar de Python\n",
    "* Para hacer una aplicación con Tkinter:\n",
    "  + Importar el módulo Tkinter \n",
    "  + Crear la ventana principal de la aplicación\n",
    "  + Añadir los widgets necesarios\n",
    "  + Entrar en un bucle principal y se ejecutarán  acciones cuando se produzcan eventos del usuario (acciones del ratón, etc.)\n",
    "* El comportamiento de la aplicación se programa en los controladores de estos eventos\n",
    "\n",
    "## Crear una ventana de aplicación\n",
    "* Para crear la ventana principal de la aplicación como la siguiente, simplemente  \n",
    "  \n",
    "  <img src=\"./img/gui/primeraventana.png\" width=\"300\">"
   ]
  },
  {
   "cell_type": "code",
   "execution_count": 6,
   "metadata": {},
   "outputs": [],
   "source": [
    "# Importar el paquete de GUI Tkinter\n",
    "import tkinter as tk\n",
    "\n",
    "# 1. Creación de la ventana principal\n",
    "ventanaPrincipal = tk.Tk()\n",
    "\n",
    "# 2. Configuración de la ventana, widgets, etc.\n",
    "texto = tk.Label(ventanaPrincipal, text=\"Para cerrar la ventana, pulsa x en la esquina.\")\n",
    "texto.pack()  # ajusta la ventana al tamaño del contenido\n",
    "\n",
    "# 3. Finalmente se invoca el bucle principal \n",
    "#    que deja el programa esperando acciones del usuario\n",
    "ventanaPrincipal.mainloop()"
   ]
  },
  {
   "cell_type": "markdown",
   "metadata": {},
   "source": [
    "## Ventanas\n",
    "* Ventanas principales\n",
    "  + **Toplevel** - Una ventana principal independiente que puede contener varios widgets\n",
    "* Se recomienda que sólo haya una ventana principal de tipo Tk. El resto deben ser Toplevel"
   ]
  },
  {
   "cell_type": "markdown",
   "metadata": {},
   "source": [
    "* Ventanas para pedir una información al usuario\n",
    "  + **MessageBox** - Permite mostrar mensajes de las aplicaciones\n",
    "  + **Dialog** - Diálogo modal para obtener una  respuesta del usuario\n",
    "  + **ChooseColor** - Ventana para seleccionar un color\n",
    "  + **Popup** - Menú popup (contextual)"
   ]
  },
  {
   "cell_type": "markdown",
   "metadata": {},
   "source": [
    "* Ventanas para trabajar con ficheros y directorios:\n",
    "  + **GetOpenFile** - ventana para abrir un fichero\n",
    "  + **GetSaveFile** - ventana para salvar un fichero\n",
    "  + **ChooseDirectory** - ventana para seleccionar un directorio"
   ]
  },
  {
   "cell_type": "markdown",
   "metadata": {},
   "source": [
    "## Ventanas de diálogo\n",
    "* Permiten indicar algo al usuario y ofrecerle alguna opción para continuar\n",
    "* Bloquean la interfaz hasta que el usuario pulse alguno de los botones\n",
    "* El módulo **TkMessage** proporciona varios métodos útiles\n",
    "  + **askokcancel**(title=None, message=None, **options) \n",
    "  + **askquestion**(title=None, message=None, **options) \n",
    "  + **askretrycancel**(title=None, message=None, **options) \n",
    "  + **askyesno**(title=None, message=None, **options)\n",
    "  + **askyesnocancel**(title=None, message=None, **options)\n",
    "  + **showerror**(title=None, message=None, **options)\n",
    "  + **showinfo**(title=None, message=None, **options)\n",
    "  + **showwarning**(title=None, message=None, **options)\n",
    "* Ejercicios: Prueba a generar varias ventanas de diálogo\n",
    "  + https://www.python-course.eu/tkinter_dialogs.php "
   ]
  },
  {
   "cell_type": "markdown",
   "metadata": {},
   "source": [
    "## Widgets\n",
    "* Son los elementos que se pueden poner en  la interfaz gráfica\n",
    "* Tkinter los implementa en varias clases\n",
    "1. Para organizar la disposición de los widgets en una ventana\n",
    "  + **PanedWindow** - Contenedor con varios paneles, horizontal o vertical\n",
    "  + **Frame**\n",
    "  + **LabelFrame** \n",
    "2. Decoradores \n",
    "  + **Scrollbar** - Una barra lateral en un elemento (por ejemplo en la ventana)\n",
    "3. Información al usuario:\n",
    "  + **Label** - texto, incluyendo imágenes, fijo en la ventana\n",
    "  + **Message** - más sofisticado que Label, se puede configurar más el texto\n",
    "  + **Canvas** - lienzo para dibujar formas (líneas, óvalos, polígonos, etc.)\n",
    "4. Entrada del usuario\n",
    "  + **Button** - botones de la aplicación\n",
    "  + **Checkbutton**  - para definir múltiples opciones\n",
    "  + **Radiobutton** - para definir varias opciones pero solo se puede elegir una\n",
    "  + **Listbox** - lista de opciones\n",
    "  + **Entry** - una línea de entrada de texto\n",
    "  + **Text** - Múltiples líneas de texto\n",
    "5. Menús\n",
    "  + **Menu** - La lista de opciones de menú\n",
    "  + **Menubutton** - opciones de menús en la aplicación"
   ]
  },
  {
   "cell_type": "markdown",
   "metadata": {},
   "source": [
    "## Widgets con acciones del usuario\n",
    "* Para un widget que implica una acción del usuario habrá que definir una función que se ejecute como respuesta\n",
    "  + Hay que definir la función y luego pasarla como parámetro\n",
    "  + Se pueden usar funciones predefinidas, como **destroy** o **quit** (para acabar)\n",
    "* Ejemplo: botones\n",
    "  + Los botones se suelen agrupar en un Frame\n",
    "* Ejercicios: Prueba otro tipo de widgets para seleccionar opciones\n",
    "  + Radio Buttons: https://www.python-course.eu/tkinter_radiobuttons.php \n",
    "  + Check boxes: https://www.python-course.eu/tkinter_checkboxes.php \n",
    "  + Leer texto con Entry: https://www.python-course.eu/tkinter_entry_widgets.php \n",
    "  + Poner fotos o dibujar en un canvas: https://www.python-course.eu/tkinter_canvas.php\n",
    "\n",
    "## Disposición de widgets en una página\n",
    "* Para diseñar la colocación (layout) de los widgets en una página se ofrecen varios objetos \n",
    "  + Ver https://www.python-course.eu/tkinter_layout_management.php \n",
    "\n",
    "## Menús\n",
    "* Ver https://www.python-course.eu/tkinter_menus.php\n",
    "\n",
    "## Eventos del GUI\n",
    "* Como en la mayoría de los sistemas de GUI, se utiliza un modelo de eventos: https://www.python-course.eu/tkinter_events_binds.php \n",
    "* Los eventos se nombran con un string de la forma **\\<modifier-type-detail>**\n",
    "  + La parte importante es el type. Los otros pueden llegar a omitirse:\n",
    "    - \\<Button>\n",
    "    - \\<Motion>\n",
    "    - \\<ButtonRelease>\n",
    "    - \\<Double-Button>\n",
    "    - \\<Enter>\n",
    "    - \\<Leave>\n",
    "    - \\<FocusIn>\n",
    "    - \\<FocusOut>\n",
    "    - \\<Return>\n",
    "    - \\<Key>\n",
    "    - ...\n",
    "  + Los eventos llevan información asociada en el objeto event\n",
    "\n",
    "## Referencias\n",
    "* Tutoriales de Tkinter en internet:\n",
    "  + https://www.python-course.eu/python_tkinter.php\n",
    "  + https://www.tutorialspoint.com/python/python_gui_programming.htm "
   ]
  },
  {
   "cell_type": "markdown",
   "metadata": {},
   "source": [
    "#### Ejemplo de ventana Toplevel"
   ]
  },
  {
   "cell_type": "code",
   "execution_count": 19,
   "metadata": {},
   "outputs": [],
   "source": [
    "import tkinter as tk\n",
    "\n",
    "root = tk.Tk()\n",
    "root.title(\"principal\")\n",
    "top = tk.Toplevel()\n",
    "top.title(\"toplevel\")\n",
    "root.mainloop()"
   ]
  },
  {
   "cell_type": "markdown",
   "metadata": {},
   "source": [
    "#### Ejemplo de PanedWindow"
   ]
  },
  {
   "cell_type": "code",
   "execution_count": 5,
   "metadata": {},
   "outputs": [],
   "source": [
    "import tkinter as tk\n",
    "\n",
    "root= tk.Tk()\n",
    "m1 = tk.PanedWindow(root)\n",
    "m1.pack(fill=tk.BOTH, expand=1)\n",
    "\n",
    "left = tk.Label(m1, text=\"panel izquierdo\")\n",
    "m1.add(left)\n",
    "\n",
    "m2 = tk.PanedWindow(m1, orient=tk.VERTICAL)\n",
    "m1.add(m2)\n",
    "\n",
    "top = tk.Label(m2, text=\"panel superior\")\n",
    "m2.add(top)\n",
    "\n",
    "bottom = tk.Label(m2, text=\"panel inferior\")\n",
    "m2.add(bottom)\n",
    "\n",
    "root.mainloop()"
   ]
  },
  {
   "cell_type": "markdown",
   "metadata": {},
   "source": [
    "#### Ventana con imagen y texto"
   ]
  },
  {
   "cell_type": "code",
   "execution_count": 5,
   "metadata": {},
   "outputs": [],
   "source": [
    "import tkinter as tk\n",
    "ventanaPrincipal = tk.Tk()\n",
    "\n",
    "# Widgets: una imagen y un texto\n",
    "logo = tk.PhotoImage(file=\"img/gui/ucm.gif\")\n",
    "imagen = tk.Label(ventanaPrincipal,image=logo).pack(side=\"right\")\n",
    "\n",
    "frase = \"\"\"Ejemplo de uso de ventana con\n",
    "una imagen\n",
    "y un texto.\"\"\"\n",
    "texto = tk.Label(ventanaPrincipal, justify=tk.RIGHT,\n",
    "              padx = 10, text=frase).pack(side=\"left\")\n",
    "\n",
    "ventanaPrincipal.mainloop()"
   ]
  },
  {
   "cell_type": "markdown",
   "metadata": {},
   "source": [
    "#### Ventana con una imagen y un texto superpuesto"
   ]
  },
  {
   "cell_type": "code",
   "execution_count": 6,
   "metadata": {},
   "outputs": [],
   "source": [
    "import tkinter as tk\n",
    "\n",
    "ventana = tk.Tk()\n",
    "logo = tk.PhotoImage(file=\"img/gui/ucm.gif\")\n",
    "\n",
    "texto = \"\"\"Ejemplo de uso de ventana con\n",
    "una imagen\n",
    "y un texto superpuesto.\"\"\"\n",
    "\n",
    "w = tk.Label(ventana, \n",
    "             compound = tk.CENTER,\n",
    "             text=texto, \n",
    "             image=logo).pack(side=\"right\")\n",
    "\n",
    "ventana.mainloop()"
   ]
  },
  {
   "cell_type": "markdown",
   "metadata": {},
   "source": [
    "#### Formato de texto sin Message"
   ]
  },
  {
   "cell_type": "code",
   "execution_count": 7,
   "metadata": {},
   "outputs": [],
   "source": [
    "import tkinter as tk\n",
    "\n",
    "ventana = tk.Tk()\n",
    "tk.Label(ventana, \n",
    "         text=\"texto en color rojo y fuente Times\", \n",
    "         fg = \"red\", \n",
    "         font = \"Times\", \n",
    "         padx = 10, \n",
    "         justify=tk.LEFT).pack()\n",
    "tk.Label(ventana, \n",
    "         text=\"texto en azul y fuente Verdana negrita tamaño 10\", \n",
    "         fg = \"blue\", \n",
    "         bg = \"yellow\", \n",
    "         font = \"Verdana 10 bold\", \n",
    "         padx = 10, \n",
    "         justify=tk.RIGHT).pack()\n",
    "tk.Label(ventana, \n",
    "         text=\"texto en verde y fuente Helvetica negrita cursiva\", \n",
    "         fg = \"light green\", \n",
    "         bg = \"dark green\", \n",
    "         font = \"Helvetica 16 bold italic\").pack()\n",
    "\n",
    "ventana.mainloop()"
   ]
  },
  {
   "cell_type": "markdown",
   "metadata": {},
   "source": [
    "#### Formato de texto con Message"
   ]
  },
  {
   "cell_type": "code",
   "execution_count": 8,
   "metadata": {},
   "outputs": [],
   "source": [
    "import tkinter as tk\n",
    "\n",
    "ventana = tk.Tk()\n",
    "\n",
    "texto = \"Do or do not. There is no try.\\n(Yoda)\"\n",
    "widget_msg = tk.Message(ventana, text = texto)\n",
    "widget_msg.config(bg='lightgreen', fg='darkgreen', font=('times', 24, 'italic'))\n",
    "widget_msg.pack()\n",
    "\n",
    "ventana.mainloop()"
   ]
  },
  {
   "cell_type": "markdown",
   "metadata": {},
   "source": [
    "#### Etiqueta con contenido dinámico"
   ]
  },
  {
   "cell_type": "code",
   "execution_count": 9,
   "metadata": {},
   "outputs": [],
   "source": [
    "import tkinter as tk\n",
    "\n",
    "cont = 0 \n",
    "def counter_label(label):\n",
    "  def count():\n",
    "    global cont\n",
    "    cont += 1\n",
    "    label.config(text=str(cont))\n",
    "    label.after(1000, count)\n",
    "  count()\n",
    " \n",
    " \n",
    "root = tk.Tk()\n",
    "root.title(\"Contamos segundos\")\n",
    "contador = tk.Label(root, fg=\"green\")\n",
    "contador.pack()\n",
    "counter_label(contador)\n",
    "boton = tk.Button(root, text='Stop', width=25, command=root.destroy)\n",
    "boton.pack()\n",
    "root.mainloop()"
   ]
  },
  {
   "cell_type": "markdown",
   "metadata": {},
   "source": [
    "#### Ejemplo de MessageBox"
   ]
  },
  {
   "cell_type": "code",
   "execution_count": 10,
   "metadata": {},
   "outputs": [],
   "source": [
    "import tkinter as tk\n",
    "import tkinter.messagebox\n",
    "\n",
    "top = tk.Tk()\n",
    "\n",
    "def helloCallBack():\n",
    "   tk.messagebox.showinfo( \"Hola en Python\", \"Hola, Mundo\")\n",
    "\n",
    "botonHello = tk.Button(top, text =\"Hello\", command = helloCallBack).pack()\n",
    "\n",
    "top.mainloop()"
   ]
  },
  {
   "cell_type": "markdown",
   "metadata": {},
   "source": [
    "#### Ejemplo de acciones simples de usuario"
   ]
  },
  {
   "cell_type": "code",
   "execution_count": 11,
   "metadata": {},
   "outputs": [
    {
     "name": "stdout",
     "output_type": "stream",
     "text": [
      "¡Tkinter es fácil!\n"
     ]
    }
   ],
   "source": [
    "import tkinter as tk\n",
    "\n",
    "ventanaPrincipal = tk.Tk()\n",
    "\n",
    "def slogan():\n",
    "    print(\"¡Tkinter es fácil!\")\n",
    "\n",
    "frame = tk.Frame(ventanaPrincipal)\n",
    "frame.pack()\n",
    "\n",
    "boton = tk.Button(frame, text=\"QUIT\", fg=\"red\", command=ventanaPrincipal.destroy)\n",
    "boton.pack(side=tk.LEFT)\n",
    "\n",
    "slogan = tk.Button(frame, text=\"Slogan\", command=slogan)\n",
    "slogan.pack(side=tk.LEFT)\n",
    "\n",
    "ventanaPrincipal.mainloop()"
   ]
  },
  {
   "cell_type": "markdown",
   "metadata": {},
   "source": [
    "#### Ejemplo de dialogo"
   ]
  },
  {
   "cell_type": "code",
   "execution_count": 12,
   "metadata": {},
   "outputs": [],
   "source": [
    "import tkinter as tk\n",
    "from tkinter import messagebox as mb\n",
    "\n",
    "def answer():\n",
    "    mb.showerror(\"Responder\", \"No sé qué responder\")\n",
    "\n",
    "def callback():\n",
    "    if mb.askyesno('Verify', '¿Seguro que quieres salir?'):\n",
    "        mb.showwarning('Si', 'No sé qué hacer')\n",
    "    else:\n",
    "        mb.showinfo('No', 'Ahora no sales')\n",
    "\n",
    "tk.Button(text='Salir', command=callback).pack(fill=tk.X)\n",
    "tk.Button(text='Responder', command=answer).pack(fill=tk.X)\n",
    "tk.mainloop()"
   ]
  },
  {
   "cell_type": "markdown",
   "metadata": {},
   "source": [
    "#### Ejemplo de ventanas de dialogo"
   ]
  },
  {
   "cell_type": "code",
   "execution_count": 4,
   "metadata": {},
   "outputs": [
    {
     "name": "stdout",
     "output_type": "stream",
     "text": [
      "True\n",
      "False\n",
      "None\n",
      "True\n",
      "False\n",
      "True\n",
      "False\n",
      "yes\n",
      "no\n",
      "True\n",
      "False\n"
     ]
    }
   ],
   "source": [
    "import tkinter as tk\n",
    "from tkinter import messagebox\n",
    "\n",
    "def askokcancel():\n",
    "    answer = messagebox.askokcancel(\"Question\",\"Do you want to open this file?\")\n",
    "    print(answer)\n",
    "    \n",
    "def askquestion():\n",
    "    answer = messagebox.askquestion(\"Question\",\"Do you want to continue?\")\n",
    "    print(answer)\n",
    "    \n",
    "def askretrycancel():\n",
    "    answer = messagebox.askretrycancel(\"Question\", \"Do you want to try that again?\")\n",
    "    print(answer)\n",
    "    \n",
    "def askyesno():\n",
    "    answer = messagebox.askyesno(\"Question\",\"Do you like Python?\")\n",
    "    print(answer)\n",
    "    \n",
    "def askyesnocancel():\n",
    "    answer = messagebox.askyesnocancel(\"Question\", \"Continue playing?\")\n",
    "    print(answer)\n",
    "\n",
    "def showinfo():\n",
    "    messagebox.showinfo(\"Information\",\"Informative message\")\n",
    "\n",
    "def showerror():    \n",
    "    messagebox.showerror(\"Error\", \"Error message\")\n",
    "\n",
    "def showwarning():    \n",
    "    messagebox.showwarning(\"Warning\",\"Warning message\")\n",
    "\n",
    "\n",
    "root = tk.Tk()\n",
    "\n",
    "frame = tk.Frame(root)\n",
    "frame.pack()\n",
    "\n",
    "boton1 = tk.Button(frame, text=\"askokcancel\", command=askokcancel)\n",
    "boton1.pack(side=tk.LEFT)\n",
    "\n",
    "boton2 = tk.Button(frame, text=\"askquestion\", command=askquestion)\n",
    "boton2.pack(side=tk.LEFT)\n",
    "\n",
    "boton3 = tk.Button(frame, text=\"askretrycancel\", command=askretrycancel)\n",
    "boton3.pack(side=tk.LEFT)\n",
    "\n",
    "boton4 = tk.Button(frame, text=\"askyesno\", command=askyesno)\n",
    "boton4.pack(side=tk.LEFT)\n",
    "\n",
    "boton5 = tk.Button(frame, text=\"askyesnocancel\", command=askyesnocancel)\n",
    "boton5.pack(side=tk.LEFT)\n",
    "\n",
    "boton6 = tk.Button(frame, text=\"showinfo\", command=showinfo)\n",
    "boton6.pack(side=tk.LEFT)\n",
    "\n",
    "boton7 = tk.Button(frame, text=\"showerror\", command=showerror)\n",
    "boton7.pack(side=tk.LEFT)\n",
    "\n",
    "boton8 = tk.Button(frame, text=\"showwarning\", command=showwarning)\n",
    "boton8.pack(side=tk.LEFT)\n",
    "\n",
    "root.mainloop()"
   ]
  },
  {
   "cell_type": "markdown",
   "metadata": {},
   "source": [
    "#### Ejemplo de dialogo para pedir informacion"
   ]
  },
  {
   "cell_type": "code",
   "execution_count": 4,
   "metadata": {},
   "outputs": [
    {
     "name": "stdout",
     "output_type": "stream",
     "text": [
      "Te llamas  pepe\n",
      "Tienes  34\n",
      "Cobras  42332.456\n"
     ]
    }
   ],
   "source": [
    "import tkinter as tk\n",
    "from tkinter import simpledialog\n",
    "\n",
    "root = tk.Tk()\n",
    "\n",
    "answer = simpledialog.askstring(\"Input\", \"¿Cómo te llamas?\",\n",
    "                                parent=root)\n",
    "if answer is not None:\n",
    "    print(\"Te llamas \", answer)\n",
    "else:\n",
    "    print(\"¿No tienes nombre?\")\n",
    "\n",
    "answer = simpledialog.askinteger(\"Input\", \"¿Cuántos años tienes?\",\n",
    "                                 parent=root,\n",
    "                                 minvalue=0, maxvalue=100)\n",
    "if answer is not None:\n",
    "    print(\"Tienes \", answer)\n",
    "else:\n",
    "    print(\"¿No me quieres decir tu edad?\")\n",
    "\n",
    "answer = simpledialog.askfloat(\"Input\", \"¿Cuánto cobras?\",\n",
    "                               parent=root,\n",
    "                               minvalue=0.0, maxvalue=100000.0)\n",
    "if answer is not None:\n",
    "    print(\"Cobras \", answer)\n",
    "else:\n",
    "    print(\"¿No tienes trabajo?\")\n",
    "    \n",
    "root.mainloop()"
   ]
  },
  {
   "cell_type": "markdown",
   "metadata": {},
   "source": [
    "#### Ejemplo de ChooseColor"
   ]
  },
  {
   "cell_type": "code",
   "execution_count": 31,
   "metadata": {},
   "outputs": [
    {
     "name": "stdout",
     "output_type": "stream",
     "text": [
      "((225.87890625, 23.08984375, 220.859375), '#e117dc')\n"
     ]
    }
   ],
   "source": [
    "import tkinter as tk\n",
    "from tkinter.colorchooser import askcolor                  \n",
    "\n",
    "def callback():\n",
    "    result = askcolor(color=\"#6A9662\", \n",
    "                      title = \"Elegir color\") \n",
    "    print(result)\n",
    "    \n",
    "root = tk.Tk()\n",
    "tk.Button(root, \n",
    "          text='Color', \n",
    "          fg=\"darkgreen\", \n",
    "          command=callback).pack(side=tk.LEFT, padx=10)\n",
    "tk.Button(text='Salir', \n",
    "          command=root.destroy,\n",
    "          fg=\"red\").pack(side=tk.LEFT, padx=10)\n",
    "tk.mainloop()"
   ]
  },
  {
   "cell_type": "markdown",
   "metadata": {},
   "source": [
    "#### Ejemplo de dialogo para abrir un archivo"
   ]
  },
  {
   "cell_type": "code",
   "execution_count": 27,
   "metadata": {},
   "outputs": [
    {
     "name": "stdout",
     "output_type": "stream",
     "text": [
      "C:/Users/gonzalo/Documents/_Gonzalo/clases/MSC/Formatos/Logos Master Smart Cities/Logo Master Smart Cities negro.png\n",
      "\n"
     ]
    }
   ],
   "source": [
    "import tkinter as tk\n",
    "from tkinter import filedialog as fd \n",
    "\n",
    "def callback():\n",
    "    name= fd.askopenfilename() \n",
    "    print(name)\n",
    "    \n",
    "errmsg = 'Error'\n",
    "tk.Button(text='Abrir...', \n",
    "       command=callback).pack(fill=tk.X)\n",
    "tk.mainloop()"
   ]
  },
  {
   "cell_type": "markdown",
   "metadata": {},
   "source": [
    "#### Ejemplo más complejo de dialogos con ficheros y directorios"
   ]
  },
  {
   "cell_type": "code",
   "execution_count": 25,
   "metadata": {},
   "outputs": [],
   "source": [
    "import tkinter as tk\n",
    "from tkinter import filedialog\n",
    "import os\n",
    "\n",
    "root = tk.Tk()\n",
    "\n",
    "# Tuplas con los tipos de archivos permitidos\n",
    "tipo_ficheros = [('Todos los archivos', '.*'), ('Ficheros de texto', '.txt')]\n",
    "\n",
    "# Elegir una carpeta\n",
    "def directoryCallback():\n",
    "    answer = filedialog.askdirectory(parent=root,\n",
    "                                 initialdir=os.getcwd(),\n",
    "                                 title=\"Elegir carpeta\")\n",
    "    print(answer)\n",
    "\n",
    "# Elegir un fichero\n",
    "def fileCallback():\n",
    "    global tipo_ficheros\n",
    "    answer = filedialog.askopenfilename(parent=root,\n",
    "                                    initialdir=os.getcwd(),\n",
    "                                    title=\"Seleccionar archivo\",\n",
    "                                    filetypes=tipo_ficheros)\n",
    "    print(answer)\n",
    "\n",
    "# Elegir varios ficheros\n",
    "def multipleFileCallback():\n",
    "    global tipo_ficheros\n",
    "    answer = filedialog.askopenfilenames(parent=root,\n",
    "                                     initialdir=os.getcwd(),\n",
    "                                     title=\"Seleccionar uno o más ficheros\",\n",
    "                                     filetypes=tipo_ficheros)\n",
    "    print(answer)\n",
    "\n",
    "# Guardar como\n",
    "def saveAsCallback():\n",
    "    global tipo_ficheros\n",
    "    answer = filedialog.asksaveasfilename(parent=root,\n",
    "                                      initialdir=os.getcwd(),\n",
    "                                      title=\"Guardar como...\",\n",
    "                                      filetypes=tipo_ficheros)\n",
    "    print(answer)\n",
    "\n",
    "frame = tk.Frame(root)\n",
    "frame.pack()\n",
    "bottomframe=tk.Frame(root)\n",
    "bottomframe.pack(side=tk.BOTTOM)\n",
    "\n",
    "boton1 = tk.Button(bottomframe, text=\"Elegir Carpeta\", command=directoryCallback)\n",
    "boton1.pack(side=tk.LEFT)\n",
    "\n",
    "boton2 = tk.Button(frame, text=\"Seleccionar Archivo\", command=fileCallback)\n",
    "boton2.pack(side=tk.LEFT)\n",
    "\n",
    "boton3 = tk.Button(frame, text=\"Seleccionar Archivos\", command=multipleFileCallback)\n",
    "boton3.pack(side=tk.LEFT)\n",
    "\n",
    "boton4 = tk.Button(bottomframe, text=\"Guardar Como\", command=saveAsCallback)\n",
    "boton4.pack(side=tk.LEFT)\n",
    "\n",
    "    \n",
    "root.mainloop()"
   ]
  },
  {
   "cell_type": "markdown",
   "metadata": {},
   "source": [
    "#### Ejemplo sencillo de radiobuttons"
   ]
  },
  {
   "cell_type": "code",
   "execution_count": 33,
   "metadata": {},
   "outputs": [],
   "source": [
    "import tkinter as tk\n",
    "\n",
    "root = tk.Tk()\n",
    "\n",
    "# Variable que tomará el valor del RadioButton que se elija\n",
    "v = tk.IntVar()\n",
    "\n",
    "tk.Label(root, \n",
    "        text=\"\"\"Elige tu lenguaje de \n",
    "programacion preferido\"\"\",\n",
    "        justify = tk.LEFT,\n",
    "        padx = 20).pack()\n",
    "\n",
    "# Cada grupo de RadioButtons se asocia con una variable (en este caso, v)\n",
    "# que toma el valor de la opción que se pulse\n",
    "tk.Radiobutton(root, \n",
    "              text=\"Python\",\n",
    "              padx = 20, \n",
    "              variable=v, \n",
    "              value=1).pack(anchor=tk.W)\n",
    "tk.Radiobutton(root, \n",
    "              text=\"Java\",\n",
    "              padx = 20, \n",
    "              variable=v, \n",
    "              value=2).pack(anchor=tk.W)\n",
    "\n",
    "root.mainloop()"
   ]
  },
  {
   "cell_type": "markdown",
   "metadata": {},
   "source": [
    "#### Ejemplo más complejo con RadioButtons"
   ]
  },
  {
   "cell_type": "code",
   "execution_count": 43,
   "metadata": {},
   "outputs": [
    {
     "name": "stdout",
     "output_type": "stream",
     "text": [
      "1\n"
     ]
    }
   ],
   "source": [
    "import tkinter as tk\n",
    "\n",
    "root = tk.Tk()\n",
    "\n",
    "v = tk.IntVar()\n",
    "v.set(1)  # inicializamos la opción por defecto\n",
    "\n",
    "lenguajes = [\n",
    "    (\"Python\",1),\n",
    "    (\"Perl\",2),\n",
    "    (\"Java\",3),\n",
    "    (\"C++\",4),\n",
    "    (\"C\",5),\n",
    "    (\"Javascript\",6)\n",
    "]\n",
    "\n",
    "def ShowChoice():\n",
    "    print(v.get())\n",
    "\n",
    "tk.Label(root, \n",
    "         text=\"\"\"Elige tu lenguaje de\n",
    "programación favorito\"\"\",\n",
    "         justify = tk.LEFT,\n",
    "         padx = 20).pack()\n",
    "\n",
    "for language in lenguajes:\n",
    "    tk.Radiobutton(root, \n",
    "                  text=language[0],\n",
    "                  padx = 20, \n",
    "                  variable=v, \n",
    "                  command=ShowChoice,\n",
    "                  value=language[1]).pack(anchor=tk.W)\n",
    "\n",
    "\n",
    "root.mainloop()"
   ]
  },
  {
   "cell_type": "markdown",
   "metadata": {},
   "source": [
    "#### Ejemplos sencillos de CheckBox"
   ]
  },
  {
   "cell_type": "code",
   "execution_count": 48,
   "metadata": {},
   "outputs": [],
   "source": [
    "import tkinter as tk\n",
    "\n",
    "root = tk.Tk()\n",
    "\n",
    "var1 = tk.IntVar()\n",
    "tk.Checkbutton(root, text=\"hombre\", variable=var1).grid(row=0, sticky=tk.W)\n",
    "var2 = tk.IntVar()\n",
    "tk.Checkbutton(root, text=\"mujer\", variable=var2).grid(row=1, sticky=tk.W)\n",
    "\n",
    "root.mainloop()"
   ]
  },
  {
   "cell_type": "code",
   "execution_count": 51,
   "metadata": {},
   "outputs": [
    {
     "name": "stdout",
     "output_type": "stream",
     "text": [
      "hombre: 0,\n",
      "mujer: 0\n",
      "hombre: 1,\n",
      "mujer: 0\n",
      "hombre: 1,\n",
      "mujer: 1\n",
      "hombre: 0,\n",
      "mujer: 1\n",
      "hombre: 0,\n",
      "mujer: 0\n"
     ]
    }
   ],
   "source": [
    "import tkinter as tk\n",
    "\n",
    "def var_states():\n",
    "   print(\"hombre: %d,\\nmujer: %d\" % (var1.get(), var2.get()))\n",
    "\n",
    "root = tk.Tk()\n",
    "\n",
    "tk.Label(root, text=\"Personaje:\").grid(row=0, sticky=tk.W)\n",
    "var1 = tk.IntVar()\n",
    "tk.Checkbutton(root, text=\"hombre\", variable=var1).grid(row=1, sticky=tk.W)\n",
    "var2 = tk.IntVar()\n",
    "tk.Checkbutton(root, text=\"mujer\", variable=var2).grid(row=2, sticky=tk.W)\n",
    "\n",
    "tk.Button(root, text='Salir', command=root.destroy).grid(row=3, sticky=tk.W, pady=4)\n",
    "tk.Button(root, text='Mostrar', command=var_states).grid(row=4, sticky=tk.W, pady=4)\n",
    "\n",
    "root.mainloop()"
   ]
  },
  {
   "cell_type": "markdown",
   "metadata": {},
   "source": [
    "#### Otro ejemplo de CheckBox"
   ]
  },
  {
   "cell_type": "code",
   "execution_count": 4,
   "metadata": {},
   "outputs": [],
   "source": [
    "import tkinter as tk\n",
    "\n",
    "class Checkbar(tk.Frame):\n",
    "   def __init__(self, parent=None, picks=[], side=tk.LEFT, anchor=tk.W):\n",
    "      tk.Frame.__init__(self, parent)\n",
    "      self.vars = []\n",
    "      for pick in picks:\n",
    "         var = tk.IntVar()\n",
    "         chk = tk.Checkbutton(self, text=pick, variable=var)\n",
    "         chk.pack(side=side, anchor=anchor, expand=tk.YES)\n",
    "         self.vars.append(var)\n",
    "   def state(self):\n",
    "      return map((lambda var: var.get()), self.vars)\n",
    "\n",
    "#if __name__ == '__main__':\n",
    "root = tk.Tk()\n",
    "lng = Checkbar(root, ['Python', 'Ruby', 'Perl', 'C++'])\n",
    "tgl = Checkbar(root, ['Inglés','Español'])\n",
    "lng.pack(side=tk.TOP,  fill=tk.X)\n",
    "tgl.pack(side=tk.LEFT)\n",
    "lng.config(relief=tk.GROOVE, bd=2)\n",
    "\n",
    "def allstates(): \n",
    "    print(list(lng.state()), list(tgl.state()))\n",
    "   \n",
    "tk.Button(root, text='Salir', command=root.destroy).pack(side=tk.RIGHT)\n",
    "tk.Button(root, text='Mostrar', command=allstates).pack(side=tk.RIGHT)\n",
    "\n",
    "root.mainloop()"
   ]
  },
  {
   "cell_type": "markdown",
   "metadata": {},
   "source": [
    "#### Ejemplo de Listbox"
   ]
  },
  {
   "cell_type": "code",
   "execution_count": 13,
   "metadata": {},
   "outputs": [],
   "source": [
    "import tkinter as tk\n",
    "\n",
    "root = tk.Tk()\n",
    "\n",
    "Lb1 = tk.Listbox(root)\n",
    "Lb1.insert(1, \"Python\")\n",
    "Lb1.insert(2, \"Perl\")\n",
    "Lb1.insert(3, \"C\")\n",
    "Lb1.insert(4, \"PHP\")\n",
    "Lb1.insert(5, \"JSP\")\n",
    "Lb1.insert(6, \"Ruby\")\n",
    "\n",
    "Lb1.pack()\n",
    "root.mainloop()"
   ]
  },
  {
   "cell_type": "markdown",
   "metadata": {},
   "source": [
    "#### Ejemplo de recogida de datos con Entry"
   ]
  },
  {
   "cell_type": "code",
   "execution_count": 7,
   "metadata": {},
   "outputs": [],
   "source": [
    "import tkinter as tk\n",
    "\n",
    "root = tk.Tk()\n",
    "tk.Label(root, text=\"Nombre\").grid(row=0)\n",
    "tk.Label(root, text=\"Apellido\").grid(row=1)\n",
    "\n",
    "e1 = tk.Entry(root)\n",
    "e2 = tk.Entry(root)\n",
    "\n",
    "e1.grid(row=0, column=1)\n",
    "e2.grid(row=1, column=1)\n",
    "\n",
    "root.mainloop()"
   ]
  },
  {
   "cell_type": "markdown",
   "metadata": {},
   "source": [
    "#### Ejemplo un poco más complejo"
   ]
  },
  {
   "cell_type": "code",
   "execution_count": 9,
   "metadata": {},
   "outputs": [
    {
     "name": "stdout",
     "output_type": "stream",
     "text": [
      "Nombre: Juan\n",
      "Apellido: Nadie\n"
     ]
    }
   ],
   "source": [
    "import tkinter as tk\n",
    "\n",
    "def show_entry_fields():\n",
    "    print(\"Nombre: %s\\nApellido: %s\" % (e1.get(), e2.get()))\n",
    "    # Descomentar si queremos mostrar y limpiar los entries\n",
    "    e1.delete(0, tk.END)\n",
    "    e2.delete(0, tk.END)\n",
    "\n",
    "root = tk.Tk()\n",
    "tk.Label(root, text=\"Nombre\").grid(row=0)\n",
    "tk.Label(root, text=\"Apellido\").grid(row=1)\n",
    "\n",
    "e1 = tk.Entry(root)\n",
    "e2 = tk.Entry(root)\n",
    "\n",
    "e1.grid(row=0, column=1)\n",
    "e2.grid(row=1, column=1)\n",
    "\n",
    "tk.Button(root, \n",
    "          text='Salir', \n",
    "          command=root.destroy).grid(row=3, \n",
    "                                    column=0, \n",
    "                                    sticky=tk.W, \n",
    "                                    pady=4)\n",
    "tk.Button(root, \n",
    "          text='Mostrar', command=show_entry_fields).grid(row=3, \n",
    "                                                       column=1, \n",
    "                                                       sticky=tk.W, \n",
    "                                                       pady=4)\n",
    "\n",
    "root.mainloop()"
   ]
  },
  {
   "cell_type": "markdown",
   "metadata": {},
   "source": [
    "#### Crear un número indeterminado de entries"
   ]
  },
  {
   "cell_type": "code",
   "execution_count": 1,
   "metadata": {},
   "outputs": [
    {
     "name": "stdout",
     "output_type": "stream",
     "text": [
      "Apellido: \"Nadie\"\n",
      "Nombre: \"Juan\"\n",
      "Empleo: \"Ninguno\"\n",
      "País: \"España\"\n",
      "Apellido: \"Nadie\"\n",
      "Nombre: \"Juan\"\n",
      "Empleo: \"Ninguno\"\n",
      "País: \"España\"\n"
     ]
    }
   ],
   "source": [
    "import tkinter as tk\n",
    "\n",
    "fields = 'Apellido', 'Nombre', 'Empleo', 'País'\n",
    "\n",
    "def fetch(entries):\n",
    "    for entry in entries:\n",
    "        field = entry[0]\n",
    "        text  = entry[1].get()\n",
    "        print('%s: \"%s\"' % (field, text)) \n",
    "\n",
    "def makeform(root, fields):\n",
    "    entries = []\n",
    "    for field in fields:\n",
    "        row = tk.Frame(root)\n",
    "        lab = tk.Label(row, width=15, text=field, anchor='w')\n",
    "        ent = tk.Entry(row)\n",
    "        row.pack(side=tk.TOP, fill=tk.X, padx=5, pady=5)\n",
    "        lab.pack(side=tk.LEFT)\n",
    "        ent.pack(side=tk.RIGHT, expand=tk.YES, fill=tk.X)\n",
    "        entries.append((field, ent))\n",
    "    return entries\n",
    "\n",
    "root = tk.Tk()\n",
    "ents = makeform(root, fields)\n",
    "root.bind('<Return>', (lambda event, e=ents: fetch(e))) #tratamos el evento de darle a enter\n",
    "b1 = tk.Button(root, text='Mostrar',\n",
    "               command=(lambda e=ents: fetch(e)))\n",
    "b1.pack(side=tk.LEFT, padx=5, pady=5)\n",
    "b2 = tk.Button(root, text='Salir', command=root.destroy)\n",
    "b2.pack(side=tk.LEFT, padx=5, pady=5)\n",
    "\n",
    "root.mainloop()"
   ]
  },
  {
   "cell_type": "markdown",
   "metadata": {},
   "source": [
    "_Ver ejemplo de calculadora de préstamos en_ https://www.python-course.eu/tkinter_entry_widgets.php"
   ]
  },
  {
   "cell_type": "markdown",
   "metadata": {},
   "source": [
    "#### Ejemplos de Canvas"
   ]
  },
  {
   "cell_type": "code",
   "execution_count": 7,
   "metadata": {},
   "outputs": [],
   "source": [
    "import tkinter\n",
    "root = tk.Tk()\n",
    "\n",
    "canvas_width = 200\n",
    "canvas_height = 50\n",
    "c = tk.Canvas(root, \n",
    "           width=canvas_width,\n",
    "           height=canvas_height)\n",
    "c.pack()\n",
    "\n",
    "y = int(canvas_height / 2)\n",
    "c.create_line(0, y, canvas_width, y, fill=\"#476042\")\n",
    "\n",
    "\n",
    "root.mainloop()"
   ]
  },
  {
   "cell_type": "code",
   "execution_count": 20,
   "metadata": {},
   "outputs": [],
   "source": [
    "import tkinter as tk\n",
    "\n",
    "root = tk.Tk()\n",
    "\n",
    "c = tk.Canvas(root, width=200, height=100)\n",
    "c.pack()\n",
    "\n",
    "c.create_rectangle(50, 20, 150, 80, fill=\"purple\")\n",
    "c.create_rectangle(65, 35, 135, 65, fill=\"yellow\")\n",
    "c.create_line(0, 0, 50, 20, fill=\"#476042\", width=3)\n",
    "c.create_line(0, 100, 50, 80, fill=\"#476042\", width=3)\n",
    "c.create_line(150,20, 200, 0, fill=\"#476042\", width=3)\n",
    "c.create_line(150, 80, 200, 100, fill=\"#476042\", width=3)\n",
    "\n",
    "root.mainloop()"
   ]
  },
  {
   "cell_type": "markdown",
   "metadata": {},
   "source": [
    "#### Ejemplo de Canvas con Texto"
   ]
  },
  {
   "cell_type": "code",
   "execution_count": 34,
   "metadata": {},
   "outputs": [],
   "source": [
    "import tkinter\n",
    "\n",
    "canvas_width = 200\n",
    "canvas_height = 100\n",
    "\n",
    "colours = (\"purple\", \"yellow\")\n",
    "box=[]\n",
    "\n",
    "for ratio in ( 0.2, 0.35 ):\n",
    "   box.append( (canvas_width * ratio,\n",
    "                canvas_height * ratio,\n",
    "                canvas_width * (1 - ratio),\n",
    "                canvas_height * (1 - ratio) ) )\n",
    "\n",
    "root = tk.Tk()\n",
    "\n",
    "w = tk.Canvas(root, \n",
    "           width=canvas_width, \n",
    "           height=canvas_height)\n",
    "w.pack()\n",
    "\n",
    "for i in range(2):\n",
    "   w.create_rectangle(box[i][0], box[i][1],box[i][2],box[i][3], fill=colours[i])\n",
    "\n",
    "w.create_line(0, 0,                 # origin of canvas\n",
    "              box[0][0], box[0][1], # coordinates of left upper corner of the box[0]\n",
    "              fill=colours[0], \n",
    "              width=3)\n",
    "w.create_line(0, canvas_height,     # lower left corner of canvas\n",
    "              box[0][0], box[0][3], # lower left corner of box[0]\n",
    "              fill=colours[0], \n",
    "              width=3)\n",
    "w.create_line(box[0][2],box[0][1],  # right upper corner of box[0] \n",
    "              canvas_width, 0,      # right upper corner of canvas\n",
    "              fill=colours[0], \n",
    "              width=3)\n",
    "w.create_line(box[0][2], box[0][3], # lower right corner pf box[0]\n",
    "              canvas_width, canvas_height, # lower right corner of canvas\n",
    "              fill=colours[0], width=3)\n",
    "\n",
    "w.create_text(canvas_width / 2,\n",
    "              canvas_height / 2,\n",
    "              text=\"Python\")\n",
    "\n",
    "w.create_oval(3,3,200,100,outline=\"red\",width=3)\n",
    "\n",
    "points = [0,0,canvas_width,canvas_height/2, 0, canvas_height]\n",
    "w.create_polygon(points, outline=\"lightgreen\", fill='', width=3)\n",
    "\n",
    "root.mainloop()"
   ]
  },
  {
   "cell_type": "markdown",
   "metadata": {},
   "source": [
    "#### Imágenes en un canvas"
   ]
  },
  {
   "cell_type": "code",
   "execution_count": 3,
   "metadata": {},
   "outputs": [],
   "source": [
    "import tkinter as tk\n",
    "\n",
    "root = tk.Tk()\n",
    "\n",
    "img = tk.PhotoImage(file=\"img/gui/ucm.gif\")\n",
    "canvas_width = img.width()+40\n",
    "canvas_height = img.height()+40\n",
    "\n",
    "canvas = tk.Canvas(root, \n",
    "           width=canvas_width, \n",
    "           height=canvas_height)\n",
    "canvas.pack()\n",
    "\n",
    "#img = tk.PhotoImage(file=\"img/gui/ucm.gif\")\n",
    "canvas.create_image(20,20, anchor=tk.NW, image=img)\n",
    "\n",
    "root.mainloop()"
   ]
  },
  {
   "cell_type": "markdown",
   "metadata": {},
   "source": [
    "#### Ejemplo de slider"
   ]
  },
  {
   "cell_type": "code",
   "execution_count": 14,
   "metadata": {},
   "outputs": [],
   "source": [
    "import tkinter as tk\n",
    "\n",
    "def show_values():\n",
    "    print (w1.get(), w2.get())\n",
    "\n",
    "root = tk.Tk()\n",
    "w1 = tk.Scale(root, from_=0, to=42, tickinterval=8)\n",
    "w1.set(14)\n",
    "w1.pack()\n",
    "w2 = tk.Scale(root, from_=0, to=200, length=600, tickinterval=10, orient=tk.HORIZONTAL)\n",
    "w2.set(76)\n",
    "w2.pack()\n",
    "tk.Button(root, text='Mostrar', command=show_values).pack()\n",
    "\n",
    "root.mainloop()"
   ]
  },
  {
   "cell_type": "markdown",
   "metadata": {},
   "source": [
    "#### Ejemplo de spinbox"
   ]
  },
  {
   "cell_type": "code",
   "execution_count": 18,
   "metadata": {},
   "outputs": [],
   "source": [
    "import tkinter as tk\n",
    "root = tk.Tk()\n",
    "\n",
    "w = tk.Spinbox(root, from_=0, to=10)\n",
    "w.pack()\n",
    "\n",
    "root.mainloop()"
   ]
  },
  {
   "cell_type": "markdown",
   "metadata": {},
   "source": [
    "#### Ejemplo de texto e imagen"
   ]
  },
  {
   "cell_type": "code",
   "execution_count": 19,
   "metadata": {},
   "outputs": [],
   "source": [
    "import tkinter as tk\n",
    "\n",
    "root = tk.Tk()\n",
    "\n",
    "text1 = tk.Text(root, height=30, width=80)\n",
    "photo = tk.PhotoImage(file='./img/gui/quijote.gif')\n",
    "text1.insert(tk.END, '\\n')\n",
    "text1.image_create(tk.END, image=photo)\n",
    "\n",
    "text1.pack(side=tk.LEFT)\n",
    "\n",
    "text2 = tk.Text(root, height=30, width=50)\n",
    "scroll = tk.Scrollbar(root, command=text2.yview)\n",
    "text2.configure(yscrollcommand=scroll.set)\n",
    "text2.tag_configure('bold_italics', font=('Arial', 12, 'bold', 'italic'))\n",
    "text2.tag_configure('big', font=('Verdana', 30, 'bold'))\n",
    "text2.tag_configure('color',\n",
    "                    foreground='#476042',\n",
    "                    font=('Tempus Sans ITC', 12, 'bold'))\n",
    "text2.tag_bind('follow',\n",
    "               '<1>',\n",
    "               lambda e, t=text2: t.insert(tk.END, \"Not now, maybe later!\"))\n",
    "text2.insert(tk.END,'\\nCervantes\\n', 'big')\n",
    "quote = \"\"\"\n",
    "En un lugar de la Mancha, de cuyo nombre \n",
    "no quiero acordarme, no ha mucho tiempo \n",
    "que vivía un hidalgo de los de lanza en \n",
    "astillero, adarga antigua, rocín flaco y \n",
    "galgo corredor. Una olla de algo más vaca \n",
    "que carnero, salpicón las más noches, \n",
    "duelos y quebrantos los sábados, lantejas \n",
    "los viernes, algún palomino de añadidura \n",
    "los domingos, consumían las tres partes de \n",
    "su hacienda. El resto della concluían sayo \n",
    "de velarte, calzas de velludo para las \n",
    "fiestas, con sus pantuflos de lo mesmo, y \n",
    "los días de entresemana se honraba con su \n",
    "vellorí de lo más fino. Tenía en su casa \n",
    "una ama que pasaba de los cuarenta y una \n",
    "sobrina que no llegaba a los veinte, y un \n",
    "mozo de campo y plaza que así ensillaba el \n",
    "rocín como tomaba la podadera. Frisaba la \n",
    "edad de nuestro hidalgo con los cincuenta \n",
    "años. Era de complexión recia, seco de carnes, \n",
    "enjuto de rostro, gran madrugador y amigo de \n",
    "la caza. Quieren decir que tenía el \n",
    "sobrenombre de «Quijada», o «Quesada», que en \n",
    "esto hay alguna diferencia en los autores que \n",
    "deste caso escriben, aunque por conjeturas \n",
    "verisímiles se deja entender que se llamaba \n",
    "«Quijana». Pero esto importa poco a nuestro \n",
    "cuento: basta que en la narración dél no se \n",
    "salga un punto de la verdad.\n",
    "\"\"\"\n",
    "text2.insert(tk.END, quote, 'color')\n",
    "text2.insert(tk.END, 'seguir\\n', 'follow')\n",
    "text2.pack(side=tk.LEFT)\n",
    "scroll.pack(side=tk.RIGHT, fill=tk.Y)\n",
    "\n",
    "root.mainloop()"
   ]
  },
  {
   "cell_type": "markdown",
   "metadata": {},
   "source": [
    "#### Ejemplo de menú"
   ]
  },
  {
   "cell_type": "code",
   "execution_count": 23,
   "metadata": {},
   "outputs": [],
   "source": [
    "import tkinter as tk\n",
    "from tkinter import filedialog as fd\n",
    "from tkinter import messagebox as mb\n",
    "\n",
    "def newFile():\n",
    "    print(\"Archivo nuevo\")\n",
    "def openFile():\n",
    "    name = fd.askopenfilename()\n",
    "    print(name)\n",
    "def about():\n",
    "    mb.showinfo(\"Acerca de...\",\"Ejemplo sencillo de uso de menús\")\n",
    "    \n",
    "root = tk.Tk()\n",
    "menu = tk.Menu(root)\n",
    "root.config(menu=menu)\n",
    "filemenu = tk.Menu(menu)\n",
    "menu.add_cascade(label=\"Archivo\", menu=filemenu)\n",
    "filemenu.add_command(label=\"Nuevo\", command=newFile)\n",
    "filemenu.add_command(label=\"Abrir...\", command=openFile)\n",
    "filemenu.add_separator()\n",
    "filemenu.add_command(label=\"Salir\", command=root.destroy)\n",
    "\n",
    "helpmenu = tk.Menu(menu)\n",
    "menu.add_cascade(label=\"Ayuda\", menu=helpmenu)\n",
    "helpmenu.add_command(label=\"Acerca de...\", command=about)\n",
    "\n",
    "root.mainloop()"
   ]
  },
  {
   "cell_type": "markdown",
   "metadata": {},
   "source": [
    "#### Ejemplos de layouts con Pack"
   ]
  },
  {
   "cell_type": "code",
   "execution_count": 2,
   "metadata": {},
   "outputs": [],
   "source": [
    "# Simple\n",
    "import tkinter as tk\n",
    "\n",
    "root = tk.Tk()\n",
    "\n",
    "w = tk.Label(root, text=\"Red Sun\", bg=\"red\", fg=\"white\")\n",
    "w.pack()\n",
    "w = tk.Label(root, text=\"Green Grass\", bg=\"green\", fg=\"black\")\n",
    "w.pack()\n",
    "w = tk.Label(root, text=\"Blue Sky\", bg=\"blue\", fg=\"white\")\n",
    "w.pack()\n",
    "\n",
    "tk.mainloop()"
   ]
  },
  {
   "cell_type": "code",
   "execution_count": 3,
   "metadata": {},
   "outputs": [],
   "source": [
    "# Con fill\n",
    "import tkinter as tk\n",
    "\n",
    "root = tk.Tk()\n",
    "\n",
    "w = tk.Label(root, text=\"Red Sun\", bg=\"red\", fg=\"white\")\n",
    "w.pack(fill=tk.X)\n",
    "w = tk.Label(root, text=\"Green Grass\", bg=\"green\", fg=\"black\")\n",
    "w.pack(fill=tk.X)\n",
    "w = tk.Label(root, text=\"Blue Sky\", bg=\"blue\", fg=\"white\")\n",
    "w.pack(fill=tk.X)\n",
    "\n",
    "tk.mainloop()"
   ]
  },
  {
   "cell_type": "code",
   "execution_count": 4,
   "metadata": {},
   "outputs": [],
   "source": [
    "# Con padx\n",
    "import tkinter as tk\n",
    "\n",
    "root = tk.Tk()\n",
    "w = tk.Label(root, text=\"Red Sun\", bg=\"red\", fg=\"white\")\n",
    "w.pack(fill=tk.X, padx=10)\n",
    "w = tk.Label(root, text=\"Green Grass\", bg=\"green\", fg=\"black\")\n",
    "w.pack(fill=tk.X, padx=10)\n",
    "w = tk.Label(root, text=\"Blue Sky\", bg=\"blue\", fg=\"white\")\n",
    "w.pack(fill=tk.X, padx=10)\n",
    "tk.mainloop()"
   ]
  },
  {
   "cell_type": "code",
   "execution_count": 5,
   "metadata": {},
   "outputs": [],
   "source": [
    "# con pady\n",
    "import tkinter as tk\n",
    "\n",
    "root = tk.Tk()\n",
    "w = tk.Label(root, text=\"Red Sun\", bg=\"red\", fg=\"white\")\n",
    "w.pack(fill=tk.X, pady=10)\n",
    "w = tk.Label(root, text=\"Green Grass\", bg=\"green\", fg=\"black\")\n",
    "w.pack(fill= tk.X, pady=10)\n",
    "w = tk.Label(root, text=\"Blue Sky\", bg=\"blue\", fg=\"white\")\n",
    "w.pack(fill=tk.X, pady=10)\n",
    "tk.mainloop()"
   ]
  },
  {
   "cell_type": "code",
   "execution_count": 6,
   "metadata": {},
   "outputs": [],
   "source": [
    "# con internal padding ipadx\n",
    "import tkinter as tk\n",
    "\n",
    "root = tk.Tk()\n",
    "w = tk.Label(root, text=\"Red Sun\", bg=\"red\", fg=\"white\")\n",
    "w.pack()\n",
    "w = tk.Label(root, text=\"Green Grass\", bg=\"green\", fg=\"black\")\n",
    "w.pack(ipadx=10)\n",
    "w = tk.Label(root, text=\"Blue Sky\", bg=\"blue\", fg=\"white\")\n",
    "w.pack()\n",
    "tk.mainloop()"
   ]
  },
  {
   "cell_type": "code",
   "execution_count": 7,
   "metadata": {},
   "outputs": [],
   "source": [
    "# Con internal padding ipady\n",
    "import tkinter as tk\n",
    "\n",
    "root = tk.Tk()\n",
    "w = tk.Label(root, text=\"Red Sun\", bg=\"red\", fg=\"white\")\n",
    "w.pack()\n",
    "w = tk.Label(root, text=\"Green Grass\", bg=\"green\", fg=\"black\")\n",
    "w.pack(ipadx=10)\n",
    "w = tk.Label(root, text=\"Blue Sky\", bg=\"blue\", fg=\"white\")\n",
    "w.pack(ipady=10)\n",
    "tk.mainloop()"
   ]
  },
  {
   "cell_type": "code",
   "execution_count": 8,
   "metadata": {},
   "outputs": [],
   "source": [
    "# alineación side by side a la izquierda\n",
    "import tkinter as tk\n",
    "\n",
    "root = tk.Tk()\n",
    "\n",
    "w = tk.Label(root, text=\"red\", bg=\"red\", fg=\"white\")\n",
    "w.pack(padx=5, pady=10, side=tk.LEFT)\n",
    "w = tk.Label(root, text=\"green\", bg=\"green\", fg=\"black\")\n",
    "w.pack(padx=5, pady=20, side=tk.LEFT)\n",
    "w = tk.Label(root, text=\"blue\", bg=\"blue\", fg=\"white\")\n",
    "w.pack(padx=5, pady=20, side=tk.LEFT)\n",
    "tk.mainloop()"
   ]
  },
  {
   "cell_type": "code",
   "execution_count": 9,
   "metadata": {},
   "outputs": [],
   "source": [
    "# alineación side by side a la derecha\n",
    "import tkinter as tk\n",
    "\n",
    "root = tk.Tk()\n",
    "\n",
    "w = tk.Label(root, text=\"red\", bg=\"red\", fg=\"white\")\n",
    "w.pack(padx=5, pady=10, side=tk.RIGHT)\n",
    "w = tk.Label(root, text=\"green\", bg=\"green\", fg=\"black\")\n",
    "w.pack(padx=5, pady=20, side=tk.RIGHT)\n",
    "w = tk.Label(root, text=\"blue\", bg=\"blue\", fg=\"white\")\n",
    "w.pack(padx=5, pady=20, side=tk.RIGHT)\n",
    "tk.mainloop()"
   ]
  },
  {
   "cell_type": "markdown",
   "metadata": {},
   "source": [
    "#### Ejemplo de layout con Place Geometry Manager"
   ]
  },
  {
   "cell_type": "code",
   "execution_count": 10,
   "metadata": {},
   "outputs": [],
   "source": [
    "import tkinter as tk\n",
    "import random\n",
    "    \n",
    "root = tk.Tk()\n",
    "# width x height + x_offset + y_offset:\n",
    "root.geometry(\"170x200+30+30\") \n",
    "     \n",
    "languages = ['Python','Perl','C++','Java','Tcl/Tk']\n",
    "labels = range(5)\n",
    "for i in range(5):\n",
    "   ct = [random.randrange(256) for x in range(3)]\n",
    "   brightness = int(round(0.299*ct[0] + 0.587*ct[1] + 0.114*ct[2]))\n",
    "   ct_hex = \"%02x%02x%02x\" % tuple(ct)\n",
    "   bg_colour = '#' + \"\".join(ct_hex)\n",
    "   l = tk.Label(root, \n",
    "                text=languages[i], \n",
    "                fg='White' if brightness < 120 else 'Black', \n",
    "                bg=bg_colour)\n",
    "   l.place(x = 20, y = 30 + i*30, width=120, height=25)\n",
    "          \n",
    "root.mainloop()"
   ]
  },
  {
   "cell_type": "markdown",
   "metadata": {},
   "source": [
    "#### Ejemplo de layout con grid"
   ]
  },
  {
   "cell_type": "code",
   "execution_count": 13,
   "metadata": {},
   "outputs": [],
   "source": [
    "import tkinter as tk\n",
    "\n",
    "colours = ['red','green','orange','white','yellow','blue']\n",
    "\n",
    "r = 0\n",
    "for c in colours:\n",
    "    tk.Label(text=c, relief=tk.RIDGE, width=15).grid(row=r,column=0)\n",
    "    tk.Entry(bg=c, relief=tk.SUNKEN, width=10).grid(row=r,column=1)\n",
    "    r = r + 1\n",
    "\n",
    "tk.mainloop()"
   ]
  },
  {
   "cell_type": "markdown",
   "metadata": {},
   "source": [
    "#### Ejemplos de eventos"
   ]
  },
  {
   "cell_type": "code",
   "execution_count": 4,
   "metadata": {},
   "outputs": [
    {
     "name": "stdout",
     "output_type": "stream",
     "text": [
      "Single Click, Button-l\n",
      "Single Click, Button-l\n",
      "Single Click, Button-l\n",
      "Single Click, Button-l\n",
      "Double Click, so let's stop\n"
     ]
    }
   ],
   "source": [
    "# Click de ratón\n",
    "import tkinter as tk\n",
    "\n",
    "root=tk.Tk()\n",
    "\n",
    "def hello(event):\n",
    "    print(\"Single Click, Button-l\") \n",
    "def quit(event):                           \n",
    "    print(\"Double Click, so let's stop\") \n",
    "    root.destroy()\n",
    "\n",
    "widget = Button(root, text='Mouse Clicks')\n",
    "widget.pack()\n",
    "widget.bind('<Button-1>', hello)\n",
    "widget.bind('<Double-1>', quit) \n",
    "\n",
    "root.mainloop()"
   ]
  },
  {
   "cell_type": "code",
   "execution_count": 10,
   "metadata": {},
   "outputs": [],
   "source": [
    "import tkinter as tk\n",
    "\n",
    "def motion(event):\n",
    "  print(\"Mouse position: (%s %s)\" % (event.x, event.y))\n",
    "  return\n",
    "\n",
    "root = tk.Tk()\n",
    "texto = \"Yo para ser feliz quiero un camión.\\n(Loquillo)\"\n",
    "msg = tk.Message(root, text = texto)\n",
    "msg.config(bg='lightgreen', font=('times', 24, 'italic'))\n",
    "msg.bind('<Motion>',motion)\n",
    "msg.pack()\n",
    "root.mainloop()"
   ]
  }
 ],
 "metadata": {
  "kernelspec": {
   "display_name": "Python 3 (ipykernel)",
   "language": "python",
   "name": "python3"
  },
  "language_info": {
   "codemirror_mode": {
    "name": "ipython",
    "version": 3
   },
   "file_extension": ".py",
   "mimetype": "text/x-python",
   "name": "python",
   "nbconvert_exporter": "python",
   "pygments_lexer": "ipython3",
   "version": "3.8.16"
  }
 },
 "nbformat": 4,
 "nbformat_minor": 4
}
