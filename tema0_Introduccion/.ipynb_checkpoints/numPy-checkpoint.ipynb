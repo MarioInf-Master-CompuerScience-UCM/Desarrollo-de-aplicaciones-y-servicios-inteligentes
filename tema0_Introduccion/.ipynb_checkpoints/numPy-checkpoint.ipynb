{
 "cells": [
  {
   "cell_type": "markdown",
   "id": "4d088b77",
   "metadata": {},
   "source": [
    "# INTRODUCCIÓN BIBLIOTECA NUMPY"
   ]
  },
  {
   "cell_type": "markdown",
   "id": "40c13199",
   "metadata": {},
   "source": [
    "### 1. Array creation"
   ]
  },
  {
   "cell_type": "code",
   "execution_count": 16,
   "id": "dc4da521",
   "metadata": {},
   "outputs": [
    {
     "name": "stdout",
     "output_type": "stream",
     "text": [
      "Array a\n",
      "42\n",
      "dimension: 0\n",
      "type: <class 'numpy.ndarray'> \n",
      "\n",
      "Array b\n",
      "[1 2 3 4 5]\n",
      "dimension: 1\n",
      "type: <class 'numpy.ndarray'> \n",
      "\n",
      "Array c\n",
      "[[1 2 3]\n",
      " [4 5 6]]\n",
      "dimension: 2\n",
      "type: <class 'numpy.ndarray'> \n",
      "\n",
      "Array d\n",
      "[[[1 2 3]\n",
      "  [4 5 6]]\n",
      "\n",
      " [[1 2 3]\n",
      "  [4 5 6]]]\n",
      "dimension: 3\n",
      "type: <class 'numpy.ndarray'> \n",
      "\n",
      "Array e\n",
      "[[[[[1 2 3 4]]]]]\n",
      "dimension: 5\n",
      "type: <class 'numpy.ndarray'> \n",
      "\n"
     ]
    }
   ],
   "source": [
    "import numpy as np\n",
    "\n",
    "a = np.array(42);\n",
    "b = np.array([1, 2, 3, 4, 5]);\n",
    "c = np.array([[1, 2, 3], [4, 5, 6]]);\n",
    "d = np.array([[[1, 2, 3], [4, 5, 6]], [[1, 2, 3], [4, 5, 6]]]);\n",
    "e = np.array([1, 2, 3, 4], ndmin=5)\n",
    "\n",
    "print(\"Array a\"); print(a); print(\"dimension:\", a.ndim); print(\"type:\", type(a), \"\\n\");\n",
    "print(\"Array b\"); print(b); print(\"dimension:\", b.ndim); print(\"type:\", type(b), \"\\n\");\n",
    "print(\"Array c\"); print(c); print(\"dimension:\", c.ndim); print(\"type:\", type(c), \"\\n\");\n",
    "print(\"Array d\"); print(d); print(\"dimension:\", d.ndim); print(\"type:\", type(d), \"\\n\");\n",
    "print(\"Array e\"); print(e); print(\"dimension:\", e.ndim); print(\"type:\", type(e), \"\\n\");"
   ]
  },
  {
   "cell_type": "markdown",
   "id": "f59393f1",
   "metadata": {},
   "source": [
    "### 2. Element access"
   ]
  },
  {
   "cell_type": "code",
   "execution_count": 19,
   "id": "b7e3d69a",
   "metadata": {},
   "outputs": [
    {
     "name": "stdout",
     "output_type": "stream",
     "text": [
      "[1 2 3 4]\n",
      "1\n",
      "7\n"
     ]
    }
   ],
   "source": [
    "arr = np.array([1, 2, 3, 4]);\n",
    "\n",
    "print(arr);\n",
    "print(arr[0]);\n",
    "print(arr[2] + arr[3]);"
   ]
  },
  {
   "cell_type": "markdown",
   "id": "286aea7f",
   "metadata": {},
   "source": [
    "### 3. Array slicing\n",
    "Slicing in python means taking elements from one given index to another given index.\n",
    "\n",
    "We pass slice instead of index like this: [start:end].\n",
    "\n",
    "We can also define the step, like this: [start:end:step]."
   ]
  },
  {
   "cell_type": "code",
   "execution_count": 20,
   "id": "d297f19d",
   "metadata": {},
   "outputs": [
    {
     "name": "stdout",
     "output_type": "stream",
     "text": [
      "[1 2 3 4 5 6 7]\n",
      "[2 3 4 5]\n",
      "[5 6 7]\n",
      "[1 2 3 4]\n",
      "[5 6]\n"
     ]
    }
   ],
   "source": [
    "arr = np.array([1, 2, 3, 4, 5, 6, 7])\n",
    "\n",
    "print(arr)\n",
    "print(arr[1:5])\n",
    "print(arr[4:])\n",
    "print(arr[:4])\n",
    "print(arr[-3:-1])"
   ]
  },
  {
   "cell_type": "markdown",
   "id": "518e3c5b",
   "metadata": {},
   "source": [
    "### 4. Elements Type\n",
    "NumPy has some extra data types, and refer to data types with one character, like i for integers, u for unsigned integers etc.Below is a list of all data types in NumPy and the characters used to represent them.\n",
    "\n",
    "i - integer                  b - boolean              u - unsigned integer            f - float\n",
    "\n",
    "c - complex float            m - timedelta            M - datetime                    O - object\n",
    "\n",
    "S - string                   U - unicode string       V - fixed chunk of memory for other type ( void )"
   ]
  },
  {
   "cell_type": "code",
   "execution_count": 22,
   "id": "cc344baa",
   "metadata": {},
   "outputs": [
    {
     "name": "stdout",
     "output_type": "stream",
     "text": [
      "int64\n",
      "<U6\n",
      "|S1\n"
     ]
    }
   ],
   "source": [
    "a = np.array([1, 2, 3, 4])\n",
    "b = np.array(['apple', 'banana', 'cherry'])\n",
    "c = np.array([1, 2, 3, 4], dtype='S')\n",
    "\n",
    "print(a.dtype)\n",
    "print(b.dtype)\n",
    "print(c.dtype)"
   ]
  },
  {
   "cell_type": "markdown",
   "id": "a684b4a1",
   "metadata": {},
   "source": [
    "### 5. The Difference Between Copy and View\n",
    "\n",
    "The main difference between a copy and a view of an array is that the copy is a new array, and the view is just a view of the original array.\n",
    "\n",
    "The copy owns the data and any changes made to the copy will not affect original array, and any changes made to the original array will not affect the copy.\n",
    "\n",
    "The view does not own the data and any changes made to the view will affect the original array, and any changes made to the original array will affect the view."
   ]
  },
  {
   "cell_type": "code",
   "execution_count": 26,
   "id": "91e92e4d",
   "metadata": {},
   "outputs": [
    {
     "name": "stdout",
     "output_type": "stream",
     "text": [
      "Original: [42  2  3  4  5]\n",
      "Copy: [1 2 3 4 5]\n",
      "View: [42  2  3  4  5]\n"
     ]
    }
   ],
   "source": [
    "arr = np.array([1, 2, 3, 4, 5])\n",
    "arr2 = arr.copy()\n",
    "arr3 = arr.view()\n",
    "arr[0] = 42\n",
    "\n",
    "print(\"Original:\", arr)\n",
    "print(\"Copy:\", arr2)\n",
    "print(\"View:\", arr3)"
   ]
  },
  {
   "cell_type": "markdown",
   "id": "f12f5f4a",
   "metadata": {},
   "source": [
    "### 6. Number of elements (shape)\n",
    "\n",
    "The shape of an array is the number of elements in each dimension. NumPy arrays have an attribute called shape that returns a tuple with each index having the number of corresponding elements."
   ]
  },
  {
   "cell_type": "code",
   "execution_count": 27,
   "id": "4636420a",
   "metadata": {},
   "outputs": [
    {
     "name": "stdout",
     "output_type": "stream",
     "text": [
      "[[1 2 3 4]\n",
      " [5 6 7 8]]\n",
      "shape of array : (2, 4) \n",
      "\n",
      "[[[[[1 2 3 4]]]]]\n",
      "shape of array : (1, 1, 1, 1, 4) \n",
      "\n"
     ]
    }
   ],
   "source": [
    "arr = np.array([[1, 2, 3, 4], [5, 6, 7, 8]])\n",
    "arr2 = np.array([1, 2, 3, 4], ndmin=5)\n",
    "\n",
    "print(arr)\n",
    "print('shape of array :', arr.shape, \"\\n\")\n",
    "print(arr2)\n",
    "print('shape of array :', arr2.shape, \"\\n\")"
   ]
  },
  {
   "cell_type": "markdown",
   "id": "cc189a27",
   "metadata": {},
   "source": [
    "### 7. Reshaping arrays\n",
    "\n",
    "Reshaping means changing the shape of an array. The shape of an array is the number of elements in each dimension.\n",
    "\n",
    "By reshaping we can add or remove dimensions or change number of elements in each dimension."
   ]
  },
  {
   "cell_type": "code",
   "execution_count": 30,
   "id": "7f0037df",
   "metadata": {},
   "outputs": [
    {
     "name": "stdout",
     "output_type": "stream",
     "text": [
      "Original 1D:\n",
      " [ 1  2  3  4  5  6  7  8  9 10 11 12] \n",
      "\n",
      "Redimension 2D:\n",
      " [[ 1  2  3]\n",
      " [ 4  5  6]\n",
      " [ 7  8  9]\n",
      " [10 11 12]] \n",
      "\n",
      "Redimension 3D:\n",
      " [[[ 1  2]\n",
      "  [ 3  4]\n",
      "  [ 5  6]]\n",
      "\n",
      " [[ 7  8]\n",
      "  [ 9 10]\n",
      "  [11 12]]] \n",
      "\n"
     ]
    }
   ],
   "source": [
    "arr = np.array([1, 2, 3, 4, 5, 6, 7, 8, 9, 10, 11, 12])\n",
    "arr2 = arr.reshape(4, 3)\n",
    "arr3 = arr.reshape(2, 3, 2)\n",
    "\n",
    "print(\"Original 1D:\\n\", arr, \"\\n\")\n",
    "print(\"Redimension 2D:\\n\", arr2, \"\\n\")\n",
    "print(\"Redimension 3D:\\n\", arr3, \"\\n\")"
   ]
  },
  {
   "cell_type": "markdown",
   "id": "d05b6a12",
   "metadata": {},
   "source": [
    "### 8. Iteration Array\n",
    "\n",
    "Iterating means going through elements one by one. As we deal with multi-dimensional arrays in numpy, we can do this using basic for loop of python.\n",
    "\n",
    "The function nditer() is a helping function that can be used from very basic to very advanced iterations. It solves some basic issues which we face in iteration, lets go through it with examples."
   ]
  },
  {
   "cell_type": "code",
   "execution_count": 34,
   "id": "37edd2b5",
   "metadata": {},
   "outputs": [
    {
     "name": "stdout",
     "output_type": "stream",
     "text": [
      "1 - 2 - 3 - 4 - 5 - 6 - 7 - 8 - "
     ]
    }
   ],
   "source": [
    "arr = np.array([[[1, 2], [3, 4]], [[5, 6], [7, 8]]])\n",
    "\n",
    "for x in np.nditer(arr):\n",
    "  print(x, end=\" - \")"
   ]
  },
  {
   "cell_type": "markdown",
   "id": "a4dd9a22",
   "metadata": {},
   "source": [
    "### 9. Joining NumPy Arrays\n",
    "\n",
    "Joining means putting contents of two or more arrays in a single array. In SQL we join tables based on a key, whereas in NumPy we join arrays by axes.\n",
    "\n",
    "We pass a sequence of arrays that we want to join to the concatenate() function, along with the axis. If axis is not explicitly passed, it is taken as 0."
   ]
  },
  {
   "cell_type": "code",
   "execution_count": 44,
   "id": "26dfb08d",
   "metadata": {},
   "outputs": [
    {
     "name": "stdout",
     "output_type": "stream",
     "text": [
      "[1 2 3 4 5 6] \n",
      "\n",
      "[[1 2]\n",
      " [3 4]\n",
      " [5 6]\n",
      " [7 8]] \n",
      "\n",
      "[[1 2 5 6]\n",
      " [3 4 7 8]] \n",
      "\n"
     ]
    }
   ],
   "source": [
    "arr1 = np.array([1, 2, 3])\n",
    "arr2 = np.array([4, 5, 6])\n",
    "arr = np.concatenate((arr1, arr2))\n",
    "print(arr, \"\\n\")\n",
    "\n",
    "arr1 = np.array([[1, 2], [3, 4]])\n",
    "arr2 = np.array([[5, 6], [7, 8]])\n",
    "arr = np.concatenate((arr1, arr2), axis=0)\n",
    "print(arr, \"\\n\")\n",
    "arr = np.concatenate((arr1, arr2), axis=1)\n",
    "print(arr, \"\\n\")"
   ]
  },
  {
   "cell_type": "markdown",
   "id": "3960012f",
   "metadata": {},
   "source": [
    "Stacking is same as concatenation, the only difference is that stacking is done along a new axis.\n",
    "\n",
    "We can concatenate two 1-D arrays along the second axis which would result in putting them one over the other, ie. stacking.\n",
    "\n",
    "We pass a sequence of arrays that we want to join to the stack() method along with the axis. If axis is not explicitly passed it is taken as 0.\n",
    "\n"
   ]
  },
  {
   "cell_type": "code",
   "execution_count": 45,
   "id": "b5da0b10",
   "metadata": {},
   "outputs": [
    {
     "name": "stdout",
     "output_type": "stream",
     "text": [
      "[[1 4]\n",
      " [2 5]\n",
      " [3 6]]\n"
     ]
    }
   ],
   "source": [
    "arr1 = np.array([1, 2, 3])\n",
    "arr2 = np.array([4, 5, 6])\n",
    "arr = np.stack((arr1, arr2), axis=1)\n",
    "\n",
    "print(arr)"
   ]
  },
  {
   "cell_type": "markdown",
   "id": "de5e1959",
   "metadata": {},
   "source": [
    "NumPy provides a helper function: hstack() to stack along rows.\n",
    "\n",
    "NumPy provides a helper function: vstack()  to stack along columns.\n",
    "\n",
    "NumPy provides a helper function: dstack() to stack along height, which is the same as depth."
   ]
  },
  {
   "cell_type": "code",
   "execution_count": 46,
   "id": "89a5f758",
   "metadata": {},
   "outputs": [
    {
     "name": "stdout",
     "output_type": "stream",
     "text": [
      "[1 2 3 4 5 6] \n",
      "\n",
      "[[1 2 3]\n",
      " [4 5 6]] \n",
      "\n",
      "[[[1 4]\n",
      "  [2 5]\n",
      "  [3 6]]] \n",
      "\n"
     ]
    }
   ],
   "source": [
    "arr1 = np.array([1, 2, 3])\n",
    "arr2 = np.array([4, 5, 6])\n",
    "arr = np.hstack((arr1, arr2))\n",
    "print(arr, \"\\n\")\n",
    "\n",
    "arr = np.vstack((arr1, arr2))\n",
    "print(arr, \"\\n\")\n",
    "\n",
    "arr = np.dstack((arr1, arr2))\n",
    "print(arr, \"\\n\")"
   ]
  },
  {
   "cell_type": "markdown",
   "id": "635e6d23",
   "metadata": {},
   "source": [
    "### Splitting NumPy Arrays\n",
    "Splitting is reverse operation of Joining. Joining merges multiple arrays into one and Splitting breaks one array into multiple.\n",
    "\n",
    "We use array_split() for splitting arrays, we pass it the array we want to split and the number of splits."
   ]
  },
  {
   "cell_type": "code",
   "execution_count": 54,
   "id": "f524b49c",
   "metadata": {},
   "outputs": [
    {
     "name": "stdout",
     "output_type": "stream",
     "text": [
      "[array([1, 2]), array([3, 4]), array([5, 6])] \n",
      "\n",
      "[array([1, 2]), array([3, 4]), array([5]), array([6])] \n",
      "\n",
      "[array([[1, 2],\n",
      "       [3, 4]]), array([[5, 6],\n",
      "       [7, 8]]), array([[ 9, 10],\n",
      "       [11, 12]])] \n",
      "\n",
      "[array([[ 1],\n",
      "       [ 3],\n",
      "       [ 5],\n",
      "       [ 7],\n",
      "       [ 9],\n",
      "       [11]]), array([[ 2],\n",
      "       [ 4],\n",
      "       [ 6],\n",
      "       [ 8],\n",
      "       [10],\n",
      "       [12]]), array([], shape=(6, 0), dtype=int64)] \n",
      "\n"
     ]
    }
   ],
   "source": [
    "arr = np.array([1, 2, 3, 4, 5, 6])\n",
    "arr2 = np.array_split(arr, 3)\n",
    "print(arr2, \"\\n\")\n",
    "arr2 = np.array_split(arr, 4)\n",
    "print(arr2, \"\\n\")\n",
    "\n",
    "arr = np.array([[1, 2], [3, 4], [5, 6], [7, 8], [9, 10], [11, 12]])\n",
    "arr2 = np.array_split(arr, 3)\n",
    "print(arr2, \"\\n\")\n",
    "arr2 = np.array_split(arr, 3, axis=1)\n",
    "print(arr2, \"\\n\")"
   ]
  },
  {
   "cell_type": "code",
   "execution_count": null,
   "id": "51c60689",
   "metadata": {},
   "outputs": [],
   "source": []
  }
 ],
 "metadata": {
  "kernelspec": {
   "display_name": "Python 3 (ipykernel)",
   "language": "python",
   "name": "python3"
  },
  "language_info": {
   "codemirror_mode": {
    "name": "ipython",
    "version": 3
   },
   "file_extension": ".py",
   "mimetype": "text/x-python",
   "name": "python",
   "nbconvert_exporter": "python",
   "pygments_lexer": "ipython3",
   "version": "3.9.12"
  }
 },
 "nbformat": 4,
 "nbformat_minor": 5
}
